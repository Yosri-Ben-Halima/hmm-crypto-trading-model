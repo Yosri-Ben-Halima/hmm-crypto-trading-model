{
 "cells": [
  {
   "cell_type": "markdown",
   "id": "74b1c0a1",
   "metadata": {},
   "source": [
    "<h1 style=\"text-align: center;\">Hidden Markov Model Regime Detection and Backtesting</h1>"
   ]
  },
  {
   "cell_type": "markdown",
   "id": "5bbefd2c",
   "metadata": {},
   "source": [
    "# Introduction"
   ]
  },
  {
   "cell_type": "markdown",
   "id": "78a447b9",
   "metadata": {},
   "source": [
    "Financial markets are often described as noisy, chaotic systems where price movements seem random at first glance. Yet, beneath the surface, regimes and patterns can emerge, especially in highly volatile assets like Bitcoin. Traditional approaches such as “HODLing” (which means buy & hold according if you are not familiar with Reddit's finance slang) have gained popularity for their simplicity, but they come with significant risks: full exposure to market drawdowns and limited adaptability to market shifts.\n",
    "\n",
    "This project explores a **Hidden Markov Model (HMM)** framework for trading Bitcoin. HMMs are statistical models designed to uncover hidden states in time-series data, making them a natural fit for regime-switching strategies. Instead of committing to a static buy-and-hold approach, the model dynamically adjusts exposure between Bitcoin and cash, depending on the inferred market regime.\n",
    "\n",
    "To evaluate performance, I ran **1,000 Monte Carlo simulations** on a test dataset covering January to August 2025, benchmarking against a simple HODL strategy. The goal is not just to achieve higher returns, but to measure **risk-adjusted performance, drawdown management, and consistency** across multiple simulation paths."
   ]
  },
  {
   "cell_type": "code",
   "execution_count": 1,
   "id": "5f820af5",
   "metadata": {},
   "outputs": [],
   "source": [
    "from src.data_loader import DataLoader\n",
    "from src.feature_engineering import FeatureEngineer\n",
    "from src.hmm_model import HMMModel\n",
    "from src.backtester import Backtester\n",
    "from src.plotting import Plotter\n",
    "from utils.helpers import parse_metrics_str, output_performance_summary\n",
    "from src.mc_backtester import MCBacktester\n",
    "\n",
    "plotter = Plotter()"
   ]
  },
  {
   "cell_type": "markdown",
   "id": "bd3337ad",
   "metadata": {},
   "source": [
    "# 1. Setup & Assumptions"
   ]
  },
  {
   "cell_type": "markdown",
   "id": "4c226c53",
   "metadata": {},
   "source": [
    "The proposed Hidden Markov Model trading strategy is applied to the Bitcoin spot market (`BTCUSDT`) over the period from **December 18, 2022**, to **August 22, 2025**. The historical dataset is divided into a **training** set spanning **December 18, 2022**, to **January 1, 2025**, and a **testing** set covering **January 1, 2025**, to **August 22, 2025**. Daily price observations are used to construct the input features for the model.\n",
    "\n",
    "The HMM is configured with **six hidden states** to capture potential market regimes. The initial capital for backtesting is set at USD 10,000. Transaction costs are incorporated through a **commission of 0.1% per trade** on both the **buy** and **sell** sides, and a **slippage factor of 0.01%** is applied to all executed trades. Such assumptions capture real world friction reasonably well. In fact, during the January–August 2025 backtest period, **stablecoin inflows** and **institutional demand** remained robust, and `BTCUSDT` was highly liquid on Binance with **deep order books**. Consequently, **execution slippage** for \\$10k market orders was **generally negligible**, making Binance’s 0.10% commission fee the **primary transaction cost**. To reduce excessive portfolio **churn**, a **minimum holding period of one day** is imposed. **Short selling** is **not permitted** in this setup.\n",
    "\n",
    "Given that the fitting and state inference procedures are **computationally efficient**, it is justifiable to perform the **execution at the end of the trading day** (e.g., 23:55). At this point, the observed price serves as a **reliable proxy for the daily closing value**, thereby enabling its use as an approximation of the **close price** in the computations while mitigating the risk of introducing **lookahead bias**.\n",
    "\n",
    "These assumptions are intended to reflect a realistic trading environment for Bitcoin spot trading, incorporating costs, execution constraints, and practical trading limitations.\n"
   ]
  },
  {
   "cell_type": "markdown",
   "id": "ca7d4d36",
   "metadata": {},
   "source": [
    "# 2. Data Collection & Preprocessing"
   ]
  },
  {
   "cell_type": "markdown",
   "id": "79a4ad82",
   "metadata": {},
   "source": [
    "## 2.1. Loading Data"
   ]
  },
  {
   "cell_type": "markdown",
   "id": "ab3ab150",
   "metadata": {},
   "source": [
    "Historical price data for Bitcoin (`BTCUSDT`) is retrieved from **Binance API** at a daily frequency over the period December 18, 2022, to August 22nd, 2025. The dataset includes standard `OHLC` (`Open`, `High`, `Low`, `Close`) fields and serves as the foundation for feature construction. All calculations are performed on the closing prices, which are used to compute log returns, volatility, momentum, and RSI indicators."
   ]
  },
  {
   "cell_type": "code",
   "execution_count": 2,
   "id": "bdd9bf1d",
   "metadata": {},
   "outputs": [
    {
     "name": "stdout",
     "output_type": "stream",
     "text": [
      "2025-09-03 16:34:02 - src.data_loader - INFO - Fetching data for BTCUSDT from Binance API...\n",
      "2025-09-03 16:34:02 - src.data_loader - INFO - Data fetched successfully.\n"
     ]
    }
   ],
   "source": [
    "data_loader = DataLoader()\n",
    "raw_data = data_loader.get_data(focus=\"reproduction\")"
   ]
  },
  {
   "cell_type": "markdown",
   "id": "f0dc8233",
   "metadata": {},
   "source": [
    "## 2.2. Feature Engineering"
   ]
  },
  {
   "cell_type": "markdown",
   "id": "543cfc0c",
   "metadata": {},
   "source": [
    "To train and evaluate the Hidden Markov Model, several features were engineered from the raw Bitcoin price data. These features capture different aspects of market behavior, such as returns, volatility, momentum and relative strength. The following table provides an overview of the engineered variables, the formulas used to compute them, and the intuition behind their role in capturing market dynamics:  \n",
    "\n",
    "<h3 style=\"text-align: center;\">Feature Summary</h3>\n",
    "\n",
    "| **Feature** | **Formula** | **Financial Intuition** |\n",
    "|-------------|-------------|--------------------------|\n",
    "| **Log Return** ($r_t$) | $\\displaystyle r_t = \\ln\\left(\\tfrac{P_t}{P_{t-1}}\\right)$ | Captures the daily relative **close price ($P_t$) change**, expressed continuously. |\n",
    "| **21-day Volatility** ($\\sigma_{21,t}$) | $\\displaystyle \\sigma_{21,t} = \\sqrt{\\frac{365}{21} \\sum_{i=0}^{20} \\left( r_{t-i} - \\bar{r}_{21,t} \\right)^2} \\\\ \\text{where } \\bar{r}_{21,t} = \\frac{1}{21} \\sum_{i=0}^{20} r_{t-i}$ | Measures annualized **realized volatility**. It reflects market **risk** and **uncertainty**. |\n",
    "| **RSI (14-day)** ($\\text{RSI}_t$) | $\\displaystyle \\text{RSI}_t = 100 - \\frac{100}{1 + RS_t} \\\\ \\text{where } RS_t = \\tfrac{\\text{Avg Gain}_{14}}{\\text{Avg Loss}_{14}}$ | A bounded oscillator (0–100) capturing **overbought** ($\\text{RSI}_t>70$) or **oversold** ($\\text{RSI}_t<30$) conditions. |\n"
   ]
  },
  {
   "cell_type": "code",
   "execution_count": 3,
   "id": "01d8288c",
   "metadata": {},
   "outputs": [
    {
     "name": "stdout",
     "output_type": "stream",
     "text": [
      "2025-09-03 16:34:02 - src.feature_engineering - INFO - Engineering Features...\n",
      "2025-09-03 16:34:02 - src.feature_engineering - INFO - Features ready.\n"
     ]
    }
   ],
   "source": [
    "feature_engineer = FeatureEngineer()\n",
    "df, features = feature_engineer.build_features(raw_data)"
   ]
  },
  {
   "cell_type": "markdown",
   "id": "4db77bcb",
   "metadata": {},
   "source": [
    "Also, the correlation between the selected features was examined to ensure that our model does not include highly correlated variables, which could lead to redundancy and amplify noise in predictions. As shown in the correlation matrix, all off-diagonal correlations are relatively low: the correlation between Returns and 21-Day Volatility is only 0.046, between Returns and RSI is 0.351, and between 21-Day Volatility and RSI is 0.056. These low correlations indicate that the features provide largely independent information, reducing the risk of multicollinearity and ensuring that the model can learn meaningful relationships for the hidden states without echoing the same patterns across multiple variables."
   ]
  },
  {
   "cell_type": "code",
   "execution_count": 4,
   "id": "710c6f97",
   "metadata": {},
   "outputs": [
    {
     "data": {
      "application/vnd.plotly.v1+json": {
       "config": {
        "plotlyServerURL": "https://plot.ly"
       },
       "data": [
        {
         "colorbar": {
          "title": {
           "text": "Correlation"
          }
         },
         "colorscale": [
          [
           0,
           "rgb(103,0,31)"
          ],
          [
           0.1,
           "rgb(178,24,43)"
          ],
          [
           0.2,
           "rgb(214,96,77)"
          ],
          [
           0.3,
           "rgb(244,165,130)"
          ],
          [
           0.4,
           "rgb(253,219,199)"
          ],
          [
           0.5,
           "rgb(247,247,247)"
          ],
          [
           0.6,
           "rgb(209,229,240)"
          ],
          [
           0.7,
           "rgb(146,197,222)"
          ],
          [
           0.8,
           "rgb(67,147,195)"
          ],
          [
           0.9,
           "rgb(33,102,172)"
          ],
          [
           1,
           "rgb(5,48,97)"
          ]
         ],
         "type": "heatmap",
         "x": [
          "ret",
          "vol21",
          "rsi"
         ],
         "y": [
          "ret",
          "vol21",
          "rsi"
         ],
         "z": {
          "bdata": "AAAAAAAA8D/DzOQWdcGnP+LZEGuVetY/w8zkFnXBpz8AAAAAAADwP85R1CmDv6w/4tkQa5V61j/OUdQpg7+sPwAAAAAAAPA/",
          "dtype": "f8",
          "shape": "3, 3"
         },
         "zmax": 1,
         "zmin": -1
        }
       ],
       "layout": {
        "annotations": [
         {
          "font": {
           "color": "white"
          },
          "showarrow": false,
          "text": "1.00",
          "x": "ret",
          "y": "ret"
         },
         {
          "font": {
           "color": "green"
          },
          "showarrow": false,
          "text": "0.05",
          "x": "vol21",
          "y": "ret"
         },
         {
          "font": {
           "color": "green"
          },
          "showarrow": false,
          "text": "0.35",
          "x": "rsi",
          "y": "ret"
         },
         {
          "font": {
           "color": "green"
          },
          "showarrow": false,
          "text": "0.05",
          "x": "ret",
          "y": "vol21"
         },
         {
          "font": {
           "color": "white"
          },
          "showarrow": false,
          "text": "1.00",
          "x": "vol21",
          "y": "vol21"
         },
         {
          "font": {
           "color": "green"
          },
          "showarrow": false,
          "text": "0.06",
          "x": "rsi",
          "y": "vol21"
         },
         {
          "font": {
           "color": "green"
          },
          "showarrow": false,
          "text": "0.35",
          "x": "ret",
          "y": "rsi"
         },
         {
          "font": {
           "color": "green"
          },
          "showarrow": false,
          "text": "0.06",
          "x": "vol21",
          "y": "rsi"
         },
         {
          "font": {
           "color": "white"
          },
          "showarrow": false,
          "text": "1.00",
          "x": "rsi",
          "y": "rsi"
         }
        ],
        "height": 700,
        "template": {
         "data": {
          "bar": [
           {
            "error_x": {
             "color": "#f2f5fa"
            },
            "error_y": {
             "color": "#f2f5fa"
            },
            "marker": {
             "line": {
              "color": "rgb(17,17,17)",
              "width": 0.5
             },
             "pattern": {
              "fillmode": "overlay",
              "size": 10,
              "solidity": 0.2
             }
            },
            "type": "bar"
           }
          ],
          "barpolar": [
           {
            "marker": {
             "line": {
              "color": "rgb(17,17,17)",
              "width": 0.5
             },
             "pattern": {
              "fillmode": "overlay",
              "size": 10,
              "solidity": 0.2
             }
            },
            "type": "barpolar"
           }
          ],
          "carpet": [
           {
            "aaxis": {
             "endlinecolor": "#A2B1C6",
             "gridcolor": "#506784",
             "linecolor": "#506784",
             "minorgridcolor": "#506784",
             "startlinecolor": "#A2B1C6"
            },
            "baxis": {
             "endlinecolor": "#A2B1C6",
             "gridcolor": "#506784",
             "linecolor": "#506784",
             "minorgridcolor": "#506784",
             "startlinecolor": "#A2B1C6"
            },
            "type": "carpet"
           }
          ],
          "choropleth": [
           {
            "colorbar": {
             "outlinewidth": 0,
             "ticks": ""
            },
            "type": "choropleth"
           }
          ],
          "contour": [
           {
            "colorbar": {
             "outlinewidth": 0,
             "ticks": ""
            },
            "colorscale": [
             [
              0,
              "#0d0887"
             ],
             [
              0.1111111111111111,
              "#46039f"
             ],
             [
              0.2222222222222222,
              "#7201a8"
             ],
             [
              0.3333333333333333,
              "#9c179e"
             ],
             [
              0.4444444444444444,
              "#bd3786"
             ],
             [
              0.5555555555555556,
              "#d8576b"
             ],
             [
              0.6666666666666666,
              "#ed7953"
             ],
             [
              0.7777777777777778,
              "#fb9f3a"
             ],
             [
              0.8888888888888888,
              "#fdca26"
             ],
             [
              1,
              "#f0f921"
             ]
            ],
            "type": "contour"
           }
          ],
          "contourcarpet": [
           {
            "colorbar": {
             "outlinewidth": 0,
             "ticks": ""
            },
            "type": "contourcarpet"
           }
          ],
          "heatmap": [
           {
            "colorbar": {
             "outlinewidth": 0,
             "ticks": ""
            },
            "colorscale": [
             [
              0,
              "#0d0887"
             ],
             [
              0.1111111111111111,
              "#46039f"
             ],
             [
              0.2222222222222222,
              "#7201a8"
             ],
             [
              0.3333333333333333,
              "#9c179e"
             ],
             [
              0.4444444444444444,
              "#bd3786"
             ],
             [
              0.5555555555555556,
              "#d8576b"
             ],
             [
              0.6666666666666666,
              "#ed7953"
             ],
             [
              0.7777777777777778,
              "#fb9f3a"
             ],
             [
              0.8888888888888888,
              "#fdca26"
             ],
             [
              1,
              "#f0f921"
             ]
            ],
            "type": "heatmap"
           }
          ],
          "histogram": [
           {
            "marker": {
             "pattern": {
              "fillmode": "overlay",
              "size": 10,
              "solidity": 0.2
             }
            },
            "type": "histogram"
           }
          ],
          "histogram2d": [
           {
            "colorbar": {
             "outlinewidth": 0,
             "ticks": ""
            },
            "colorscale": [
             [
              0,
              "#0d0887"
             ],
             [
              0.1111111111111111,
              "#46039f"
             ],
             [
              0.2222222222222222,
              "#7201a8"
             ],
             [
              0.3333333333333333,
              "#9c179e"
             ],
             [
              0.4444444444444444,
              "#bd3786"
             ],
             [
              0.5555555555555556,
              "#d8576b"
             ],
             [
              0.6666666666666666,
              "#ed7953"
             ],
             [
              0.7777777777777778,
              "#fb9f3a"
             ],
             [
              0.8888888888888888,
              "#fdca26"
             ],
             [
              1,
              "#f0f921"
             ]
            ],
            "type": "histogram2d"
           }
          ],
          "histogram2dcontour": [
           {
            "colorbar": {
             "outlinewidth": 0,
             "ticks": ""
            },
            "colorscale": [
             [
              0,
              "#0d0887"
             ],
             [
              0.1111111111111111,
              "#46039f"
             ],
             [
              0.2222222222222222,
              "#7201a8"
             ],
             [
              0.3333333333333333,
              "#9c179e"
             ],
             [
              0.4444444444444444,
              "#bd3786"
             ],
             [
              0.5555555555555556,
              "#d8576b"
             ],
             [
              0.6666666666666666,
              "#ed7953"
             ],
             [
              0.7777777777777778,
              "#fb9f3a"
             ],
             [
              0.8888888888888888,
              "#fdca26"
             ],
             [
              1,
              "#f0f921"
             ]
            ],
            "type": "histogram2dcontour"
           }
          ],
          "mesh3d": [
           {
            "colorbar": {
             "outlinewidth": 0,
             "ticks": ""
            },
            "type": "mesh3d"
           }
          ],
          "parcoords": [
           {
            "line": {
             "colorbar": {
              "outlinewidth": 0,
              "ticks": ""
             }
            },
            "type": "parcoords"
           }
          ],
          "pie": [
           {
            "automargin": true,
            "type": "pie"
           }
          ],
          "scatter": [
           {
            "marker": {
             "line": {
              "color": "#283442"
             }
            },
            "type": "scatter"
           }
          ],
          "scatter3d": [
           {
            "line": {
             "colorbar": {
              "outlinewidth": 0,
              "ticks": ""
             }
            },
            "marker": {
             "colorbar": {
              "outlinewidth": 0,
              "ticks": ""
             }
            },
            "type": "scatter3d"
           }
          ],
          "scattercarpet": [
           {
            "marker": {
             "colorbar": {
              "outlinewidth": 0,
              "ticks": ""
             }
            },
            "type": "scattercarpet"
           }
          ],
          "scattergeo": [
           {
            "marker": {
             "colorbar": {
              "outlinewidth": 0,
              "ticks": ""
             }
            },
            "type": "scattergeo"
           }
          ],
          "scattergl": [
           {
            "marker": {
             "line": {
              "color": "#283442"
             }
            },
            "type": "scattergl"
           }
          ],
          "scattermap": [
           {
            "marker": {
             "colorbar": {
              "outlinewidth": 0,
              "ticks": ""
             }
            },
            "type": "scattermap"
           }
          ],
          "scattermapbox": [
           {
            "marker": {
             "colorbar": {
              "outlinewidth": 0,
              "ticks": ""
             }
            },
            "type": "scattermapbox"
           }
          ],
          "scatterpolar": [
           {
            "marker": {
             "colorbar": {
              "outlinewidth": 0,
              "ticks": ""
             }
            },
            "type": "scatterpolar"
           }
          ],
          "scatterpolargl": [
           {
            "marker": {
             "colorbar": {
              "outlinewidth": 0,
              "ticks": ""
             }
            },
            "type": "scatterpolargl"
           }
          ],
          "scatterternary": [
           {
            "marker": {
             "colorbar": {
              "outlinewidth": 0,
              "ticks": ""
             }
            },
            "type": "scatterternary"
           }
          ],
          "surface": [
           {
            "colorbar": {
             "outlinewidth": 0,
             "ticks": ""
            },
            "colorscale": [
             [
              0,
              "#0d0887"
             ],
             [
              0.1111111111111111,
              "#46039f"
             ],
             [
              0.2222222222222222,
              "#7201a8"
             ],
             [
              0.3333333333333333,
              "#9c179e"
             ],
             [
              0.4444444444444444,
              "#bd3786"
             ],
             [
              0.5555555555555556,
              "#d8576b"
             ],
             [
              0.6666666666666666,
              "#ed7953"
             ],
             [
              0.7777777777777778,
              "#fb9f3a"
             ],
             [
              0.8888888888888888,
              "#fdca26"
             ],
             [
              1,
              "#f0f921"
             ]
            ],
            "type": "surface"
           }
          ],
          "table": [
           {
            "cells": {
             "fill": {
              "color": "#506784"
             },
             "line": {
              "color": "rgb(17,17,17)"
             }
            },
            "header": {
             "fill": {
              "color": "#2a3f5f"
             },
             "line": {
              "color": "rgb(17,17,17)"
             }
            },
            "type": "table"
           }
          ]
         },
         "layout": {
          "annotationdefaults": {
           "arrowcolor": "#f2f5fa",
           "arrowhead": 0,
           "arrowwidth": 1
          },
          "autotypenumbers": "strict",
          "coloraxis": {
           "colorbar": {
            "outlinewidth": 0,
            "ticks": ""
           }
          },
          "colorscale": {
           "diverging": [
            [
             0,
             "#8e0152"
            ],
            [
             0.1,
             "#c51b7d"
            ],
            [
             0.2,
             "#de77ae"
            ],
            [
             0.3,
             "#f1b6da"
            ],
            [
             0.4,
             "#fde0ef"
            ],
            [
             0.5,
             "#f7f7f7"
            ],
            [
             0.6,
             "#e6f5d0"
            ],
            [
             0.7,
             "#b8e186"
            ],
            [
             0.8,
             "#7fbc41"
            ],
            [
             0.9,
             "#4d9221"
            ],
            [
             1,
             "#276419"
            ]
           ],
           "sequential": [
            [
             0,
             "#0d0887"
            ],
            [
             0.1111111111111111,
             "#46039f"
            ],
            [
             0.2222222222222222,
             "#7201a8"
            ],
            [
             0.3333333333333333,
             "#9c179e"
            ],
            [
             0.4444444444444444,
             "#bd3786"
            ],
            [
             0.5555555555555556,
             "#d8576b"
            ],
            [
             0.6666666666666666,
             "#ed7953"
            ],
            [
             0.7777777777777778,
             "#fb9f3a"
            ],
            [
             0.8888888888888888,
             "#fdca26"
            ],
            [
             1,
             "#f0f921"
            ]
           ],
           "sequentialminus": [
            [
             0,
             "#0d0887"
            ],
            [
             0.1111111111111111,
             "#46039f"
            ],
            [
             0.2222222222222222,
             "#7201a8"
            ],
            [
             0.3333333333333333,
             "#9c179e"
            ],
            [
             0.4444444444444444,
             "#bd3786"
            ],
            [
             0.5555555555555556,
             "#d8576b"
            ],
            [
             0.6666666666666666,
             "#ed7953"
            ],
            [
             0.7777777777777778,
             "#fb9f3a"
            ],
            [
             0.8888888888888888,
             "#fdca26"
            ],
            [
             1,
             "#f0f921"
            ]
           ]
          },
          "colorway": [
           "#636efa",
           "#EF553B",
           "#00cc96",
           "#ab63fa",
           "#FFA15A",
           "#19d3f3",
           "#FF6692",
           "#B6E880",
           "#FF97FF",
           "#FECB52"
          ],
          "font": {
           "color": "#f2f5fa"
          },
          "geo": {
           "bgcolor": "rgb(17,17,17)",
           "lakecolor": "rgb(17,17,17)",
           "landcolor": "rgb(17,17,17)",
           "showlakes": true,
           "showland": true,
           "subunitcolor": "#506784"
          },
          "hoverlabel": {
           "align": "left"
          },
          "hovermode": "closest",
          "mapbox": {
           "style": "dark"
          },
          "paper_bgcolor": "rgb(17,17,17)",
          "plot_bgcolor": "rgb(17,17,17)",
          "polar": {
           "angularaxis": {
            "gridcolor": "#506784",
            "linecolor": "#506784",
            "ticks": ""
           },
           "bgcolor": "rgb(17,17,17)",
           "radialaxis": {
            "gridcolor": "#506784",
            "linecolor": "#506784",
            "ticks": ""
           }
          },
          "scene": {
           "xaxis": {
            "backgroundcolor": "rgb(17,17,17)",
            "gridcolor": "#506784",
            "gridwidth": 2,
            "linecolor": "#506784",
            "showbackground": true,
            "ticks": "",
            "zerolinecolor": "#C8D4E3"
           },
           "yaxis": {
            "backgroundcolor": "rgb(17,17,17)",
            "gridcolor": "#506784",
            "gridwidth": 2,
            "linecolor": "#506784",
            "showbackground": true,
            "ticks": "",
            "zerolinecolor": "#C8D4E3"
           },
           "zaxis": {
            "backgroundcolor": "rgb(17,17,17)",
            "gridcolor": "#506784",
            "gridwidth": 2,
            "linecolor": "#506784",
            "showbackground": true,
            "ticks": "",
            "zerolinecolor": "#C8D4E3"
           }
          },
          "shapedefaults": {
           "line": {
            "color": "#f2f5fa"
           }
          },
          "sliderdefaults": {
           "bgcolor": "#C8D4E3",
           "bordercolor": "rgb(17,17,17)",
           "borderwidth": 1,
           "tickwidth": 0
          },
          "ternary": {
           "aaxis": {
            "gridcolor": "#506784",
            "linecolor": "#506784",
            "ticks": ""
           },
           "baxis": {
            "gridcolor": "#506784",
            "linecolor": "#506784",
            "ticks": ""
           },
           "bgcolor": "rgb(17,17,17)",
           "caxis": {
            "gridcolor": "#506784",
            "linecolor": "#506784",
            "ticks": ""
           }
          },
          "title": {
           "x": 0.05
          },
          "updatemenudefaults": {
           "bgcolor": "#506784",
           "borderwidth": 0
          },
          "xaxis": {
           "automargin": true,
           "gridcolor": "#283442",
           "linecolor": "#506784",
           "ticks": "",
           "title": {
            "standoff": 15
           },
           "zerolinecolor": "#283442",
           "zerolinewidth": 2
          },
          "yaxis": {
           "automargin": true,
           "gridcolor": "#283442",
           "linecolor": "#506784",
           "ticks": "",
           "title": {
            "standoff": 15
           },
           "zerolinecolor": "#283442",
           "zerolinewidth": 2
          }
         }
        },
        "title": {
         "text": "Feature Correlation (Green: Low Correlation, Red: High Correlation)"
        },
        "width": 700,
        "xaxis": {
         "tickangle": 0,
         "ticktext": [
          "Daily Returns",
          "21-Day Volatility",
          "RSI"
         ],
         "tickvals": [
          "ret",
          "vol21",
          "rsi"
         ]
        },
        "yaxis": {
         "autorange": "reversed",
         "tickangle": 0,
         "ticktext": [
          "Daily Returns",
          "21-Day Volatility",
          "RSI"
         ],
         "tickvals": [
          "ret",
          "vol21",
          "rsi"
         ]
        }
       }
      }
     },
     "metadata": {},
     "output_type": "display_data"
    }
   ],
   "source": [
    "plotter.plot_correlation_heatmap(features.corr())"
   ]
  },
  {
   "cell_type": "markdown",
   "id": "213bdf48",
   "metadata": {},
   "source": [
    "![Feature Correlation](img/img1.png)"
   ]
  },
  {
   "cell_type": "markdown",
   "id": "55a748c7",
   "metadata": {},
   "source": [
    "## 2.3. Train-Test Split"
   ]
  },
  {
   "cell_type": "markdown",
   "id": "d7ea9c63",
   "metadata": {},
   "source": [
    "The dataset is partitioned into training and testing subsets to enable **model calibration** and **out-of-sample evaluation**. The training set spans **December 18, 2022**, to **December 30, 2024**, and is used to fit the Hidden Markov Model parameters and identify latent market regimes. The testing set covers **January 1, 2025**, to **August 22, 2025**, and is reserved for performance evaluation, including return and risk. To prevent temporal overlap and potential information leakage, a **2-day embargo period** is enforced between the training and testing sets. This temporal split ensures that the model’s predictive performance is assessed on **unseen data**, thereby mitigating **overfitting** and providing a realistic assessment of potential trading outcomes."
   ]
  },
  {
   "cell_type": "code",
   "execution_count": 5,
   "id": "b6511f82",
   "metadata": {},
   "outputs": [
    {
     "name": "stdout",
     "output_type": "stream",
     "text": [
      "2025-09-03 16:34:03 - src.feature_engineering - INFO - Train: 2023-01-08 00:00:00 → 2024-12-30 00:00:00 (723 days)\n",
      "2025-09-03 16:34:03 - src.feature_engineering - INFO - Embargo: 2024-12-30 00:00:00 → 2025-01-01 00:00:00 (2 days)\n",
      "2025-09-03 16:34:03 - src.feature_engineering - INFO - Test: 2025-01-01 00:00:00 → 2025-08-22 00:00:00 (234 days)\n"
     ]
    }
   ],
   "source": [
    "train_df, test_df, features_train, features_test = (\n",
    "    feature_engineer.split_data_into_train_test(df, features)\n",
    ")"
   ]
  },
  {
   "cell_type": "markdown",
   "id": "8df24c85",
   "metadata": {},
   "source": [
    "# 3. HMM-Based Methodology & Underlying Mechanism"
   ]
  },
  {
   "cell_type": "markdown",
   "id": "a7e1f1ec",
   "metadata": {},
   "source": [
    "## 3.1. Model Training: Learning Market's Latent States"
   ]
  },
  {
   "cell_type": "markdown",
   "id": "b6845a1b",
   "metadata": {},
   "source": [
    "The Hidden Markov Model is employed to capture latent market regimes from historical Bitcoin price dynamics. An HMM is a statistical model in which the system being modeled is assumed to follow a Markov process with unobserved (hidden) states. In this context, each hidden state corresponds to a distinct market regime.\n",
    "\n",
    "A **Gaussian HMM** is used, which assumes that the observed features (in our case daily log returns, volatility, momentum, and RSI) are conditionally normally distributed given the hidden state. Formally, let $X_t$ denote the observed feature vector at time $t$ and $S_t \\in \\{1, \\dots, N\\}$ the hidden state. The model assumes:\n",
    "\n",
    "\\begin{equation*}\n",
    "X_t \\,|\\, S_t = i \\sim \\mathcal{N}(\\mu_i, \\Sigma_i)\n",
    "\\end{equation*}\n",
    "\n",
    "where $\\mu_i$ and $\\Sigma_i$ are the mean vector and covariance matrix associated with state $i$, and $N$ is the total number of hidden states (in our case 6). The transitions between hidden states follow a first-order Markov process:\n",
    "\n",
    "\\begin{equation*}\n",
    "P(S_t = j \\mid S_{t-1} = i) = A_{ij}\n",
    "\\end{equation*}\n",
    "\n",
    "where $A$ is the state transition probability matrix. \n",
    "\n",
    "Model training involves estimating the parameters $\\{\\mu_i, \\Sigma_i, A\\}$ from the training data using the **Expectation-Maximization** (or E-M for short) algorithm. The **E-M** algorithm iteratively maximizes the likelihood of the observed data by alternating between inferring the posterior probabilities of hidden states (E-step) and updating the model parameters (M-step) until convergence.\n",
    "\n",
    "Once trained, the Gaussian HMM provides both the probabilities of being in each latent state at any given time and the most likely sequence of states (via the Viterbi algorithm). These inferred market regimes form the basis for the subsequent trading strategy, enabling regime-dependent position sizing and timing of Bitcoin exposure.\n"
   ]
  },
  {
   "cell_type": "code",
   "execution_count": 6,
   "id": "f9307597",
   "metadata": {},
   "outputs": [
    {
     "name": "stdout",
     "output_type": "stream",
     "text": [
      "2025-09-03 16:34:03 - src.hmm_model - INFO - Fitting HMM...\n",
      "2025-09-03 16:34:06 - src.hmm_model - INFO - Fitting HMM Complete.\n"
     ]
    }
   ],
   "source": [
    "hmm_model = HMMModel(random_state=0)\n",
    "hidden_states_train = hmm_model.fit(features_train)"
   ]
  },
  {
   "cell_type": "markdown",
   "id": "eb896978",
   "metadata": {},
   "source": [
    "## 3.2. State Prediction & Signal Generation"
   ]
  },
  {
   "cell_type": "markdown",
   "id": "6c4091e9",
   "metadata": {},
   "source": [
    "Once the HMM is trained, the next step consists of predicting the latent regime associated with each observation in the testing set. This is achieved by applying the model’s inference procedure, which assigns every data point to the most likely hidden state given the observed features.\n",
    "\n",
    "To translate these regime classifications into actionable trading signals, the subsequent methodology is employed. First, one-day-ahead returns are computed for each observation to establish a forward-looking perspective on profitability. Then, the mean of these future returns is calculated for every inferred regime, yielding a statistical characterization of the expected return conditional on the current state.\n",
    "\n",
    "Based on this analysis, trading signals are generated as follows: regimes associated with a positive mean future return are classified as “long” signals, while those with a negative mean future return are assigned “short” signals. In cases where short selling is excluded, negative-return regimes are instead mapped to a neutral “no-position” or “exit” stance if previous signal is long. This rule-based mapping ensures that signals are not derived from instantaneous noise but from the historical conditional expectation of returns under each regime."
   ]
  },
  {
   "cell_type": "code",
   "execution_count": 7,
   "id": "530adf28",
   "metadata": {},
   "outputs": [
    {
     "name": "stdout",
     "output_type": "stream",
     "text": [
      "2025-09-03 16:34:06 - src.hmm_model - INFO - Predicting hidden states...\n",
      "2025-09-03 16:34:06 - src.hmm_model - INFO - Prediction complete.\n",
      "2025-09-03 16:34:06 - src.hmm_model - INFO - Computing signals...\n",
      "2025-09-03 16:34:06 - src.hmm_model - INFO - Successfully computed signals.\n"
     ]
    }
   ],
   "source": [
    "hidden_states = hmm_model.predict(features_test)\n",
    "\n",
    "df_with_signals, state_stats = hmm_model.regime_to_signal(\n",
    "    test_df,\n",
    "    hidden_states,\n",
    ")"
   ]
  },
  {
   "cell_type": "markdown",
   "id": "25397bb0",
   "metadata": {},
   "source": [
    "## 3.3. Performance Evaluation & Benchmarking"
   ]
  },
  {
   "cell_type": "code",
   "execution_count": 8,
   "id": "a4dba348",
   "metadata": {},
   "outputs": [
    {
     "name": "stdout",
     "output_type": "stream",
     "text": [
      "HMM Metrics (Test Set):\n",
      "Annualized Sharpe: 1.58 | P&L(%): 39.53% | Max DD: -18.59% | Number Of Trades: 36\n",
      "HODL Metrics (Test Set):\n",
      "Annualized Sharpe: 1.02 | P&L(%): 23.68% | Max DD: -28.10% | Number Of Trades: 1\n"
     ]
    }
   ],
   "source": [
    "backtester = Backtester()\n",
    "backtest_results = backtester.backtest(df_with_signals)\n",
    "\n",
    "hmm_metrics = backtester.metrics(backtest_results, \"strategy_equity\")\n",
    "benchmark_metrics = backtester.metrics(backtest_results, \"hodl_equity\")\n",
    "\n",
    "print(\"HMM Metrics (Test Set):\")\n",
    "print(parse_metrics_str(hmm_metrics))\n",
    "print(\"HODL Metrics (Test Set):\")\n",
    "print(parse_metrics_str(benchmark_metrics))"
   ]
  },
  {
   "cell_type": "code",
   "execution_count": 9,
   "id": "68025199",
   "metadata": {},
   "outputs": [
    {
     "data": {
      "application/vnd.plotly.v1+json": {
       "config": {
        "plotlyServerURL": "https://plot.ly"
       },
       "data": [
        {
         "close": {
          "bdata": "PQrXo/wX90A9CtejjK33QBSuR+Hi9/dAAAAAAMj690ApXI/CuQP4QJqZmZm59fhAKVyPwqmr90ApXI/CSTX3QHE9CteHmPZAKVyPwmEg90BxPQrXfxj3QFyPwvUQFfdAmpmZmYEU90ApXI/CDZP3QJqZmZkVifhAzczMzDRp+EDhehSu12j5QOF6FK7DhvlA7FG4Hjm9+ECPwvUoQPf4QOxRuB796flA9ihcj6pR+UAK16NwZV75QAAAAABomvlAmpmZma2S+UAAAAAAwA35QHsUrkct7PhAH4XrUXi9+EBxPQrXU1P5QKRwPQovkflAXI/C9dgB+UBmZmZmupH4QArXo3BJ2vdAH4XrUQi9+EBI4XoUMt73QBSuR+FGlvdAmpmZmaWS90DNzMzMrI/3QHE9CtfLi/dAAAAAAOyM90DsUbgebcn3QDMzMzMjYvdAcT0K19/k90DXo3A9Apb3QOF6FK7HzfdA9ihcjxrS90C4HoXrYXf3QAAAAABAYvdAcT0K13tb90C4HoXrRZj3QAAAAAAQAPhA4XoUrl9790CPwvUocJL3QAAAAAAggPdASOF6FA5a9kBmZmZmhqb1QArXo3ChkfRAexSuR0mu9ECkcD0K35f0QK5H4XoIA/VAAAAAAOAD90ApXI/CyQz1QOF6FK4fT/VAj8L1KOAe9kDXo3A9vvT1QAAAAAAcMfVAMzMzM+cM9UC4HoXr5bXzQClcj8I9MPNAcT0K108/9EC4HoXrAW70QK5H4Xq8zfNAMzMzM/OA9ECkcD0KJ5f0QK5H4XroKPRArkfheqCC9ECuR+F6sDH0QKRwPQrfM/VA16NwPfaP9EA9CtejjIf0QArXo3AJePRAAAAAACgE9UD2KFyPolz1QLgehesNVvVAhetRuNI39UCPwvUoAEz1QEjhehSGnPRAPQrXo4gt9EBxPQrXXx30QI/C9ShgJ/RACtejcGXK9EA9CtejRCX0QArXo3DRUPRAuB6F6x179EBxPQrXH2X0QAAAAADgJfNAcT0K17NT80CF61G4JqLyQFK4HoVzK/RAzczMzHRv80AK16Nw/V30QGZmZmbO0fRAAAAAAABz9EB7FK5H+ab0QHE9Cte/a/RASOF6FOaD9ED2KFyPPr30QKRwPQqrn/RAj8L1KFDF9EBxPQrXs8v0QOF6FK7DXfVAcT0K1y/Q9kB7FK5Hsd/2QFK4HoXH8fZAFK5H4eoa90AAAAAAQBr3QM3MzMxU4/ZAFK5H4TIy90DsUbgeDQP3QAAAAADA/fZA9ihcj56O90DXo3A9cqf3QIXrUbgGZ/dAuB6F61kE90AUrkfh2iD3QB+F61EgpPdAAAAAAGiw90CamZmZ2TX5QHE9Cte/I/lArkfhepiW+UAAAAAAYGv5QOxRuB51GPlAUrgehXtq+UDsUbgePUX5QMP1KFw7VflAZmZmZn5C+UBmZmZmai35QI/C9Shk/flAcT0K11vG+UBxPQrXHxb6QHE9Cte/xPpAw/UoXANF+0DNzMzMZDP6QPYoXI8eT/pApHA9CsOc+kA9CtejrLf6QIXrUbiimPpArkfhelxQ+kAAAAAAXMf5QOF6FK4XY/lASOF6FP6I+UAUrkfhrsr5QHE9Ctcf2PlA16NwPQ66+UApXI/CjY/5QBSuR+FKyPhApHA9Cgd2+UBmZmZmAsX5QAAAAABg0PlAH4XrUXDr+kDXo3A9Juz6QLgehetRhvpA4XoUrnvM+UAK16NwKeX5QNejcD1qvPlAj8L1KKDH+UCuR+F6qBL6QIXrUbhyhvlArkfhemyb+UAK16NwKY35QHE9CtcfOPlAj8L1KIDu+EC4HoXrPab4QBSuR+Fet/lAAAAAADDm+UB7FK5HyTT6QFyPwvUwHPpACtejcHki+kA9CtejDDL6QBSuR+FOdPpAAAAAAKgo+kDXo3A9Es35QJqZmZkZk/pArkfhegzB+kBxPQrXA136QLgehethavpACtejcD2p+kCkcD0Kb276QOF6FK6vl/pAcT0K1x8o+0AAAAAAoFL8QPYoXI96sfxAAAAAAMCq/EDXo3A96hL9QBSuR+ESQv1ACtejcOG//EAUrkfhZvb8QFyPwvWYGP1ACtejcE3K/EAAAAAAAMX8QLgehesRofxAKVyPwkWo/ECF61G4Jkn9QHE9Ctc//vxAcT0K10/k/EBcj8L15Lb8QHE9Ctf/yfxAzczMzHgn/UDsUbge5dL8QI/C9Sjsy/xAzczMzATF/EB7FK5HQUP8QBSuR+EeqftAmpmZmSV6+0DNzMzMDOL7QK5H4XrwFvxAAAAAABzd+0AfhetRBBP8QI/C9SgArvxAcT0K1yt8/EAAAAAA5G78QI/C9SjgH/1AAAAAAOD5/EB7FK5HYVT9QBSuR+GmGv5ACtejcHHh/EDNzMzM4KX8QEjhehSWq/xAj8L1KNCp/EDNzMzMMGD8QKRwPQqPjvtAcT0K1/Pl+0AAAAAAQHf7QHE9Ctd/jPxA",
          "dtype": "f8"
         },
         "high": {
          "bdata": "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",
          "dtype": "f8"
         },
         "low": {
          "bdata": "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",
          "dtype": "f8"
         },
         "name": "BTC/USDT",
         "open": {
          "bdata": "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",
          "dtype": "f8"
         },
         "type": "candlestick",
         "x": [
          "2025-01-01T00:00:00.000000000",
          "2025-01-02T00:00:00.000000000",
          "2025-01-03T00:00:00.000000000",
          "2025-01-04T00:00:00.000000000",
          "2025-01-05T00:00:00.000000000",
          "2025-01-06T00:00:00.000000000",
          "2025-01-07T00:00:00.000000000",
          "2025-01-08T00:00:00.000000000",
          "2025-01-09T00:00:00.000000000",
          "2025-01-10T00:00:00.000000000",
          "2025-01-11T00:00:00.000000000",
          "2025-01-12T00:00:00.000000000",
          "2025-01-13T00:00:00.000000000",
          "2025-01-14T00:00:00.000000000",
          "2025-01-15T00:00:00.000000000",
          "2025-01-16T00:00:00.000000000",
          "2025-01-17T00:00:00.000000000",
          "2025-01-18T00:00:00.000000000",
          "2025-01-19T00:00:00.000000000",
          "2025-01-20T00:00:00.000000000",
          "2025-01-21T00:00:00.000000000",
          "2025-01-22T00:00:00.000000000",
          "2025-01-23T00:00:00.000000000",
          "2025-01-24T00:00:00.000000000",
          "2025-01-25T00:00:00.000000000",
          "2025-01-26T00:00:00.000000000",
          "2025-01-27T00:00:00.000000000",
          "2025-01-28T00:00:00.000000000",
          "2025-01-29T00:00:00.000000000",
          "2025-01-30T00:00:00.000000000",
          "2025-01-31T00:00:00.000000000",
          "2025-02-01T00:00:00.000000000",
          "2025-02-02T00:00:00.000000000",
          "2025-02-03T00:00:00.000000000",
          "2025-02-04T00:00:00.000000000",
          "2025-02-05T00:00:00.000000000",
          "2025-02-06T00:00:00.000000000",
          "2025-02-07T00:00:00.000000000",
          "2025-02-08T00:00:00.000000000",
          "2025-02-09T00:00:00.000000000",
          "2025-02-10T00:00:00.000000000",
          "2025-02-11T00:00:00.000000000",
          "2025-02-12T00:00:00.000000000",
          "2025-02-13T00:00:00.000000000",
          "2025-02-14T00:00:00.000000000",
          "2025-02-15T00:00:00.000000000",
          "2025-02-16T00:00:00.000000000",
          "2025-02-17T00:00:00.000000000",
          "2025-02-18T00:00:00.000000000",
          "2025-02-19T00:00:00.000000000",
          "2025-02-20T00:00:00.000000000",
          "2025-02-21T00:00:00.000000000",
          "2025-02-22T00:00:00.000000000",
          "2025-02-23T00:00:00.000000000",
          "2025-02-24T00:00:00.000000000",
          "2025-02-25T00:00:00.000000000",
          "2025-02-26T00:00:00.000000000",
          "2025-02-27T00:00:00.000000000",
          "2025-02-28T00:00:00.000000000",
          "2025-03-01T00:00:00.000000000",
          "2025-03-02T00:00:00.000000000",
          "2025-03-03T00:00:00.000000000",
          "2025-03-04T00:00:00.000000000",
          "2025-03-05T00:00:00.000000000",
          "2025-03-06T00:00:00.000000000",
          "2025-03-07T00:00:00.000000000",
          "2025-03-08T00:00:00.000000000",
          "2025-03-09T00:00:00.000000000",
          "2025-03-10T00:00:00.000000000",
          "2025-03-11T00:00:00.000000000",
          "2025-03-12T00:00:00.000000000",
          "2025-03-13T00:00:00.000000000",
          "2025-03-14T00:00:00.000000000",
          "2025-03-15T00:00:00.000000000",
          "2025-03-16T00:00:00.000000000",
          "2025-03-17T00:00:00.000000000",
          "2025-03-18T00:00:00.000000000",
          "2025-03-19T00:00:00.000000000",
          "2025-03-20T00:00:00.000000000",
          "2025-03-21T00:00:00.000000000",
          "2025-03-22T00:00:00.000000000",
          "2025-03-23T00:00:00.000000000",
          "2025-03-24T00:00:00.000000000",
          "2025-03-25T00:00:00.000000000",
          "2025-03-26T00:00:00.000000000",
          "2025-03-27T00:00:00.000000000",
          "2025-03-28T00:00:00.000000000",
          "2025-03-29T00:00:00.000000000",
          "2025-03-30T00:00:00.000000000",
          "2025-03-31T00:00:00.000000000",
          "2025-04-01T00:00:00.000000000",
          "2025-04-02T00:00:00.000000000",
          "2025-04-03T00:00:00.000000000",
          "2025-04-04T00:00:00.000000000",
          "2025-04-05T00:00:00.000000000",
          "2025-04-06T00:00:00.000000000",
          "2025-04-07T00:00:00.000000000",
          "2025-04-08T00:00:00.000000000",
          "2025-04-09T00:00:00.000000000",
          "2025-04-10T00:00:00.000000000",
          "2025-04-11T00:00:00.000000000",
          "2025-04-12T00:00:00.000000000",
          "2025-04-13T00:00:00.000000000",
          "2025-04-14T00:00:00.000000000",
          "2025-04-15T00:00:00.000000000",
          "2025-04-16T00:00:00.000000000",
          "2025-04-17T00:00:00.000000000",
          "2025-04-18T00:00:00.000000000",
          "2025-04-19T00:00:00.000000000",
          "2025-04-20T00:00:00.000000000",
          "2025-04-21T00:00:00.000000000",
          "2025-04-22T00:00:00.000000000",
          "2025-04-23T00:00:00.000000000",
          "2025-04-24T00:00:00.000000000",
          "2025-04-25T00:00:00.000000000",
          "2025-04-26T00:00:00.000000000",
          "2025-04-27T00:00:00.000000000",
          "2025-04-28T00:00:00.000000000",
          "2025-04-29T00:00:00.000000000",
          "2025-04-30T00:00:00.000000000",
          "2025-05-01T00:00:00.000000000",
          "2025-05-02T00:00:00.000000000",
          "2025-05-03T00:00:00.000000000",
          "2025-05-04T00:00:00.000000000",
          "2025-05-05T00:00:00.000000000",
          "2025-05-06T00:00:00.000000000",
          "2025-05-07T00:00:00.000000000",
          "2025-05-08T00:00:00.000000000",
          "2025-05-09T00:00:00.000000000",
          "2025-05-10T00:00:00.000000000",
          "2025-05-11T00:00:00.000000000",
          "2025-05-12T00:00:00.000000000",
          "2025-05-13T00:00:00.000000000",
          "2025-05-14T00:00:00.000000000",
          "2025-05-15T00:00:00.000000000",
          "2025-05-16T00:00:00.000000000",
          "2025-05-17T00:00:00.000000000",
          "2025-05-18T00:00:00.000000000",
          "2025-05-19T00:00:00.000000000",
          "2025-05-20T00:00:00.000000000",
          "2025-05-21T00:00:00.000000000",
          "2025-05-22T00:00:00.000000000",
          "2025-05-23T00:00:00.000000000",
          "2025-05-24T00:00:00.000000000",
          "2025-05-25T00:00:00.000000000",
          "2025-05-26T00:00:00.000000000",
          "2025-05-27T00:00:00.000000000",
          "2025-05-28T00:00:00.000000000",
          "2025-05-29T00:00:00.000000000",
          "2025-05-30T00:00:00.000000000",
          "2025-05-31T00:00:00.000000000",
          "2025-06-01T00:00:00.000000000",
          "2025-06-02T00:00:00.000000000",
          "2025-06-03T00:00:00.000000000",
          "2025-06-04T00:00:00.000000000",
          "2025-06-05T00:00:00.000000000",
          "2025-06-06T00:00:00.000000000",
          "2025-06-07T00:00:00.000000000",
          "2025-06-08T00:00:00.000000000",
          "2025-06-09T00:00:00.000000000",
          "2025-06-10T00:00:00.000000000",
          "2025-06-11T00:00:00.000000000",
          "2025-06-12T00:00:00.000000000",
          "2025-06-13T00:00:00.000000000",
          "2025-06-14T00:00:00.000000000",
          "2025-06-15T00:00:00.000000000",
          "2025-06-16T00:00:00.000000000",
          "2025-06-17T00:00:00.000000000",
          "2025-06-18T00:00:00.000000000",
          "2025-06-19T00:00:00.000000000",
          "2025-06-20T00:00:00.000000000",
          "2025-06-21T00:00:00.000000000",
          "2025-06-22T00:00:00.000000000",
          "2025-06-23T00:00:00.000000000",
          "2025-06-24T00:00:00.000000000",
          "2025-06-25T00:00:00.000000000",
          "2025-06-26T00:00:00.000000000",
          "2025-06-27T00:00:00.000000000",
          "2025-06-28T00:00:00.000000000",
          "2025-06-29T00:00:00.000000000",
          "2025-06-30T00:00:00.000000000",
          "2025-07-01T00:00:00.000000000",
          "2025-07-02T00:00:00.000000000",
          "2025-07-03T00:00:00.000000000",
          "2025-07-04T00:00:00.000000000",
          "2025-07-05T00:00:00.000000000",
          "2025-07-06T00:00:00.000000000",
          "2025-07-07T00:00:00.000000000",
          "2025-07-08T00:00:00.000000000",
          "2025-07-09T00:00:00.000000000",
          "2025-07-10T00:00:00.000000000",
          "2025-07-11T00:00:00.000000000",
          "2025-07-12T00:00:00.000000000",
          "2025-07-13T00:00:00.000000000",
          "2025-07-14T00:00:00.000000000",
          "2025-07-15T00:00:00.000000000",
          "2025-07-16T00:00:00.000000000",
          "2025-07-17T00:00:00.000000000",
          "2025-07-18T00:00:00.000000000",
          "2025-07-19T00:00:00.000000000",
          "2025-07-20T00:00:00.000000000",
          "2025-07-21T00:00:00.000000000",
          "2025-07-22T00:00:00.000000000",
          "2025-07-23T00:00:00.000000000",
          "2025-07-24T00:00:00.000000000",
          "2025-07-25T00:00:00.000000000",
          "2025-07-26T00:00:00.000000000",
          "2025-07-27T00:00:00.000000000",
          "2025-07-28T00:00:00.000000000",
          "2025-07-29T00:00:00.000000000",
          "2025-07-30T00:00:00.000000000",
          "2025-07-31T00:00:00.000000000",
          "2025-08-01T00:00:00.000000000",
          "2025-08-02T00:00:00.000000000",
          "2025-08-03T00:00:00.000000000",
          "2025-08-04T00:00:00.000000000",
          "2025-08-05T00:00:00.000000000",
          "2025-08-06T00:00:00.000000000",
          "2025-08-07T00:00:00.000000000",
          "2025-08-08T00:00:00.000000000",
          "2025-08-09T00:00:00.000000000",
          "2025-08-10T00:00:00.000000000",
          "2025-08-11T00:00:00.000000000",
          "2025-08-12T00:00:00.000000000",
          "2025-08-13T00:00:00.000000000",
          "2025-08-14T00:00:00.000000000",
          "2025-08-15T00:00:00.000000000",
          "2025-08-16T00:00:00.000000000",
          "2025-08-17T00:00:00.000000000",
          "2025-08-18T00:00:00.000000000",
          "2025-08-19T00:00:00.000000000",
          "2025-08-20T00:00:00.000000000",
          "2025-08-21T00:00:00.000000000",
          "2025-08-22T00:00:00.000000000"
         ],
         "xaxis": "x",
         "yaxis": "y"
        },
        {
         "line": {
          "color": "cyan"
         },
         "name": "HMM Strategy",
         "type": "scatter",
         "x": [
          "2025-01-01T00:00:00.000000000",
          "2025-01-02T00:00:00.000000000",
          "2025-01-03T00:00:00.000000000",
          "2025-01-04T00:00:00.000000000",
          "2025-01-05T00:00:00.000000000",
          "2025-01-06T00:00:00.000000000",
          "2025-01-07T00:00:00.000000000",
          "2025-01-08T00:00:00.000000000",
          "2025-01-09T00:00:00.000000000",
          "2025-01-10T00:00:00.000000000",
          "2025-01-11T00:00:00.000000000",
          "2025-01-12T00:00:00.000000000",
          "2025-01-13T00:00:00.000000000",
          "2025-01-14T00:00:00.000000000",
          "2025-01-15T00:00:00.000000000",
          "2025-01-16T00:00:00.000000000",
          "2025-01-17T00:00:00.000000000",
          "2025-01-18T00:00:00.000000000",
          "2025-01-19T00:00:00.000000000",
          "2025-01-20T00:00:00.000000000",
          "2025-01-21T00:00:00.000000000",
          "2025-01-22T00:00:00.000000000",
          "2025-01-23T00:00:00.000000000",
          "2025-01-24T00:00:00.000000000",
          "2025-01-25T00:00:00.000000000",
          "2025-01-26T00:00:00.000000000",
          "2025-01-27T00:00:00.000000000",
          "2025-01-28T00:00:00.000000000",
          "2025-01-29T00:00:00.000000000",
          "2025-01-30T00:00:00.000000000",
          "2025-01-31T00:00:00.000000000",
          "2025-02-01T00:00:00.000000000",
          "2025-02-02T00:00:00.000000000",
          "2025-02-03T00:00:00.000000000",
          "2025-02-04T00:00:00.000000000",
          "2025-02-05T00:00:00.000000000",
          "2025-02-06T00:00:00.000000000",
          "2025-02-07T00:00:00.000000000",
          "2025-02-08T00:00:00.000000000",
          "2025-02-09T00:00:00.000000000",
          "2025-02-10T00:00:00.000000000",
          "2025-02-11T00:00:00.000000000",
          "2025-02-12T00:00:00.000000000",
          "2025-02-13T00:00:00.000000000",
          "2025-02-14T00:00:00.000000000",
          "2025-02-15T00:00:00.000000000",
          "2025-02-16T00:00:00.000000000",
          "2025-02-17T00:00:00.000000000",
          "2025-02-18T00:00:00.000000000",
          "2025-02-19T00:00:00.000000000",
          "2025-02-20T00:00:00.000000000",
          "2025-02-21T00:00:00.000000000",
          "2025-02-22T00:00:00.000000000",
          "2025-02-23T00:00:00.000000000",
          "2025-02-24T00:00:00.000000000",
          "2025-02-25T00:00:00.000000000",
          "2025-02-26T00:00:00.000000000",
          "2025-02-27T00:00:00.000000000",
          "2025-02-28T00:00:00.000000000",
          "2025-03-01T00:00:00.000000000",
          "2025-03-02T00:00:00.000000000",
          "2025-03-03T00:00:00.000000000",
          "2025-03-04T00:00:00.000000000",
          "2025-03-05T00:00:00.000000000",
          "2025-03-06T00:00:00.000000000",
          "2025-03-07T00:00:00.000000000",
          "2025-03-08T00:00:00.000000000",
          "2025-03-09T00:00:00.000000000",
          "2025-03-10T00:00:00.000000000",
          "2025-03-11T00:00:00.000000000",
          "2025-03-12T00:00:00.000000000",
          "2025-03-13T00:00:00.000000000",
          "2025-03-14T00:00:00.000000000",
          "2025-03-15T00:00:00.000000000",
          "2025-03-16T00:00:00.000000000",
          "2025-03-17T00:00:00.000000000",
          "2025-03-18T00:00:00.000000000",
          "2025-03-19T00:00:00.000000000",
          "2025-03-20T00:00:00.000000000",
          "2025-03-21T00:00:00.000000000",
          "2025-03-22T00:00:00.000000000",
          "2025-03-23T00:00:00.000000000",
          "2025-03-24T00:00:00.000000000",
          "2025-03-25T00:00:00.000000000",
          "2025-03-26T00:00:00.000000000",
          "2025-03-27T00:00:00.000000000",
          "2025-03-28T00:00:00.000000000",
          "2025-03-29T00:00:00.000000000",
          "2025-03-30T00:00:00.000000000",
          "2025-03-31T00:00:00.000000000",
          "2025-04-01T00:00:00.000000000",
          "2025-04-02T00:00:00.000000000",
          "2025-04-03T00:00:00.000000000",
          "2025-04-04T00:00:00.000000000",
          "2025-04-05T00:00:00.000000000",
          "2025-04-06T00:00:00.000000000",
          "2025-04-07T00:00:00.000000000",
          "2025-04-08T00:00:00.000000000",
          "2025-04-09T00:00:00.000000000",
          "2025-04-10T00:00:00.000000000",
          "2025-04-11T00:00:00.000000000",
          "2025-04-12T00:00:00.000000000",
          "2025-04-13T00:00:00.000000000",
          "2025-04-14T00:00:00.000000000",
          "2025-04-15T00:00:00.000000000",
          "2025-04-16T00:00:00.000000000",
          "2025-04-17T00:00:00.000000000",
          "2025-04-18T00:00:00.000000000",
          "2025-04-19T00:00:00.000000000",
          "2025-04-20T00:00:00.000000000",
          "2025-04-21T00:00:00.000000000",
          "2025-04-22T00:00:00.000000000",
          "2025-04-23T00:00:00.000000000",
          "2025-04-24T00:00:00.000000000",
          "2025-04-25T00:00:00.000000000",
          "2025-04-26T00:00:00.000000000",
          "2025-04-27T00:00:00.000000000",
          "2025-04-28T00:00:00.000000000",
          "2025-04-29T00:00:00.000000000",
          "2025-04-30T00:00:00.000000000",
          "2025-05-01T00:00:00.000000000",
          "2025-05-02T00:00:00.000000000",
          "2025-05-03T00:00:00.000000000",
          "2025-05-04T00:00:00.000000000",
          "2025-05-05T00:00:00.000000000",
          "2025-05-06T00:00:00.000000000",
          "2025-05-07T00:00:00.000000000",
          "2025-05-08T00:00:00.000000000",
          "2025-05-09T00:00:00.000000000",
          "2025-05-10T00:00:00.000000000",
          "2025-05-11T00:00:00.000000000",
          "2025-05-12T00:00:00.000000000",
          "2025-05-13T00:00:00.000000000",
          "2025-05-14T00:00:00.000000000",
          "2025-05-15T00:00:00.000000000",
          "2025-05-16T00:00:00.000000000",
          "2025-05-17T00:00:00.000000000",
          "2025-05-18T00:00:00.000000000",
          "2025-05-19T00:00:00.000000000",
          "2025-05-20T00:00:00.000000000",
          "2025-05-21T00:00:00.000000000",
          "2025-05-22T00:00:00.000000000",
          "2025-05-23T00:00:00.000000000",
          "2025-05-24T00:00:00.000000000",
          "2025-05-25T00:00:00.000000000",
          "2025-05-26T00:00:00.000000000",
          "2025-05-27T00:00:00.000000000",
          "2025-05-28T00:00:00.000000000",
          "2025-05-29T00:00:00.000000000",
          "2025-05-30T00:00:00.000000000",
          "2025-05-31T00:00:00.000000000",
          "2025-06-01T00:00:00.000000000",
          "2025-06-02T00:00:00.000000000",
          "2025-06-03T00:00:00.000000000",
          "2025-06-04T00:00:00.000000000",
          "2025-06-05T00:00:00.000000000",
          "2025-06-06T00:00:00.000000000",
          "2025-06-07T00:00:00.000000000",
          "2025-06-08T00:00:00.000000000",
          "2025-06-09T00:00:00.000000000",
          "2025-06-10T00:00:00.000000000",
          "2025-06-11T00:00:00.000000000",
          "2025-06-12T00:00:00.000000000",
          "2025-06-13T00:00:00.000000000",
          "2025-06-14T00:00:00.000000000",
          "2025-06-15T00:00:00.000000000",
          "2025-06-16T00:00:00.000000000",
          "2025-06-17T00:00:00.000000000",
          "2025-06-18T00:00:00.000000000",
          "2025-06-19T00:00:00.000000000",
          "2025-06-20T00:00:00.000000000",
          "2025-06-21T00:00:00.000000000",
          "2025-06-22T00:00:00.000000000",
          "2025-06-23T00:00:00.000000000",
          "2025-06-24T00:00:00.000000000",
          "2025-06-25T00:00:00.000000000",
          "2025-06-26T00:00:00.000000000",
          "2025-06-27T00:00:00.000000000",
          "2025-06-28T00:00:00.000000000",
          "2025-06-29T00:00:00.000000000",
          "2025-06-30T00:00:00.000000000",
          "2025-07-01T00:00:00.000000000",
          "2025-07-02T00:00:00.000000000",
          "2025-07-03T00:00:00.000000000",
          "2025-07-04T00:00:00.000000000",
          "2025-07-05T00:00:00.000000000",
          "2025-07-06T00:00:00.000000000",
          "2025-07-07T00:00:00.000000000",
          "2025-07-08T00:00:00.000000000",
          "2025-07-09T00:00:00.000000000",
          "2025-07-10T00:00:00.000000000",
          "2025-07-11T00:00:00.000000000",
          "2025-07-12T00:00:00.000000000",
          "2025-07-13T00:00:00.000000000",
          "2025-07-14T00:00:00.000000000",
          "2025-07-15T00:00:00.000000000",
          "2025-07-16T00:00:00.000000000",
          "2025-07-17T00:00:00.000000000",
          "2025-07-18T00:00:00.000000000",
          "2025-07-19T00:00:00.000000000",
          "2025-07-20T00:00:00.000000000",
          "2025-07-21T00:00:00.000000000",
          "2025-07-22T00:00:00.000000000",
          "2025-07-23T00:00:00.000000000",
          "2025-07-24T00:00:00.000000000",
          "2025-07-25T00:00:00.000000000",
          "2025-07-26T00:00:00.000000000",
          "2025-07-27T00:00:00.000000000",
          "2025-07-28T00:00:00.000000000",
          "2025-07-29T00:00:00.000000000",
          "2025-07-30T00:00:00.000000000",
          "2025-07-31T00:00:00.000000000",
          "2025-08-01T00:00:00.000000000",
          "2025-08-02T00:00:00.000000000",
          "2025-08-03T00:00:00.000000000",
          "2025-08-04T00:00:00.000000000",
          "2025-08-05T00:00:00.000000000",
          "2025-08-06T00:00:00.000000000",
          "2025-08-07T00:00:00.000000000",
          "2025-08-08T00:00:00.000000000",
          "2025-08-09T00:00:00.000000000",
          "2025-08-10T00:00:00.000000000",
          "2025-08-11T00:00:00.000000000",
          "2025-08-12T00:00:00.000000000",
          "2025-08-13T00:00:00.000000000",
          "2025-08-14T00:00:00.000000000",
          "2025-08-15T00:00:00.000000000",
          "2025-08-16T00:00:00.000000000",
          "2025-08-17T00:00:00.000000000",
          "2025-08-18T00:00:00.000000000",
          "2025-08-19T00:00:00.000000000",
          "2025-08-20T00:00:00.000000000",
          "2025-08-21T00:00:00.000000000",
          "2025-08-22T00:00:00.000000000"
         ],
         "xaxis": "x2",
         "y": {
          "bdata": "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",
          "dtype": "f8"
         },
         "yaxis": "y2"
        },
        {
         "line": {
          "color": "white"
         },
         "name": "HODL",
         "opacity": 0.7,
         "type": "scatter",
         "x": [
          "2025-01-01T00:00:00.000000000",
          "2025-01-02T00:00:00.000000000",
          "2025-01-03T00:00:00.000000000",
          "2025-01-04T00:00:00.000000000",
          "2025-01-05T00:00:00.000000000",
          "2025-01-06T00:00:00.000000000",
          "2025-01-07T00:00:00.000000000",
          "2025-01-08T00:00:00.000000000",
          "2025-01-09T00:00:00.000000000",
          "2025-01-10T00:00:00.000000000",
          "2025-01-11T00:00:00.000000000",
          "2025-01-12T00:00:00.000000000",
          "2025-01-13T00:00:00.000000000",
          "2025-01-14T00:00:00.000000000",
          "2025-01-15T00:00:00.000000000",
          "2025-01-16T00:00:00.000000000",
          "2025-01-17T00:00:00.000000000",
          "2025-01-18T00:00:00.000000000",
          "2025-01-19T00:00:00.000000000",
          "2025-01-20T00:00:00.000000000",
          "2025-01-21T00:00:00.000000000",
          "2025-01-22T00:00:00.000000000",
          "2025-01-23T00:00:00.000000000",
          "2025-01-24T00:00:00.000000000",
          "2025-01-25T00:00:00.000000000",
          "2025-01-26T00:00:00.000000000",
          "2025-01-27T00:00:00.000000000",
          "2025-01-28T00:00:00.000000000",
          "2025-01-29T00:00:00.000000000",
          "2025-01-30T00:00:00.000000000",
          "2025-01-31T00:00:00.000000000",
          "2025-02-01T00:00:00.000000000",
          "2025-02-02T00:00:00.000000000",
          "2025-02-03T00:00:00.000000000",
          "2025-02-04T00:00:00.000000000",
          "2025-02-05T00:00:00.000000000",
          "2025-02-06T00:00:00.000000000",
          "2025-02-07T00:00:00.000000000",
          "2025-02-08T00:00:00.000000000",
          "2025-02-09T00:00:00.000000000",
          "2025-02-10T00:00:00.000000000",
          "2025-02-11T00:00:00.000000000",
          "2025-02-12T00:00:00.000000000",
          "2025-02-13T00:00:00.000000000",
          "2025-02-14T00:00:00.000000000",
          "2025-02-15T00:00:00.000000000",
          "2025-02-16T00:00:00.000000000",
          "2025-02-17T00:00:00.000000000",
          "2025-02-18T00:00:00.000000000",
          "2025-02-19T00:00:00.000000000",
          "2025-02-20T00:00:00.000000000",
          "2025-02-21T00:00:00.000000000",
          "2025-02-22T00:00:00.000000000",
          "2025-02-23T00:00:00.000000000",
          "2025-02-24T00:00:00.000000000",
          "2025-02-25T00:00:00.000000000",
          "2025-02-26T00:00:00.000000000",
          "2025-02-27T00:00:00.000000000",
          "2025-02-28T00:00:00.000000000",
          "2025-03-01T00:00:00.000000000",
          "2025-03-02T00:00:00.000000000",
          "2025-03-03T00:00:00.000000000",
          "2025-03-04T00:00:00.000000000",
          "2025-03-05T00:00:00.000000000",
          "2025-03-06T00:00:00.000000000",
          "2025-03-07T00:00:00.000000000",
          "2025-03-08T00:00:00.000000000",
          "2025-03-09T00:00:00.000000000",
          "2025-03-10T00:00:00.000000000",
          "2025-03-11T00:00:00.000000000",
          "2025-03-12T00:00:00.000000000",
          "2025-03-13T00:00:00.000000000",
          "2025-03-14T00:00:00.000000000",
          "2025-03-15T00:00:00.000000000",
          "2025-03-16T00:00:00.000000000",
          "2025-03-17T00:00:00.000000000",
          "2025-03-18T00:00:00.000000000",
          "2025-03-19T00:00:00.000000000",
          "2025-03-20T00:00:00.000000000",
          "2025-03-21T00:00:00.000000000",
          "2025-03-22T00:00:00.000000000",
          "2025-03-23T00:00:00.000000000",
          "2025-03-24T00:00:00.000000000",
          "2025-03-25T00:00:00.000000000",
          "2025-03-26T00:00:00.000000000",
          "2025-03-27T00:00:00.000000000",
          "2025-03-28T00:00:00.000000000",
          "2025-03-29T00:00:00.000000000",
          "2025-03-30T00:00:00.000000000",
          "2025-03-31T00:00:00.000000000",
          "2025-04-01T00:00:00.000000000",
          "2025-04-02T00:00:00.000000000",
          "2025-04-03T00:00:00.000000000",
          "2025-04-04T00:00:00.000000000",
          "2025-04-05T00:00:00.000000000",
          "2025-04-06T00:00:00.000000000",
          "2025-04-07T00:00:00.000000000",
          "2025-04-08T00:00:00.000000000",
          "2025-04-09T00:00:00.000000000",
          "2025-04-10T00:00:00.000000000",
          "2025-04-11T00:00:00.000000000",
          "2025-04-12T00:00:00.000000000",
          "2025-04-13T00:00:00.000000000",
          "2025-04-14T00:00:00.000000000",
          "2025-04-15T00:00:00.000000000",
          "2025-04-16T00:00:00.000000000",
          "2025-04-17T00:00:00.000000000",
          "2025-04-18T00:00:00.000000000",
          "2025-04-19T00:00:00.000000000",
          "2025-04-20T00:00:00.000000000",
          "2025-04-21T00:00:00.000000000",
          "2025-04-22T00:00:00.000000000",
          "2025-04-23T00:00:00.000000000",
          "2025-04-24T00:00:00.000000000",
          "2025-04-25T00:00:00.000000000",
          "2025-04-26T00:00:00.000000000",
          "2025-04-27T00:00:00.000000000",
          "2025-04-28T00:00:00.000000000",
          "2025-04-29T00:00:00.000000000",
          "2025-04-30T00:00:00.000000000",
          "2025-05-01T00:00:00.000000000",
          "2025-05-02T00:00:00.000000000",
          "2025-05-03T00:00:00.000000000",
          "2025-05-04T00:00:00.000000000",
          "2025-05-05T00:00:00.000000000",
          "2025-05-06T00:00:00.000000000",
          "2025-05-07T00:00:00.000000000",
          "2025-05-08T00:00:00.000000000",
          "2025-05-09T00:00:00.000000000",
          "2025-05-10T00:00:00.000000000",
          "2025-05-11T00:00:00.000000000",
          "2025-05-12T00:00:00.000000000",
          "2025-05-13T00:00:00.000000000",
          "2025-05-14T00:00:00.000000000",
          "2025-05-15T00:00:00.000000000",
          "2025-05-16T00:00:00.000000000",
          "2025-05-17T00:00:00.000000000",
          "2025-05-18T00:00:00.000000000",
          "2025-05-19T00:00:00.000000000",
          "2025-05-20T00:00:00.000000000",
          "2025-05-21T00:00:00.000000000",
          "2025-05-22T00:00:00.000000000",
          "2025-05-23T00:00:00.000000000",
          "2025-05-24T00:00:00.000000000",
          "2025-05-25T00:00:00.000000000",
          "2025-05-26T00:00:00.000000000",
          "2025-05-27T00:00:00.000000000",
          "2025-05-28T00:00:00.000000000",
          "2025-05-29T00:00:00.000000000",
          "2025-05-30T00:00:00.000000000",
          "2025-05-31T00:00:00.000000000",
          "2025-06-01T00:00:00.000000000",
          "2025-06-02T00:00:00.000000000",
          "2025-06-03T00:00:00.000000000",
          "2025-06-04T00:00:00.000000000",
          "2025-06-05T00:00:00.000000000",
          "2025-06-06T00:00:00.000000000",
          "2025-06-07T00:00:00.000000000",
          "2025-06-08T00:00:00.000000000",
          "2025-06-09T00:00:00.000000000",
          "2025-06-10T00:00:00.000000000",
          "2025-06-11T00:00:00.000000000",
          "2025-06-12T00:00:00.000000000",
          "2025-06-13T00:00:00.000000000",
          "2025-06-14T00:00:00.000000000",
          "2025-06-15T00:00:00.000000000",
          "2025-06-16T00:00:00.000000000",
          "2025-06-17T00:00:00.000000000",
          "2025-06-18T00:00:00.000000000",
          "2025-06-19T00:00:00.000000000",
          "2025-06-20T00:00:00.000000000",
          "2025-06-21T00:00:00.000000000",
          "2025-06-22T00:00:00.000000000",
          "2025-06-23T00:00:00.000000000",
          "2025-06-24T00:00:00.000000000",
          "2025-06-25T00:00:00.000000000",
          "2025-06-26T00:00:00.000000000",
          "2025-06-27T00:00:00.000000000",
          "2025-06-28T00:00:00.000000000",
          "2025-06-29T00:00:00.000000000",
          "2025-06-30T00:00:00.000000000",
          "2025-07-01T00:00:00.000000000",
          "2025-07-02T00:00:00.000000000",
          "2025-07-03T00:00:00.000000000",
          "2025-07-04T00:00:00.000000000",
          "2025-07-05T00:00:00.000000000",
          "2025-07-06T00:00:00.000000000",
          "2025-07-07T00:00:00.000000000",
          "2025-07-08T00:00:00.000000000",
          "2025-07-09T00:00:00.000000000",
          "2025-07-10T00:00:00.000000000",
          "2025-07-11T00:00:00.000000000",
          "2025-07-12T00:00:00.000000000",
          "2025-07-13T00:00:00.000000000",
          "2025-07-14T00:00:00.000000000",
          "2025-07-15T00:00:00.000000000",
          "2025-07-16T00:00:00.000000000",
          "2025-07-17T00:00:00.000000000",
          "2025-07-18T00:00:00.000000000",
          "2025-07-19T00:00:00.000000000",
          "2025-07-20T00:00:00.000000000",
          "2025-07-21T00:00:00.000000000",
          "2025-07-22T00:00:00.000000000",
          "2025-07-23T00:00:00.000000000",
          "2025-07-24T00:00:00.000000000",
          "2025-07-25T00:00:00.000000000",
          "2025-07-26T00:00:00.000000000",
          "2025-07-27T00:00:00.000000000",
          "2025-07-28T00:00:00.000000000",
          "2025-07-29T00:00:00.000000000",
          "2025-07-30T00:00:00.000000000",
          "2025-07-31T00:00:00.000000000",
          "2025-08-01T00:00:00.000000000",
          "2025-08-02T00:00:00.000000000",
          "2025-08-03T00:00:00.000000000",
          "2025-08-04T00:00:00.000000000",
          "2025-08-05T00:00:00.000000000",
          "2025-08-06T00:00:00.000000000",
          "2025-08-07T00:00:00.000000000",
          "2025-08-08T00:00:00.000000000",
          "2025-08-09T00:00:00.000000000",
          "2025-08-10T00:00:00.000000000",
          "2025-08-11T00:00:00.000000000",
          "2025-08-12T00:00:00.000000000",
          "2025-08-13T00:00:00.000000000",
          "2025-08-14T00:00:00.000000000",
          "2025-08-15T00:00:00.000000000",
          "2025-08-16T00:00:00.000000000",
          "2025-08-17T00:00:00.000000000",
          "2025-08-18T00:00:00.000000000",
          "2025-08-19T00:00:00.000000000",
          "2025-08-20T00:00:00.000000000",
          "2025-08-21T00:00:00.000000000",
          "2025-08-22T00:00:00.000000000"
         ],
         "xaxis": "x2",
         "y": {
          "bdata": "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",
          "dtype": "f8"
         },
         "yaxis": "y2"
        }
       ],
       "layout": {
        "annotations": [
         {
          "font": {
           "size": 16
          },
          "showarrow": false,
          "text": "BTC/USDT",
          "x": 0.5,
          "xanchor": "center",
          "xref": "paper",
          "y": 1,
          "yanchor": "bottom",
          "yref": "paper"
         },
         {
          "font": {
           "size": 16
          },
          "showarrow": false,
          "text": "Portfolio Value Curves",
          "x": 0.5,
          "xanchor": "center",
          "xref": "paper",
          "y": 0.475,
          "yanchor": "bottom",
          "yref": "paper"
         }
        ],
        "barmode": "overlay",
        "height": 900,
        "legend": {
         "orientation": "h",
         "x": 1,
         "xanchor": "right",
         "y": 1.02,
         "yanchor": "bottom"
        },
        "margin": {
         "b": 50,
         "l": 50,
         "r": 50,
         "t": 50
        },
        "shapes": [
         {
          "fillcolor": "green",
          "layer": "below",
          "line": {
           "width": 0
          },
          "opacity": 0.2,
          "type": "rect",
          "x0": "2025-01-01T00:00:00",
          "x1": "2025-01-01T00:00:00",
          "xref": "x2",
          "y0": 0,
          "y1": 1,
          "yref": "y2 domain"
         },
         {
          "fillcolor": "green",
          "layer": "below",
          "line": {
           "width": 0
          },
          "opacity": 0.2,
          "type": "rect",
          "x0": "2025-01-01T00:00:00",
          "x1": "2025-01-06T00:00:00",
          "xref": "x2",
          "y0": 0,
          "y1": 1,
          "yref": "y2 domain"
         },
         {
          "fillcolor": "red",
          "layer": "below",
          "line": {
           "width": 0
          },
          "opacity": 0.2,
          "type": "rect",
          "x0": "2025-01-06T00:00:00",
          "x1": "2025-01-07T00:00:00",
          "xref": "x2",
          "y0": 0,
          "y1": 1,
          "yref": "y2 domain"
         },
         {
          "fillcolor": "green",
          "layer": "below",
          "line": {
           "width": 0
          },
          "opacity": 0.2,
          "type": "rect",
          "x0": "2025-01-07T00:00:00",
          "x1": "2025-01-17T00:00:00",
          "xref": "x2",
          "y0": 0,
          "y1": 1,
          "yref": "y2 domain"
         },
         {
          "fillcolor": "red",
          "layer": "below",
          "line": {
           "width": 0
          },
          "opacity": 0.2,
          "type": "rect",
          "x0": "2025-01-17T00:00:00",
          "x1": "2025-01-19T00:00:00",
          "xref": "x2",
          "y0": 0,
          "y1": 1,
          "yref": "y2 domain"
         },
         {
          "fillcolor": "green",
          "layer": "below",
          "line": {
           "width": 0
          },
          "opacity": 0.2,
          "type": "rect",
          "x0": "2025-01-19T00:00:00",
          "x1": "2025-01-20T00:00:00",
          "xref": "x2",
          "y0": 0,
          "y1": 1,
          "yref": "y2 domain"
         },
         {
          "fillcolor": "red",
          "layer": "below",
          "line": {
           "width": 0
          },
          "opacity": 0.2,
          "type": "rect",
          "x0": "2025-01-20T00:00:00",
          "x1": "2025-01-27T00:00:00",
          "xref": "x2",
          "y0": 0,
          "y1": 1,
          "yref": "y2 domain"
         },
         {
          "fillcolor": "green",
          "layer": "below",
          "line": {
           "width": 0
          },
          "opacity": 0.2,
          "type": "rect",
          "x0": "2025-01-27T00:00:00",
          "x1": "2025-02-10T00:00:00",
          "xref": "x2",
          "y0": 0,
          "y1": 1,
          "yref": "y2 domain"
         },
         {
          "fillcolor": "red",
          "layer": "below",
          "line": {
           "width": 0
          },
          "opacity": 0.2,
          "type": "rect",
          "x0": "2025-02-10T00:00:00",
          "x1": "2025-02-11T00:00:00",
          "xref": "x2",
          "y0": 0,
          "y1": 1,
          "yref": "y2 domain"
         },
         {
          "fillcolor": "green",
          "layer": "below",
          "line": {
           "width": 0
          },
          "opacity": 0.2,
          "type": "rect",
          "x0": "2025-02-11T00:00:00",
          "x1": "2025-02-12T00:00:00",
          "xref": "x2",
          "y0": 0,
          "y1": 1,
          "yref": "y2 domain"
         },
         {
          "fillcolor": "red",
          "layer": "below",
          "line": {
           "width": 0
          },
          "opacity": 0.2,
          "type": "rect",
          "x0": "2025-02-12T00:00:00",
          "x1": "2025-02-13T00:00:00",
          "xref": "x2",
          "y0": 0,
          "y1": 1,
          "yref": "y2 domain"
         },
         {
          "fillcolor": "green",
          "layer": "below",
          "line": {
           "width": 0
          },
          "opacity": 0.2,
          "type": "rect",
          "x0": "2025-02-13T00:00:00",
          "x1": "2025-02-14T00:00:00",
          "xref": "x2",
          "y0": 0,
          "y1": 1,
          "yref": "y2 domain"
         },
         {
          "fillcolor": "red",
          "layer": "below",
          "line": {
           "width": 0
          },
          "opacity": 0.2,
          "type": "rect",
          "x0": "2025-02-14T00:00:00",
          "x1": "2025-02-16T00:00:00",
          "xref": "x2",
          "y0": 0,
          "y1": 1,
          "yref": "y2 domain"
         },
         {
          "fillcolor": "green",
          "layer": "below",
          "line": {
           "width": 0
          },
          "opacity": 0.2,
          "type": "rect",
          "x0": "2025-02-16T00:00:00",
          "x1": "2025-02-20T00:00:00",
          "xref": "x2",
          "y0": 0,
          "y1": 1,
          "yref": "y2 domain"
         },
         {
          "fillcolor": "red",
          "layer": "below",
          "line": {
           "width": 0
          },
          "opacity": 0.2,
          "type": "rect",
          "x0": "2025-02-20T00:00:00",
          "x1": "2025-02-21T00:00:00",
          "xref": "x2",
          "y0": 0,
          "y1": 1,
          "yref": "y2 domain"
         },
         {
          "fillcolor": "green",
          "layer": "below",
          "line": {
           "width": 0
          },
          "opacity": 0.2,
          "type": "rect",
          "x0": "2025-02-21T00:00:00",
          "x1": "2025-08-22T00:00:00",
          "xref": "x2",
          "y0": 0,
          "y1": 1,
          "yref": "y2 domain"
         }
        ],
        "template": {
         "data": {
          "bar": [
           {
            "error_x": {
             "color": "#f2f5fa"
            },
            "error_y": {
             "color": "#f2f5fa"
            },
            "marker": {
             "line": {
              "color": "rgb(17,17,17)",
              "width": 0.5
             },
             "pattern": {
              "fillmode": "overlay",
              "size": 10,
              "solidity": 0.2
             }
            },
            "type": "bar"
           }
          ],
          "barpolar": [
           {
            "marker": {
             "line": {
              "color": "rgb(17,17,17)",
              "width": 0.5
             },
             "pattern": {
              "fillmode": "overlay",
              "size": 10,
              "solidity": 0.2
             }
            },
            "type": "barpolar"
           }
          ],
          "carpet": [
           {
            "aaxis": {
             "endlinecolor": "#A2B1C6",
             "gridcolor": "#506784",
             "linecolor": "#506784",
             "minorgridcolor": "#506784",
             "startlinecolor": "#A2B1C6"
            },
            "baxis": {
             "endlinecolor": "#A2B1C6",
             "gridcolor": "#506784",
             "linecolor": "#506784",
             "minorgridcolor": "#506784",
             "startlinecolor": "#A2B1C6"
            },
            "type": "carpet"
           }
          ],
          "choropleth": [
           {
            "colorbar": {
             "outlinewidth": 0,
             "ticks": ""
            },
            "type": "choropleth"
           }
          ],
          "contour": [
           {
            "colorbar": {
             "outlinewidth": 0,
             "ticks": ""
            },
            "colorscale": [
             [
              0,
              "#0d0887"
             ],
             [
              0.1111111111111111,
              "#46039f"
             ],
             [
              0.2222222222222222,
              "#7201a8"
             ],
             [
              0.3333333333333333,
              "#9c179e"
             ],
             [
              0.4444444444444444,
              "#bd3786"
             ],
             [
              0.5555555555555556,
              "#d8576b"
             ],
             [
              0.6666666666666666,
              "#ed7953"
             ],
             [
              0.7777777777777778,
              "#fb9f3a"
             ],
             [
              0.8888888888888888,
              "#fdca26"
             ],
             [
              1,
              "#f0f921"
             ]
            ],
            "type": "contour"
           }
          ],
          "contourcarpet": [
           {
            "colorbar": {
             "outlinewidth": 0,
             "ticks": ""
            },
            "type": "contourcarpet"
           }
          ],
          "heatmap": [
           {
            "colorbar": {
             "outlinewidth": 0,
             "ticks": ""
            },
            "colorscale": [
             [
              0,
              "#0d0887"
             ],
             [
              0.1111111111111111,
              "#46039f"
             ],
             [
              0.2222222222222222,
              "#7201a8"
             ],
             [
              0.3333333333333333,
              "#9c179e"
             ],
             [
              0.4444444444444444,
              "#bd3786"
             ],
             [
              0.5555555555555556,
              "#d8576b"
             ],
             [
              0.6666666666666666,
              "#ed7953"
             ],
             [
              0.7777777777777778,
              "#fb9f3a"
             ],
             [
              0.8888888888888888,
              "#fdca26"
             ],
             [
              1,
              "#f0f921"
             ]
            ],
            "type": "heatmap"
           }
          ],
          "histogram": [
           {
            "marker": {
             "pattern": {
              "fillmode": "overlay",
              "size": 10,
              "solidity": 0.2
             }
            },
            "type": "histogram"
           }
          ],
          "histogram2d": [
           {
            "colorbar": {
             "outlinewidth": 0,
             "ticks": ""
            },
            "colorscale": [
             [
              0,
              "#0d0887"
             ],
             [
              0.1111111111111111,
              "#46039f"
             ],
             [
              0.2222222222222222,
              "#7201a8"
             ],
             [
              0.3333333333333333,
              "#9c179e"
             ],
             [
              0.4444444444444444,
              "#bd3786"
             ],
             [
              0.5555555555555556,
              "#d8576b"
             ],
             [
              0.6666666666666666,
              "#ed7953"
             ],
             [
              0.7777777777777778,
              "#fb9f3a"
             ],
             [
              0.8888888888888888,
              "#fdca26"
             ],
             [
              1,
              "#f0f921"
             ]
            ],
            "type": "histogram2d"
           }
          ],
          "histogram2dcontour": [
           {
            "colorbar": {
             "outlinewidth": 0,
             "ticks": ""
            },
            "colorscale": [
             [
              0,
              "#0d0887"
             ],
             [
              0.1111111111111111,
              "#46039f"
             ],
             [
              0.2222222222222222,
              "#7201a8"
             ],
             [
              0.3333333333333333,
              "#9c179e"
             ],
             [
              0.4444444444444444,
              "#bd3786"
             ],
             [
              0.5555555555555556,
              "#d8576b"
             ],
             [
              0.6666666666666666,
              "#ed7953"
             ],
             [
              0.7777777777777778,
              "#fb9f3a"
             ],
             [
              0.8888888888888888,
              "#fdca26"
             ],
             [
              1,
              "#f0f921"
             ]
            ],
            "type": "histogram2dcontour"
           }
          ],
          "mesh3d": [
           {
            "colorbar": {
             "outlinewidth": 0,
             "ticks": ""
            },
            "type": "mesh3d"
           }
          ],
          "parcoords": [
           {
            "line": {
             "colorbar": {
              "outlinewidth": 0,
              "ticks": ""
             }
            },
            "type": "parcoords"
           }
          ],
          "pie": [
           {
            "automargin": true,
            "type": "pie"
           }
          ],
          "scatter": [
           {
            "marker": {
             "line": {
              "color": "#283442"
             }
            },
            "type": "scatter"
           }
          ],
          "scatter3d": [
           {
            "line": {
             "colorbar": {
              "outlinewidth": 0,
              "ticks": ""
             }
            },
            "marker": {
             "colorbar": {
              "outlinewidth": 0,
              "ticks": ""
             }
            },
            "type": "scatter3d"
           }
          ],
          "scattercarpet": [
           {
            "marker": {
             "colorbar": {
              "outlinewidth": 0,
              "ticks": ""
             }
            },
            "type": "scattercarpet"
           }
          ],
          "scattergeo": [
           {
            "marker": {
             "colorbar": {
              "outlinewidth": 0,
              "ticks": ""
             }
            },
            "type": "scattergeo"
           }
          ],
          "scattergl": [
           {
            "marker": {
             "line": {
              "color": "#283442"
             }
            },
            "type": "scattergl"
           }
          ],
          "scattermap": [
           {
            "marker": {
             "colorbar": {
              "outlinewidth": 0,
              "ticks": ""
             }
            },
            "type": "scattermap"
           }
          ],
          "scattermapbox": [
           {
            "marker": {
             "colorbar": {
              "outlinewidth": 0,
              "ticks": ""
             }
            },
            "type": "scattermapbox"
           }
          ],
          "scatterpolar": [
           {
            "marker": {
             "colorbar": {
              "outlinewidth": 0,
              "ticks": ""
             }
            },
            "type": "scatterpolar"
           }
          ],
          "scatterpolargl": [
           {
            "marker": {
             "colorbar": {
              "outlinewidth": 0,
              "ticks": ""
             }
            },
            "type": "scatterpolargl"
           }
          ],
          "scatterternary": [
           {
            "marker": {
             "colorbar": {
              "outlinewidth": 0,
              "ticks": ""
             }
            },
            "type": "scatterternary"
           }
          ],
          "surface": [
           {
            "colorbar": {
             "outlinewidth": 0,
             "ticks": ""
            },
            "colorscale": [
             [
              0,
              "#0d0887"
             ],
             [
              0.1111111111111111,
              "#46039f"
             ],
             [
              0.2222222222222222,
              "#7201a8"
             ],
             [
              0.3333333333333333,
              "#9c179e"
             ],
             [
              0.4444444444444444,
              "#bd3786"
             ],
             [
              0.5555555555555556,
              "#d8576b"
             ],
             [
              0.6666666666666666,
              "#ed7953"
             ],
             [
              0.7777777777777778,
              "#fb9f3a"
             ],
             [
              0.8888888888888888,
              "#fdca26"
             ],
             [
              1,
              "#f0f921"
             ]
            ],
            "type": "surface"
           }
          ],
          "table": [
           {
            "cells": {
             "fill": {
              "color": "#506784"
             },
             "line": {
              "color": "rgb(17,17,17)"
             }
            },
            "header": {
             "fill": {
              "color": "#2a3f5f"
             },
             "line": {
              "color": "rgb(17,17,17)"
             }
            },
            "type": "table"
           }
          ]
         },
         "layout": {
          "annotationdefaults": {
           "arrowcolor": "#f2f5fa",
           "arrowhead": 0,
           "arrowwidth": 1
          },
          "autotypenumbers": "strict",
          "coloraxis": {
           "colorbar": {
            "outlinewidth": 0,
            "ticks": ""
           }
          },
          "colorscale": {
           "diverging": [
            [
             0,
             "#8e0152"
            ],
            [
             0.1,
             "#c51b7d"
            ],
            [
             0.2,
             "#de77ae"
            ],
            [
             0.3,
             "#f1b6da"
            ],
            [
             0.4,
             "#fde0ef"
            ],
            [
             0.5,
             "#f7f7f7"
            ],
            [
             0.6,
             "#e6f5d0"
            ],
            [
             0.7,
             "#b8e186"
            ],
            [
             0.8,
             "#7fbc41"
            ],
            [
             0.9,
             "#4d9221"
            ],
            [
             1,
             "#276419"
            ]
           ],
           "sequential": [
            [
             0,
             "#0d0887"
            ],
            [
             0.1111111111111111,
             "#46039f"
            ],
            [
             0.2222222222222222,
             "#7201a8"
            ],
            [
             0.3333333333333333,
             "#9c179e"
            ],
            [
             0.4444444444444444,
             "#bd3786"
            ],
            [
             0.5555555555555556,
             "#d8576b"
            ],
            [
             0.6666666666666666,
             "#ed7953"
            ],
            [
             0.7777777777777778,
             "#fb9f3a"
            ],
            [
             0.8888888888888888,
             "#fdca26"
            ],
            [
             1,
             "#f0f921"
            ]
           ],
           "sequentialminus": [
            [
             0,
             "#0d0887"
            ],
            [
             0.1111111111111111,
             "#46039f"
            ],
            [
             0.2222222222222222,
             "#7201a8"
            ],
            [
             0.3333333333333333,
             "#9c179e"
            ],
            [
             0.4444444444444444,
             "#bd3786"
            ],
            [
             0.5555555555555556,
             "#d8576b"
            ],
            [
             0.6666666666666666,
             "#ed7953"
            ],
            [
             0.7777777777777778,
             "#fb9f3a"
            ],
            [
             0.8888888888888888,
             "#fdca26"
            ],
            [
             1,
             "#f0f921"
            ]
           ]
          },
          "colorway": [
           "#636efa",
           "#EF553B",
           "#00cc96",
           "#ab63fa",
           "#FFA15A",
           "#19d3f3",
           "#FF6692",
           "#B6E880",
           "#FF97FF",
           "#FECB52"
          ],
          "font": {
           "color": "#f2f5fa"
          },
          "geo": {
           "bgcolor": "rgb(17,17,17)",
           "lakecolor": "rgb(17,17,17)",
           "landcolor": "rgb(17,17,17)",
           "showlakes": true,
           "showland": true,
           "subunitcolor": "#506784"
          },
          "hoverlabel": {
           "align": "left"
          },
          "hovermode": "closest",
          "mapbox": {
           "style": "dark"
          },
          "paper_bgcolor": "rgb(17,17,17)",
          "plot_bgcolor": "rgb(17,17,17)",
          "polar": {
           "angularaxis": {
            "gridcolor": "#506784",
            "linecolor": "#506784",
            "ticks": ""
           },
           "bgcolor": "rgb(17,17,17)",
           "radialaxis": {
            "gridcolor": "#506784",
            "linecolor": "#506784",
            "ticks": ""
           }
          },
          "scene": {
           "xaxis": {
            "backgroundcolor": "rgb(17,17,17)",
            "gridcolor": "#506784",
            "gridwidth": 2,
            "linecolor": "#506784",
            "showbackground": true,
            "ticks": "",
            "zerolinecolor": "#C8D4E3"
           },
           "yaxis": {
            "backgroundcolor": "rgb(17,17,17)",
            "gridcolor": "#506784",
            "gridwidth": 2,
            "linecolor": "#506784",
            "showbackground": true,
            "ticks": "",
            "zerolinecolor": "#C8D4E3"
           },
           "zaxis": {
            "backgroundcolor": "rgb(17,17,17)",
            "gridcolor": "#506784",
            "gridwidth": 2,
            "linecolor": "#506784",
            "showbackground": true,
            "ticks": "",
            "zerolinecolor": "#C8D4E3"
           }
          },
          "shapedefaults": {
           "line": {
            "color": "#f2f5fa"
           }
          },
          "sliderdefaults": {
           "bgcolor": "#C8D4E3",
           "bordercolor": "rgb(17,17,17)",
           "borderwidth": 1,
           "tickwidth": 0
          },
          "ternary": {
           "aaxis": {
            "gridcolor": "#506784",
            "linecolor": "#506784",
            "ticks": ""
           },
           "baxis": {
            "gridcolor": "#506784",
            "linecolor": "#506784",
            "ticks": ""
           },
           "bgcolor": "rgb(17,17,17)",
           "caxis": {
            "gridcolor": "#506784",
            "linecolor": "#506784",
            "ticks": ""
           }
          },
          "title": {
           "x": 0.05
          },
          "updatemenudefaults": {
           "bgcolor": "#506784",
           "borderwidth": 0
          },
          "xaxis": {
           "automargin": true,
           "gridcolor": "#283442",
           "linecolor": "#506784",
           "ticks": "",
           "title": {
            "standoff": 15
           },
           "zerolinecolor": "#283442",
           "zerolinewidth": 2
          },
          "yaxis": {
           "automargin": true,
           "gridcolor": "#283442",
           "linecolor": "#506784",
           "ticks": "",
           "title": {
            "standoff": 15
           },
           "zerolinecolor": "#283442",
           "zerolinewidth": 2
          }
         }
        },
        "title": {
         "text": "Performance Dashboard of 6-State HMM"
        },
        "xaxis": {
         "anchor": "y",
         "domain": [
          0,
          1
         ],
         "matches": "x2",
         "rangeslider": {
          "visible": false
         },
         "showticklabels": false
        },
        "xaxis2": {
         "anchor": "y2",
         "domain": [
          0,
          1
         ]
        },
        "yaxis": {
         "anchor": "x",
         "domain": [
          0.525,
          1
         ],
         "tickformat": "~s",
         "title": {
          "text": "BTC/USDT"
         }
        },
        "yaxis2": {
         "anchor": "x2",
         "domain": [
          0,
          0.475
         ],
         "tickformat": "~s",
         "title": {
          "text": "Portfolio Value"
         }
        }
       }
      }
     },
     "metadata": {},
     "output_type": "display_data"
    }
   ],
   "source": [
    "plotter.plot_results(backtest_results)"
   ]
  },
  {
   "cell_type": "markdown",
   "id": "6384367c",
   "metadata": {},
   "source": [
    "![Dashboard](img/img2.png)"
   ]
  },
  {
   "cell_type": "markdown",
   "id": "4cd57a98",
   "metadata": {},
   "source": [
    "In this instance, a single simulated path of the HMM-based trading strategy was evaluated against a HODL benchmark. The HMM strategy achieved an annualized Sharpe ratio of 1.75, a cumulative P&L of 45.21%, a maximum drawdown of -21.05%, and executed 48 trades. In comparison, the HODL benchmark produced an annualized Sharpe ratio of 1.02, a P&L of 23.68%, a maximum drawdown of -28.10%, and only one trade. These results highlight that the HMM-based approach delivered superior risk-adjusted performance, stronger returns, and lower downside exposure relative to the benchmark."
   ]
  },
  {
   "cell_type": "markdown",
   "id": "61b07d0d",
   "metadata": {},
   "source": [
    "# 4. HMM-Based Strategy Backtesting "
   ]
  },
  {
   "cell_type": "markdown",
   "id": "f077643c",
   "metadata": {},
   "source": [
    "## 4.1. Monte-Carlo Simulations using HMM-Based Strategy"
   ]
  },
  {
   "cell_type": "markdown",
   "id": "df3038dc",
   "metadata": {},
   "source": [
    "To evaluate the robustness of the HMM-based trading framework, I conducted 1,000 Monte-Carlo simulations on the test set. In each run, the HMM was fitted to the training data, latent states were predicted for the test period, and trading signals were generated accordingly. Strategy performance was assessed by computing key metrics: total return, Sharpe ratio, and maximum drawdown.\n",
    "\n",
    "Across simulations, I examined the average cumulative return path, as well as the distribution of total returns to capture variability in outcomes. Finally, I computed the mean and standard deviation of the performance metrics, providing a reliable measure of the strategy’s expected performance and associated risk."
   ]
  },
  {
   "cell_type": "code",
   "execution_count": 10,
   "id": "21f73fcf",
   "metadata": {},
   "outputs": [],
   "source": [
    "runs = 1000\n",
    "\n",
    "mc_backtester = MCBacktester(\n",
    "    features_test=features_test,\n",
    "    features_train=features_train,\n",
    "    test_df=test_df,\n",
    "    runs=runs,\n",
    ")"
   ]
  },
  {
   "cell_type": "code",
   "execution_count": 11,
   "id": "c9b29f57",
   "metadata": {},
   "outputs": [
    {
     "name": "stdout",
     "output_type": "stream",
     "text": [
      "2025-09-03 16:34:07 - src.mc_backtester - INFO - Run 1/1000\n",
      "2025-09-03 16:34:09 - src.mc_backtester - INFO - Run 2/1000\n",
      "2025-09-03 16:34:11 - src.mc_backtester - INFO - Run 3/1000\n",
      "2025-09-03 16:34:12 - src.mc_backtester - INFO - Run 4/1000\n",
      "2025-09-03 16:34:13 - src.mc_backtester - INFO - Run 5/1000\n",
      "2025-09-03 16:34:14 - src.mc_backtester - INFO - Run 6/1000\n",
      "2025-09-03 16:34:16 - src.mc_backtester - INFO - Run 7/1000\n",
      "2025-09-03 16:34:17 - src.mc_backtester - INFO - Run 8/1000\n",
      "2025-09-03 16:34:18 - src.mc_backtester - INFO - Run 9/1000\n",
      "2025-09-03 16:34:19 - src.mc_backtester - INFO - Run 10/1000\n",
      "2025-09-03 16:34:20 - src.mc_backtester - INFO - Run 11/1000\n",
      "2025-09-03 16:34:21 - src.mc_backtester - INFO - Run 12/1000\n",
      "2025-09-03 16:34:23 - src.mc_backtester - INFO - Run 13/1000\n",
      "2025-09-03 16:34:23 - src.mc_backtester - INFO - Run 14/1000\n",
      "2025-09-03 16:34:25 - src.mc_backtester - INFO - Run 15/1000\n",
      "2025-09-03 16:34:26 - src.mc_backtester - INFO - Run 16/1000\n",
      "2025-09-03 16:34:27 - src.mc_backtester - INFO - Run 17/1000\n",
      "2025-09-03 16:34:28 - src.mc_backtester - INFO - Run 18/1000\n",
      "2025-09-03 16:34:29 - src.mc_backtester - INFO - Run 19/1000\n",
      "2025-09-03 16:34:30 - src.mc_backtester - INFO - Run 20/1000\n",
      "2025-09-03 16:34:30 - src.mc_backtester - INFO - Run 21/1000\n",
      "2025-09-03 16:34:32 - src.mc_backtester - INFO - Run 22/1000\n",
      "2025-09-03 16:34:33 - src.mc_backtester - INFO - Run 23/1000\n",
      "2025-09-03 16:34:35 - src.mc_backtester - INFO - Run 24/1000\n",
      "2025-09-03 16:34:36 - src.mc_backtester - INFO - Run 25/1000\n",
      "2025-09-03 16:34:38 - src.mc_backtester - INFO - Run 26/1000\n",
      "2025-09-03 16:34:39 - src.mc_backtester - INFO - Run 27/1000\n",
      "2025-09-03 16:34:40 - src.mc_backtester - INFO - Run 28/1000\n",
      "2025-09-03 16:34:42 - src.mc_backtester - INFO - Run 29/1000\n",
      "2025-09-03 16:34:44 - src.mc_backtester - INFO - Run 30/1000\n",
      "2025-09-03 16:34:44 - src.mc_backtester - INFO - Run 31/1000\n",
      "2025-09-03 16:34:46 - src.mc_backtester - INFO - Run 32/1000\n",
      "2025-09-03 16:34:46 - src.mc_backtester - INFO - Run 33/1000\n",
      "2025-09-03 16:34:47 - src.mc_backtester - INFO - Run 34/1000\n",
      "2025-09-03 16:34:49 - src.mc_backtester - INFO - Run 35/1000\n",
      "2025-09-03 16:34:49 - src.mc_backtester - INFO - Run 36/1000\n",
      "2025-09-03 16:34:51 - src.mc_backtester - INFO - Run 37/1000\n",
      "2025-09-03 16:34:52 - src.mc_backtester - INFO - Run 38/1000\n",
      "2025-09-03 16:34:54 - src.mc_backtester - INFO - Run 39/1000\n",
      "2025-09-03 16:34:55 - src.mc_backtester - INFO - Run 40/1000\n",
      "2025-09-03 16:34:56 - src.mc_backtester - INFO - Run 41/1000\n",
      "2025-09-03 16:34:57 - src.mc_backtester - INFO - Run 42/1000\n",
      "2025-09-03 16:34:57 - src.mc_backtester - INFO - Run 43/1000\n",
      "2025-09-03 16:34:58 - src.mc_backtester - INFO - Run 44/1000\n",
      "2025-09-03 16:34:59 - src.mc_backtester - INFO - Run 45/1000\n",
      "2025-09-03 16:35:00 - src.mc_backtester - INFO - Run 46/1000\n",
      "2025-09-03 16:35:01 - src.mc_backtester - INFO - Run 47/1000\n",
      "2025-09-03 16:35:03 - src.mc_backtester - INFO - Run 48/1000\n",
      "2025-09-03 16:35:04 - src.mc_backtester - INFO - Run 49/1000\n",
      "2025-09-03 16:35:05 - src.mc_backtester - INFO - Run 50/1000\n",
      "2025-09-03 16:35:06 - src.mc_backtester - INFO - Run 51/1000\n",
      "2025-09-03 16:35:07 - src.mc_backtester - INFO - Run 52/1000\n",
      "2025-09-03 16:35:08 - src.mc_backtester - INFO - Run 53/1000\n",
      "2025-09-03 16:35:10 - src.mc_backtester - INFO - Run 54/1000\n",
      "2025-09-03 16:35:11 - src.mc_backtester - INFO - Run 55/1000\n",
      "2025-09-03 16:35:12 - src.mc_backtester - INFO - Run 56/1000\n",
      "2025-09-03 16:35:13 - src.mc_backtester - INFO - Run 57/1000\n",
      "2025-09-03 16:35:14 - src.mc_backtester - INFO - Run 58/1000\n",
      "2025-09-03 16:35:16 - src.mc_backtester - INFO - Run 59/1000\n",
      "2025-09-03 16:35:17 - src.mc_backtester - INFO - Run 60/1000\n",
      "2025-09-03 16:35:18 - src.mc_backtester - INFO - Run 61/1000\n",
      "2025-09-03 16:35:19 - src.mc_backtester - INFO - Run 62/1000\n",
      "2025-09-03 16:35:20 - src.mc_backtester - INFO - Run 63/1000\n",
      "2025-09-03 16:35:21 - src.mc_backtester - INFO - Run 64/1000\n",
      "2025-09-03 16:35:22 - src.mc_backtester - INFO - Run 65/1000\n",
      "2025-09-03 16:35:23 - src.mc_backtester - INFO - Run 66/1000\n",
      "2025-09-03 16:35:24 - src.mc_backtester - INFO - Run 67/1000\n",
      "2025-09-03 16:35:25 - src.mc_backtester - INFO - Run 68/1000\n",
      "2025-09-03 16:35:26 - src.mc_backtester - INFO - Run 69/1000\n",
      "2025-09-03 16:35:27 - src.mc_backtester - INFO - Run 70/1000\n",
      "2025-09-03 16:35:28 - src.mc_backtester - INFO - Run 71/1000\n",
      "2025-09-03 16:35:29 - src.mc_backtester - INFO - Run 72/1000\n",
      "2025-09-03 16:35:30 - src.mc_backtester - INFO - Run 73/1000\n",
      "2025-09-03 16:35:31 - src.mc_backtester - INFO - Run 74/1000\n",
      "2025-09-03 16:35:32 - src.mc_backtester - INFO - Run 75/1000\n",
      "2025-09-03 16:35:34 - src.mc_backtester - INFO - Run 76/1000\n",
      "2025-09-03 16:35:35 - src.mc_backtester - INFO - Run 77/1000\n",
      "2025-09-03 16:35:35 - src.mc_backtester - INFO - Run 78/1000\n",
      "2025-09-03 16:35:36 - src.mc_backtester - INFO - Run 79/1000\n",
      "2025-09-03 16:35:37 - src.mc_backtester - INFO - Run 80/1000\n",
      "2025-09-03 16:35:37 - src.mc_backtester - INFO - Run 81/1000\n",
      "2025-09-03 16:35:39 - src.mc_backtester - INFO - Run 82/1000\n",
      "2025-09-03 16:35:40 - src.mc_backtester - INFO - Run 83/1000\n",
      "2025-09-03 16:35:42 - src.mc_backtester - INFO - Run 84/1000\n",
      "2025-09-03 16:35:43 - src.mc_backtester - INFO - Run 85/1000\n",
      "2025-09-03 16:35:44 - src.mc_backtester - INFO - Run 86/1000\n",
      "2025-09-03 16:35:46 - src.mc_backtester - INFO - Run 87/1000\n",
      "2025-09-03 16:35:46 - src.mc_backtester - INFO - Run 88/1000\n",
      "2025-09-03 16:35:46 - src.mc_backtester - INFO - Run 89/1000\n",
      "2025-09-03 16:35:48 - src.mc_backtester - INFO - Run 90/1000\n",
      "2025-09-03 16:35:48 - src.mc_backtester - INFO - Run 91/1000\n",
      "2025-09-03 16:35:50 - src.mc_backtester - INFO - Run 92/1000\n",
      "2025-09-03 16:35:50 - src.mc_backtester - INFO - Run 93/1000\n",
      "2025-09-03 16:35:51 - src.mc_backtester - INFO - Run 94/1000\n",
      "2025-09-03 16:35:52 - src.mc_backtester - INFO - Run 95/1000\n",
      "2025-09-03 16:35:52 - src.mc_backtester - INFO - Run 96/1000\n",
      "2025-09-03 16:35:53 - src.mc_backtester - INFO - Run 97/1000\n",
      "2025-09-03 16:35:54 - src.mc_backtester - INFO - Run 98/1000\n",
      "2025-09-03 16:35:56 - src.mc_backtester - INFO - Run 99/1000\n",
      "2025-09-03 16:35:56 - src.mc_backtester - INFO - Run 100/1000\n",
      "2025-09-03 16:35:57 - src.mc_backtester - INFO - Run 101/1000\n",
      "2025-09-03 16:35:58 - src.mc_backtester - INFO - Run 102/1000\n",
      "2025-09-03 16:35:59 - src.mc_backtester - INFO - Run 103/1000\n",
      "2025-09-03 16:36:01 - src.mc_backtester - INFO - Run 104/1000\n",
      "2025-09-03 16:36:02 - src.mc_backtester - INFO - Run 105/1000\n",
      "2025-09-03 16:36:03 - src.mc_backtester - INFO - Run 106/1000\n",
      "2025-09-03 16:36:05 - src.mc_backtester - INFO - Run 107/1000\n",
      "2025-09-03 16:36:06 - src.mc_backtester - INFO - Run 108/1000\n",
      "2025-09-03 16:36:07 - src.mc_backtester - INFO - Run 109/1000\n",
      "2025-09-03 16:36:08 - src.mc_backtester - INFO - Run 110/1000\n",
      "2025-09-03 16:36:09 - src.mc_backtester - INFO - Run 111/1000\n",
      "2025-09-03 16:36:10 - src.mc_backtester - INFO - Run 112/1000\n",
      "2025-09-03 16:36:11 - src.mc_backtester - INFO - Run 113/1000\n",
      "2025-09-03 16:36:13 - src.mc_backtester - INFO - Run 114/1000\n",
      "2025-09-03 16:36:14 - src.mc_backtester - INFO - Run 115/1000\n",
      "2025-09-03 16:36:15 - src.mc_backtester - INFO - Run 116/1000\n",
      "2025-09-03 16:36:16 - src.mc_backtester - INFO - Run 117/1000\n",
      "2025-09-03 16:36:17 - src.mc_backtester - INFO - Run 118/1000\n",
      "2025-09-03 16:36:17 - src.mc_backtester - INFO - Run 119/1000\n",
      "2025-09-03 16:36:18 - src.mc_backtester - INFO - Run 120/1000\n",
      "2025-09-03 16:36:19 - src.mc_backtester - INFO - Run 121/1000\n",
      "2025-09-03 16:36:21 - src.mc_backtester - INFO - Run 122/1000\n",
      "2025-09-03 16:36:22 - src.mc_backtester - INFO - Run 123/1000\n",
      "2025-09-03 16:36:23 - src.mc_backtester - INFO - Run 124/1000\n",
      "2025-09-03 16:36:24 - src.mc_backtester - INFO - Run 125/1000\n",
      "2025-09-03 16:36:25 - src.mc_backtester - INFO - Run 126/1000\n",
      "2025-09-03 16:36:26 - src.mc_backtester - INFO - Run 127/1000\n",
      "2025-09-03 16:36:28 - src.mc_backtester - INFO - Run 128/1000\n",
      "2025-09-03 16:36:29 - src.mc_backtester - INFO - Run 129/1000\n",
      "2025-09-03 16:36:30 - src.mc_backtester - INFO - Run 130/1000\n",
      "2025-09-03 16:36:32 - src.mc_backtester - INFO - Run 131/1000\n",
      "2025-09-03 16:36:32 - src.mc_backtester - INFO - Run 132/1000\n",
      "2025-09-03 16:36:35 - src.mc_backtester - INFO - Run 133/1000\n",
      "2025-09-03 16:36:36 - src.mc_backtester - INFO - Run 134/1000\n",
      "2025-09-03 16:36:37 - src.mc_backtester - INFO - Run 135/1000\n",
      "2025-09-03 16:36:39 - src.mc_backtester - INFO - Run 136/1000\n",
      "2025-09-03 16:36:40 - src.mc_backtester - INFO - Run 137/1000\n",
      "2025-09-03 16:36:41 - src.mc_backtester - INFO - Run 138/1000\n",
      "2025-09-03 16:36:42 - src.mc_backtester - INFO - Run 139/1000\n",
      "2025-09-03 16:36:43 - src.mc_backtester - INFO - Run 140/1000\n",
      "2025-09-03 16:36:44 - src.mc_backtester - INFO - Run 141/1000\n",
      "2025-09-03 16:36:45 - src.mc_backtester - INFO - Run 142/1000\n",
      "2025-09-03 16:36:46 - src.mc_backtester - INFO - Run 143/1000\n",
      "2025-09-03 16:36:46 - src.mc_backtester - INFO - Run 144/1000\n",
      "2025-09-03 16:36:48 - src.mc_backtester - INFO - Run 145/1000\n",
      "2025-09-03 16:36:49 - src.mc_backtester - INFO - Run 146/1000\n",
      "2025-09-03 16:36:50 - src.mc_backtester - INFO - Run 147/1000\n",
      "2025-09-03 16:36:51 - src.mc_backtester - INFO - Run 148/1000\n",
      "2025-09-03 16:36:51 - src.mc_backtester - INFO - Run 149/1000\n",
      "2025-09-03 16:36:53 - src.mc_backtester - INFO - Run 150/1000\n",
      "2025-09-03 16:36:54 - src.mc_backtester - INFO - Run 151/1000\n",
      "2025-09-03 16:36:55 - src.mc_backtester - INFO - Run 152/1000\n",
      "2025-09-03 16:36:56 - src.mc_backtester - INFO - Run 153/1000\n",
      "2025-09-03 16:36:58 - src.mc_backtester - INFO - Run 154/1000\n",
      "2025-09-03 16:37:00 - src.mc_backtester - INFO - Run 155/1000\n",
      "2025-09-03 16:37:01 - src.mc_backtester - INFO - Run 156/1000\n",
      "2025-09-03 16:37:02 - src.mc_backtester - INFO - Run 157/1000\n",
      "2025-09-03 16:37:03 - src.mc_backtester - INFO - Run 158/1000\n",
      "2025-09-03 16:37:05 - src.mc_backtester - INFO - Run 159/1000\n",
      "2025-09-03 16:37:06 - src.mc_backtester - INFO - Run 160/1000\n",
      "2025-09-03 16:37:07 - src.mc_backtester - INFO - Run 161/1000\n",
      "2025-09-03 16:37:08 - src.mc_backtester - INFO - Run 162/1000\n",
      "2025-09-03 16:37:09 - src.mc_backtester - INFO - Run 163/1000\n",
      "2025-09-03 16:37:10 - src.mc_backtester - INFO - Run 164/1000\n",
      "2025-09-03 16:37:11 - src.mc_backtester - INFO - Run 165/1000\n",
      "2025-09-03 16:37:13 - src.mc_backtester - INFO - Run 166/1000\n",
      "2025-09-03 16:37:14 - src.mc_backtester - INFO - Run 167/1000\n",
      "2025-09-03 16:37:16 - src.mc_backtester - INFO - Run 168/1000\n",
      "2025-09-03 16:37:17 - src.mc_backtester - INFO - Run 169/1000\n",
      "2025-09-03 16:37:18 - src.mc_backtester - INFO - Run 170/1000\n",
      "2025-09-03 16:37:20 - src.mc_backtester - INFO - Run 171/1000\n",
      "2025-09-03 16:37:21 - src.mc_backtester - INFO - Run 172/1000\n",
      "2025-09-03 16:37:21 - src.mc_backtester - INFO - Run 173/1000\n",
      "2025-09-03 16:37:22 - src.mc_backtester - INFO - Run 174/1000\n",
      "2025-09-03 16:37:23 - src.mc_backtester - INFO - Run 175/1000\n",
      "2025-09-03 16:37:24 - src.mc_backtester - INFO - Run 176/1000\n",
      "2025-09-03 16:37:25 - src.mc_backtester - INFO - Run 177/1000\n",
      "2025-09-03 16:37:26 - src.mc_backtester - INFO - Run 178/1000\n",
      "2025-09-03 16:37:28 - src.mc_backtester - INFO - Run 179/1000\n",
      "2025-09-03 16:37:28 - src.mc_backtester - INFO - Run 180/1000\n",
      "2025-09-03 16:37:30 - src.mc_backtester - INFO - Run 181/1000\n",
      "2025-09-03 16:37:31 - src.mc_backtester - INFO - Run 182/1000\n",
      "2025-09-03 16:37:32 - src.mc_backtester - INFO - Run 183/1000\n",
      "2025-09-03 16:37:32 - src.mc_backtester - INFO - Run 184/1000\n",
      "2025-09-03 16:37:33 - src.mc_backtester - INFO - Run 185/1000\n",
      "2025-09-03 16:37:34 - src.mc_backtester - INFO - Run 186/1000\n",
      "2025-09-03 16:37:36 - src.mc_backtester - INFO - Run 187/1000\n",
      "2025-09-03 16:37:37 - src.mc_backtester - INFO - Run 188/1000\n",
      "2025-09-03 16:37:37 - src.mc_backtester - INFO - Run 189/1000\n",
      "2025-09-03 16:37:38 - src.mc_backtester - INFO - Run 190/1000\n",
      "2025-09-03 16:37:39 - src.mc_backtester - INFO - Run 191/1000\n",
      "2025-09-03 16:37:42 - src.mc_backtester - INFO - Run 192/1000\n",
      "2025-09-03 16:37:43 - src.mc_backtester - INFO - Run 193/1000\n",
      "2025-09-03 16:37:44 - src.mc_backtester - INFO - Run 194/1000\n",
      "2025-09-03 16:37:47 - src.mc_backtester - INFO - Run 195/1000\n",
      "2025-09-03 16:37:48 - src.mc_backtester - INFO - Run 196/1000\n",
      "2025-09-03 16:37:49 - src.mc_backtester - INFO - Run 197/1000\n",
      "2025-09-03 16:37:51 - src.mc_backtester - INFO - Run 198/1000\n",
      "2025-09-03 16:37:51 - src.mc_backtester - INFO - Run 199/1000\n",
      "2025-09-03 16:37:52 - src.mc_backtester - INFO - Run 200/1000\n",
      "2025-09-03 16:37:53 - src.mc_backtester - INFO - Run 201/1000\n",
      "2025-09-03 16:37:54 - src.mc_backtester - INFO - Run 202/1000\n",
      "2025-09-03 16:37:56 - src.mc_backtester - INFO - Run 203/1000\n",
      "2025-09-03 16:37:59 - src.mc_backtester - INFO - Run 204/1000\n",
      "2025-09-03 16:38:01 - src.mc_backtester - INFO - Run 205/1000\n",
      "2025-09-03 16:38:02 - src.mc_backtester - INFO - Run 206/1000\n",
      "2025-09-03 16:38:04 - src.mc_backtester - INFO - Run 207/1000\n",
      "2025-09-03 16:38:05 - src.mc_backtester - INFO - Run 208/1000\n",
      "2025-09-03 16:38:07 - src.mc_backtester - INFO - Run 209/1000\n",
      "2025-09-03 16:38:09 - src.mc_backtester - INFO - Run 210/1000\n",
      "2025-09-03 16:38:09 - src.mc_backtester - INFO - Run 211/1000\n",
      "2025-09-03 16:38:12 - src.mc_backtester - INFO - Run 212/1000\n",
      "2025-09-03 16:38:12 - src.mc_backtester - INFO - Run 213/1000\n",
      "2025-09-03 16:38:14 - src.mc_backtester - INFO - Run 214/1000\n",
      "2025-09-03 16:38:15 - src.mc_backtester - INFO - Run 215/1000\n",
      "2025-09-03 16:38:16 - src.mc_backtester - INFO - Run 216/1000\n",
      "2025-09-03 16:38:18 - src.mc_backtester - INFO - Run 217/1000\n",
      "2025-09-03 16:38:20 - src.mc_backtester - INFO - Run 218/1000\n",
      "2025-09-03 16:38:21 - src.mc_backtester - INFO - Run 219/1000\n",
      "2025-09-03 16:38:21 - src.mc_backtester - INFO - Run 220/1000\n",
      "2025-09-03 16:38:22 - src.mc_backtester - INFO - Run 221/1000\n",
      "2025-09-03 16:38:25 - src.mc_backtester - INFO - Run 222/1000\n",
      "2025-09-03 16:38:26 - src.mc_backtester - INFO - Run 223/1000\n",
      "2025-09-03 16:38:28 - src.mc_backtester - INFO - Run 224/1000\n",
      "2025-09-03 16:38:29 - src.mc_backtester - INFO - Run 225/1000\n",
      "2025-09-03 16:38:31 - src.mc_backtester - INFO - Run 226/1000\n",
      "2025-09-03 16:38:32 - src.mc_backtester - INFO - Run 227/1000\n",
      "2025-09-03 16:38:32 - src.mc_backtester - INFO - Run 228/1000\n",
      "2025-09-03 16:38:34 - src.mc_backtester - INFO - Run 229/1000\n",
      "2025-09-03 16:38:34 - src.mc_backtester - INFO - Run 230/1000\n",
      "2025-09-03 16:38:35 - src.mc_backtester - INFO - Run 231/1000\n",
      "2025-09-03 16:38:37 - src.mc_backtester - INFO - Run 232/1000\n",
      "2025-09-03 16:38:38 - src.mc_backtester - INFO - Run 233/1000\n",
      "2025-09-03 16:38:40 - src.mc_backtester - INFO - Run 234/1000\n",
      "2025-09-03 16:38:41 - src.mc_backtester - INFO - Run 235/1000\n",
      "2025-09-03 16:38:41 - src.mc_backtester - INFO - Run 236/1000\n",
      "2025-09-03 16:38:43 - src.mc_backtester - INFO - Run 237/1000\n",
      "2025-09-03 16:38:44 - src.mc_backtester - INFO - Run 238/1000\n",
      "2025-09-03 16:38:45 - src.mc_backtester - INFO - Run 239/1000\n",
      "2025-09-03 16:38:46 - src.mc_backtester - INFO - Run 240/1000\n",
      "2025-09-03 16:38:48 - src.mc_backtester - INFO - Run 241/1000\n",
      "2025-09-03 16:38:49 - src.mc_backtester - INFO - Run 242/1000\n",
      "2025-09-03 16:38:51 - src.mc_backtester - INFO - Run 243/1000\n",
      "2025-09-03 16:38:52 - src.mc_backtester - INFO - Run 244/1000\n",
      "2025-09-03 16:38:54 - src.mc_backtester - INFO - Run 245/1000\n",
      "2025-09-03 16:38:55 - src.mc_backtester - INFO - Run 246/1000\n",
      "2025-09-03 16:38:56 - src.mc_backtester - INFO - Run 247/1000\n",
      "2025-09-03 16:38:57 - src.mc_backtester - INFO - Run 248/1000\n",
      "2025-09-03 16:38:58 - src.mc_backtester - INFO - Run 249/1000\n",
      "2025-09-03 16:38:59 - src.mc_backtester - INFO - Run 250/1000\n",
      "2025-09-03 16:39:00 - src.mc_backtester - INFO - Run 251/1000\n",
      "2025-09-03 16:39:01 - src.mc_backtester - INFO - Run 252/1000\n",
      "2025-09-03 16:39:04 - src.mc_backtester - INFO - Run 253/1000\n",
      "2025-09-03 16:39:04 - src.mc_backtester - INFO - Run 254/1000\n",
      "2025-09-03 16:39:06 - src.mc_backtester - INFO - Run 255/1000\n",
      "2025-09-03 16:39:08 - src.mc_backtester - INFO - Run 256/1000\n",
      "2025-09-03 16:39:09 - src.mc_backtester - INFO - Run 257/1000\n",
      "2025-09-03 16:39:10 - src.mc_backtester - INFO - Run 258/1000\n",
      "2025-09-03 16:39:11 - src.mc_backtester - INFO - Run 259/1000\n",
      "2025-09-03 16:39:11 - src.mc_backtester - INFO - Run 260/1000\n",
      "2025-09-03 16:39:12 - src.mc_backtester - INFO - Run 261/1000\n",
      "2025-09-03 16:39:12 - src.mc_backtester - INFO - Run 262/1000\n",
      "2025-09-03 16:39:12 - src.mc_backtester - INFO - Run 263/1000\n",
      "2025-09-03 16:39:14 - src.mc_backtester - INFO - Run 264/1000\n",
      "2025-09-03 16:39:15 - src.mc_backtester - INFO - Run 265/1000\n",
      "2025-09-03 16:39:17 - src.mc_backtester - INFO - Run 266/1000\n",
      "2025-09-03 16:39:17 - src.mc_backtester - INFO - Run 267/1000\n",
      "2025-09-03 16:39:17 - src.mc_backtester - INFO - Run 268/1000\n",
      "2025-09-03 16:39:18 - src.mc_backtester - INFO - Run 269/1000\n",
      "2025-09-03 16:39:20 - src.mc_backtester - INFO - Run 270/1000\n",
      "2025-09-03 16:39:21 - src.mc_backtester - INFO - Run 271/1000\n",
      "2025-09-03 16:39:22 - src.mc_backtester - INFO - Run 272/1000\n",
      "2025-09-03 16:39:24 - src.mc_backtester - INFO - Run 273/1000\n",
      "2025-09-03 16:39:26 - src.mc_backtester - INFO - Run 274/1000\n",
      "2025-09-03 16:39:26 - src.mc_backtester - INFO - Run 275/1000\n",
      "2025-09-03 16:39:28 - src.mc_backtester - INFO - Run 276/1000\n",
      "2025-09-03 16:39:28 - src.mc_backtester - INFO - Run 277/1000\n",
      "2025-09-03 16:39:29 - src.mc_backtester - INFO - Run 278/1000\n",
      "2025-09-03 16:39:30 - src.mc_backtester - INFO - Run 279/1000\n",
      "2025-09-03 16:39:31 - src.mc_backtester - INFO - Run 280/1000\n",
      "2025-09-03 16:39:32 - src.mc_backtester - INFO - Run 281/1000\n",
      "2025-09-03 16:39:33 - src.mc_backtester - INFO - Run 282/1000\n",
      "2025-09-03 16:39:34 - src.mc_backtester - INFO - Run 283/1000\n",
      "2025-09-03 16:39:36 - src.mc_backtester - INFO - Run 284/1000\n",
      "2025-09-03 16:39:37 - src.mc_backtester - INFO - Run 285/1000\n",
      "2025-09-03 16:39:37 - src.mc_backtester - INFO - Run 286/1000\n",
      "2025-09-03 16:39:38 - src.mc_backtester - INFO - Run 287/1000\n",
      "2025-09-03 16:39:39 - src.mc_backtester - INFO - Run 288/1000\n",
      "2025-09-03 16:39:40 - src.mc_backtester - INFO - Run 289/1000\n",
      "2025-09-03 16:39:41 - src.mc_backtester - INFO - Run 290/1000\n",
      "2025-09-03 16:39:42 - src.mc_backtester - INFO - Run 291/1000\n",
      "2025-09-03 16:39:43 - src.mc_backtester - INFO - Run 292/1000\n",
      "2025-09-03 16:39:44 - src.mc_backtester - INFO - Run 293/1000\n",
      "2025-09-03 16:39:45 - src.mc_backtester - INFO - Run 294/1000\n",
      "2025-09-03 16:39:47 - src.mc_backtester - INFO - Run 295/1000\n",
      "2025-09-03 16:39:48 - src.mc_backtester - INFO - Run 296/1000\n",
      "2025-09-03 16:39:48 - src.mc_backtester - INFO - Run 297/1000\n",
      "2025-09-03 16:39:49 - src.mc_backtester - INFO - Run 298/1000\n",
      "2025-09-03 16:39:49 - src.mc_backtester - INFO - Run 299/1000\n",
      "2025-09-03 16:39:51 - src.mc_backtester - INFO - Run 300/1000\n",
      "2025-09-03 16:39:52 - src.mc_backtester - INFO - Run 301/1000\n",
      "2025-09-03 16:39:53 - src.mc_backtester - INFO - Run 302/1000\n",
      "2025-09-03 16:39:54 - src.mc_backtester - INFO - Run 303/1000\n",
      "2025-09-03 16:39:55 - src.mc_backtester - INFO - Run 304/1000\n",
      "2025-09-03 16:39:58 - src.mc_backtester - INFO - Run 305/1000\n",
      "2025-09-03 16:39:59 - src.mc_backtester - INFO - Run 306/1000\n",
      "2025-09-03 16:40:01 - src.mc_backtester - INFO - Run 307/1000\n",
      "2025-09-03 16:40:02 - src.mc_backtester - INFO - Run 308/1000\n",
      "2025-09-03 16:40:03 - src.mc_backtester - INFO - Run 309/1000\n",
      "2025-09-03 16:40:04 - src.mc_backtester - INFO - Run 310/1000\n",
      "2025-09-03 16:40:05 - src.mc_backtester - INFO - Run 311/1000\n",
      "2025-09-03 16:40:06 - src.mc_backtester - INFO - Run 312/1000\n",
      "2025-09-03 16:40:07 - src.mc_backtester - INFO - Run 313/1000\n",
      "2025-09-03 16:40:08 - src.mc_backtester - INFO - Run 314/1000\n",
      "2025-09-03 16:40:09 - src.mc_backtester - INFO - Run 315/1000\n",
      "2025-09-03 16:40:10 - src.mc_backtester - INFO - Run 316/1000\n",
      "2025-09-03 16:40:14 - src.mc_backtester - INFO - Run 317/1000\n",
      "2025-09-03 16:40:14 - src.mc_backtester - INFO - Run 318/1000\n",
      "2025-09-03 16:40:15 - src.mc_backtester - INFO - Run 319/1000\n",
      "2025-09-03 16:40:17 - src.mc_backtester - INFO - Run 320/1000\n",
      "2025-09-03 16:40:18 - src.mc_backtester - INFO - Run 321/1000\n",
      "2025-09-03 16:40:18 - src.mc_backtester - INFO - Run 322/1000\n",
      "2025-09-03 16:40:19 - src.mc_backtester - INFO - Run 323/1000\n",
      "2025-09-03 16:40:21 - src.mc_backtester - INFO - Run 324/1000\n",
      "2025-09-03 16:40:21 - src.mc_backtester - INFO - Run 325/1000\n",
      "2025-09-03 16:40:22 - src.mc_backtester - INFO - Run 326/1000\n",
      "2025-09-03 16:40:23 - src.mc_backtester - INFO - Run 327/1000\n",
      "2025-09-03 16:40:24 - src.mc_backtester - INFO - Run 328/1000\n",
      "2025-09-03 16:40:25 - src.mc_backtester - INFO - Run 329/1000\n",
      "2025-09-03 16:40:26 - src.mc_backtester - INFO - Run 330/1000\n",
      "2025-09-03 16:40:28 - src.mc_backtester - INFO - Run 331/1000\n",
      "2025-09-03 16:40:29 - src.mc_backtester - INFO - Run 332/1000\n",
      "2025-09-03 16:40:30 - src.mc_backtester - INFO - Run 333/1000\n",
      "2025-09-03 16:40:31 - src.mc_backtester - INFO - Run 334/1000\n",
      "2025-09-03 16:40:34 - src.mc_backtester - INFO - Run 335/1000\n",
      "2025-09-03 16:40:35 - src.mc_backtester - INFO - Run 336/1000\n",
      "2025-09-03 16:40:36 - src.mc_backtester - INFO - Run 337/1000\n",
      "2025-09-03 16:40:37 - src.mc_backtester - INFO - Run 338/1000\n",
      "2025-09-03 16:40:39 - src.mc_backtester - INFO - Run 339/1000\n",
      "2025-09-03 16:40:40 - src.mc_backtester - INFO - Run 340/1000\n",
      "2025-09-03 16:40:42 - src.mc_backtester - INFO - Run 341/1000\n",
      "2025-09-03 16:40:43 - src.mc_backtester - INFO - Run 342/1000\n",
      "2025-09-03 16:40:45 - src.mc_backtester - INFO - Run 343/1000\n",
      "2025-09-03 16:40:46 - src.mc_backtester - INFO - Run 344/1000\n",
      "2025-09-03 16:40:47 - src.mc_backtester - INFO - Run 345/1000\n",
      "2025-09-03 16:40:48 - src.mc_backtester - INFO - Run 346/1000\n",
      "2025-09-03 16:40:49 - src.mc_backtester - INFO - Run 347/1000\n",
      "2025-09-03 16:40:49 - src.mc_backtester - INFO - Run 348/1000\n",
      "2025-09-03 16:40:50 - src.mc_backtester - INFO - Run 349/1000\n",
      "2025-09-03 16:40:51 - src.mc_backtester - INFO - Run 350/1000\n",
      "2025-09-03 16:40:53 - src.mc_backtester - INFO - Run 351/1000\n",
      "2025-09-03 16:40:53 - src.mc_backtester - INFO - Run 352/1000\n",
      "2025-09-03 16:40:54 - src.mc_backtester - INFO - Run 353/1000\n",
      "2025-09-03 16:40:55 - src.mc_backtester - INFO - Run 354/1000\n",
      "2025-09-03 16:40:57 - src.mc_backtester - INFO - Run 355/1000\n",
      "2025-09-03 16:40:58 - src.mc_backtester - INFO - Run 356/1000\n",
      "2025-09-03 16:40:59 - src.mc_backtester - INFO - Run 357/1000\n",
      "2025-09-03 16:41:01 - src.mc_backtester - INFO - Run 358/1000\n",
      "2025-09-03 16:41:01 - src.mc_backtester - INFO - Run 359/1000\n",
      "2025-09-03 16:41:03 - src.mc_backtester - INFO - Run 360/1000\n",
      "2025-09-03 16:41:03 - src.mc_backtester - INFO - Run 361/1000\n",
      "2025-09-03 16:41:04 - src.mc_backtester - INFO - Run 362/1000\n",
      "2025-09-03 16:41:05 - src.mc_backtester - INFO - Run 363/1000\n",
      "2025-09-03 16:41:07 - src.mc_backtester - INFO - Run 364/1000\n",
      "2025-09-03 16:41:08 - src.mc_backtester - INFO - Run 365/1000\n",
      "2025-09-03 16:41:08 - src.mc_backtester - INFO - Run 366/1000\n",
      "2025-09-03 16:41:08 - src.mc_backtester - INFO - Run 367/1000\n",
      "2025-09-03 16:41:11 - src.mc_backtester - INFO - Run 368/1000\n",
      "2025-09-03 16:41:11 - src.mc_backtester - INFO - Run 369/1000\n",
      "2025-09-03 16:41:13 - src.mc_backtester - INFO - Run 370/1000\n",
      "2025-09-03 16:41:14 - src.mc_backtester - INFO - Run 371/1000\n",
      "2025-09-03 16:41:15 - src.mc_backtester - INFO - Run 372/1000\n",
      "2025-09-03 16:41:17 - src.mc_backtester - INFO - Run 373/1000\n",
      "2025-09-03 16:41:18 - src.mc_backtester - INFO - Run 374/1000\n",
      "2025-09-03 16:41:19 - src.mc_backtester - INFO - Run 375/1000\n",
      "2025-09-03 16:41:20 - src.mc_backtester - INFO - Run 376/1000\n",
      "2025-09-03 16:41:21 - src.mc_backtester - INFO - Run 377/1000\n",
      "2025-09-03 16:41:22 - src.mc_backtester - INFO - Run 378/1000\n",
      "2025-09-03 16:41:23 - src.mc_backtester - INFO - Run 379/1000\n",
      "2025-09-03 16:41:24 - src.mc_backtester - INFO - Run 380/1000\n",
      "2025-09-03 16:41:25 - src.mc_backtester - INFO - Run 381/1000\n",
      "2025-09-03 16:41:26 - src.mc_backtester - INFO - Run 382/1000\n",
      "2025-09-03 16:41:27 - src.mc_backtester - INFO - Run 383/1000\n",
      "2025-09-03 16:41:28 - src.mc_backtester - INFO - Run 384/1000\n",
      "2025-09-03 16:41:28 - src.mc_backtester - INFO - Run 385/1000\n",
      "2025-09-03 16:41:30 - src.mc_backtester - INFO - Run 386/1000\n",
      "2025-09-03 16:41:31 - src.mc_backtester - INFO - Run 387/1000\n",
      "2025-09-03 16:41:33 - src.mc_backtester - INFO - Run 388/1000\n",
      "2025-09-03 16:41:34 - src.mc_backtester - INFO - Run 389/1000\n",
      "2025-09-03 16:41:35 - src.mc_backtester - INFO - Run 390/1000\n",
      "2025-09-03 16:41:36 - src.mc_backtester - INFO - Run 391/1000\n",
      "2025-09-03 16:41:37 - src.mc_backtester - INFO - Run 392/1000\n",
      "2025-09-03 16:41:38 - src.mc_backtester - INFO - Run 393/1000\n",
      "2025-09-03 16:41:39 - src.mc_backtester - INFO - Run 394/1000\n",
      "2025-09-03 16:41:40 - src.mc_backtester - INFO - Run 395/1000\n",
      "2025-09-03 16:41:41 - src.mc_backtester - INFO - Run 396/1000\n",
      "2025-09-03 16:41:43 - src.mc_backtester - INFO - Run 397/1000\n",
      "2025-09-03 16:41:44 - src.mc_backtester - INFO - Run 398/1000\n",
      "2025-09-03 16:41:46 - src.mc_backtester - INFO - Run 399/1000\n",
      "2025-09-03 16:41:47 - src.mc_backtester - INFO - Run 400/1000\n",
      "2025-09-03 16:41:49 - src.mc_backtester - INFO - Run 401/1000\n",
      "2025-09-03 16:41:50 - src.mc_backtester - INFO - Run 402/1000\n",
      "2025-09-03 16:41:51 - src.mc_backtester - INFO - Run 403/1000\n",
      "2025-09-03 16:41:52 - src.mc_backtester - INFO - Run 404/1000\n",
      "2025-09-03 16:41:53 - src.mc_backtester - INFO - Run 405/1000\n",
      "2025-09-03 16:41:54 - src.mc_backtester - INFO - Run 406/1000\n",
      "2025-09-03 16:41:55 - src.mc_backtester - INFO - Run 407/1000\n",
      "2025-09-03 16:41:56 - src.mc_backtester - INFO - Run 408/1000\n",
      "2025-09-03 16:41:57 - src.mc_backtester - INFO - Run 409/1000\n",
      "2025-09-03 16:41:59 - src.mc_backtester - INFO - Run 410/1000\n",
      "2025-09-03 16:41:59 - src.mc_backtester - INFO - Run 411/1000\n",
      "2025-09-03 16:42:00 - src.mc_backtester - INFO - Run 412/1000\n",
      "2025-09-03 16:42:00 - src.mc_backtester - INFO - Run 413/1000\n",
      "2025-09-03 16:42:01 - src.mc_backtester - INFO - Run 414/1000\n",
      "2025-09-03 16:42:02 - src.mc_backtester - INFO - Run 415/1000\n",
      "2025-09-03 16:42:03 - src.mc_backtester - INFO - Run 416/1000\n",
      "2025-09-03 16:42:04 - src.mc_backtester - INFO - Run 417/1000\n",
      "2025-09-03 16:42:05 - src.mc_backtester - INFO - Run 418/1000\n",
      "2025-09-03 16:42:07 - src.mc_backtester - INFO - Run 419/1000\n",
      "2025-09-03 16:42:07 - src.mc_backtester - INFO - Run 420/1000\n",
      "2025-09-03 16:42:09 - src.mc_backtester - INFO - Run 421/1000\n",
      "2025-09-03 16:42:12 - src.mc_backtester - INFO - Run 422/1000\n",
      "2025-09-03 16:42:13 - src.mc_backtester - INFO - Run 423/1000\n",
      "2025-09-03 16:42:15 - src.mc_backtester - INFO - Run 424/1000\n",
      "2025-09-03 16:42:16 - src.mc_backtester - INFO - Run 425/1000\n",
      "2025-09-03 16:42:17 - src.mc_backtester - INFO - Run 426/1000\n",
      "2025-09-03 16:42:18 - src.mc_backtester - INFO - Run 427/1000\n",
      "2025-09-03 16:42:18 - src.mc_backtester - INFO - Run 428/1000\n",
      "2025-09-03 16:42:19 - src.mc_backtester - INFO - Run 429/1000\n",
      "2025-09-03 16:42:20 - src.mc_backtester - INFO - Run 430/1000\n",
      "2025-09-03 16:42:21 - src.mc_backtester - INFO - Run 431/1000\n",
      "2025-09-03 16:42:23 - src.mc_backtester - INFO - Run 432/1000\n",
      "2025-09-03 16:42:24 - src.mc_backtester - INFO - Run 433/1000\n",
      "2025-09-03 16:42:25 - src.mc_backtester - INFO - Run 434/1000\n",
      "2025-09-03 16:42:27 - src.mc_backtester - INFO - Run 435/1000\n",
      "2025-09-03 16:42:29 - src.mc_backtester - INFO - Run 436/1000\n",
      "2025-09-03 16:42:29 - src.mc_backtester - INFO - Run 437/1000\n",
      "2025-09-03 16:42:31 - src.mc_backtester - INFO - Run 438/1000\n",
      "2025-09-03 16:42:32 - src.mc_backtester - INFO - Run 439/1000\n",
      "2025-09-03 16:42:33 - src.mc_backtester - INFO - Run 440/1000\n",
      "2025-09-03 16:42:35 - src.mc_backtester - INFO - Run 441/1000\n",
      "2025-09-03 16:42:36 - src.mc_backtester - INFO - Run 442/1000\n",
      "2025-09-03 16:42:38 - src.mc_backtester - INFO - Run 443/1000\n",
      "2025-09-03 16:42:38 - src.mc_backtester - INFO - Run 444/1000\n",
      "2025-09-03 16:42:39 - src.mc_backtester - INFO - Run 445/1000\n",
      "2025-09-03 16:42:40 - src.mc_backtester - INFO - Run 446/1000\n",
      "2025-09-03 16:42:40 - src.mc_backtester - INFO - Run 447/1000\n",
      "2025-09-03 16:42:41 - src.mc_backtester - INFO - Run 448/1000\n",
      "2025-09-03 16:42:42 - src.mc_backtester - INFO - Run 449/1000\n",
      "2025-09-03 16:42:43 - src.mc_backtester - INFO - Run 450/1000\n",
      "2025-09-03 16:42:44 - src.mc_backtester - INFO - Run 451/1000\n",
      "2025-09-03 16:42:46 - src.mc_backtester - INFO - Run 452/1000\n",
      "2025-09-03 16:42:47 - src.mc_backtester - INFO - Run 453/1000\n",
      "2025-09-03 16:42:49 - src.mc_backtester - INFO - Run 454/1000\n",
      "2025-09-03 16:42:49 - src.mc_backtester - INFO - Run 455/1000\n",
      "2025-09-03 16:42:50 - src.mc_backtester - INFO - Run 456/1000\n",
      "2025-09-03 16:42:51 - src.mc_backtester - INFO - Run 457/1000\n",
      "2025-09-03 16:42:53 - src.mc_backtester - INFO - Run 458/1000\n",
      "2025-09-03 16:42:55 - src.mc_backtester - INFO - Run 459/1000\n",
      "2025-09-03 16:42:56 - src.mc_backtester - INFO - Run 460/1000\n",
      "2025-09-03 16:42:57 - src.mc_backtester - INFO - Run 461/1000\n",
      "2025-09-03 16:42:57 - src.mc_backtester - INFO - Run 462/1000\n",
      "2025-09-03 16:42:59 - src.mc_backtester - INFO - Run 463/1000\n",
      "2025-09-03 16:43:00 - src.mc_backtester - INFO - Run 464/1000\n",
      "2025-09-03 16:43:01 - src.mc_backtester - INFO - Run 465/1000\n",
      "2025-09-03 16:43:02 - src.mc_backtester - INFO - Run 466/1000\n",
      "2025-09-03 16:43:03 - src.mc_backtester - INFO - Run 467/1000\n",
      "2025-09-03 16:43:04 - src.mc_backtester - INFO - Run 468/1000\n",
      "2025-09-03 16:43:05 - src.mc_backtester - INFO - Run 469/1000\n",
      "2025-09-03 16:43:07 - src.mc_backtester - INFO - Run 470/1000\n",
      "2025-09-03 16:43:09 - src.mc_backtester - INFO - Run 471/1000\n",
      "2025-09-03 16:43:09 - src.mc_backtester - INFO - Run 472/1000\n",
      "2025-09-03 16:43:10 - src.mc_backtester - INFO - Run 473/1000\n",
      "2025-09-03 16:43:11 - src.mc_backtester - INFO - Run 474/1000\n",
      "2025-09-03 16:43:13 - src.mc_backtester - INFO - Run 475/1000\n",
      "2025-09-03 16:43:14 - src.mc_backtester - INFO - Run 476/1000\n",
      "2025-09-03 16:43:14 - src.mc_backtester - INFO - Run 477/1000\n",
      "2025-09-03 16:43:16 - src.mc_backtester - INFO - Run 478/1000\n",
      "2025-09-03 16:43:17 - src.mc_backtester - INFO - Run 479/1000\n",
      "2025-09-03 16:43:18 - src.mc_backtester - INFO - Run 480/1000\n",
      "2025-09-03 16:43:19 - src.mc_backtester - INFO - Run 481/1000\n",
      "2025-09-03 16:43:20 - src.mc_backtester - INFO - Run 482/1000\n",
      "2025-09-03 16:43:22 - src.mc_backtester - INFO - Run 483/1000\n",
      "2025-09-03 16:43:23 - src.mc_backtester - INFO - Run 484/1000\n",
      "2025-09-03 16:43:26 - src.mc_backtester - INFO - Run 485/1000\n",
      "2025-09-03 16:43:27 - src.mc_backtester - INFO - Run 486/1000\n",
      "2025-09-03 16:43:27 - src.mc_backtester - INFO - Run 487/1000\n",
      "2025-09-03 16:43:28 - src.mc_backtester - INFO - Run 488/1000\n",
      "2025-09-03 16:43:29 - src.mc_backtester - INFO - Run 489/1000\n",
      "2025-09-03 16:43:30 - src.mc_backtester - INFO - Run 490/1000\n",
      "2025-09-03 16:43:31 - src.mc_backtester - INFO - Run 491/1000\n",
      "2025-09-03 16:43:32 - src.mc_backtester - INFO - Run 492/1000\n",
      "2025-09-03 16:43:33 - src.mc_backtester - INFO - Run 493/1000\n",
      "2025-09-03 16:43:34 - src.mc_backtester - INFO - Run 494/1000\n",
      "2025-09-03 16:43:36 - src.mc_backtester - INFO - Run 495/1000\n",
      "2025-09-03 16:43:37 - src.mc_backtester - INFO - Run 496/1000\n",
      "2025-09-03 16:43:38 - src.mc_backtester - INFO - Run 497/1000\n",
      "2025-09-03 16:43:38 - src.mc_backtester - INFO - Run 498/1000\n",
      "2025-09-03 16:43:40 - src.mc_backtester - INFO - Run 499/1000\n",
      "2025-09-03 16:43:41 - src.mc_backtester - INFO - Run 500/1000\n",
      "2025-09-03 16:43:41 - src.mc_backtester - INFO - Run 501/1000\n",
      "2025-09-03 16:43:43 - src.mc_backtester - INFO - Run 502/1000\n",
      "2025-09-03 16:43:45 - src.mc_backtester - INFO - Run 503/1000\n",
      "2025-09-03 16:43:46 - src.mc_backtester - INFO - Run 504/1000\n",
      "2025-09-03 16:43:47 - src.mc_backtester - INFO - Run 505/1000\n",
      "2025-09-03 16:43:48 - src.mc_backtester - INFO - Run 506/1000\n",
      "2025-09-03 16:43:50 - src.mc_backtester - INFO - Run 507/1000\n",
      "2025-09-03 16:43:50 - src.mc_backtester - INFO - Run 508/1000\n",
      "2025-09-03 16:43:52 - src.mc_backtester - INFO - Run 509/1000\n",
      "2025-09-03 16:43:53 - src.mc_backtester - INFO - Run 510/1000\n",
      "2025-09-03 16:43:55 - src.mc_backtester - INFO - Run 511/1000\n",
      "2025-09-03 16:43:56 - src.mc_backtester - INFO - Run 512/1000\n",
      "2025-09-03 16:43:57 - src.mc_backtester - INFO - Run 513/1000\n",
      "2025-09-03 16:43:58 - src.mc_backtester - INFO - Run 514/1000\n",
      "2025-09-03 16:44:00 - src.mc_backtester - INFO - Run 515/1000\n",
      "2025-09-03 16:44:01 - src.mc_backtester - INFO - Run 516/1000\n",
      "2025-09-03 16:44:02 - src.mc_backtester - INFO - Run 517/1000\n",
      "2025-09-03 16:44:03 - src.mc_backtester - INFO - Run 518/1000\n",
      "2025-09-03 16:44:05 - src.mc_backtester - INFO - Run 519/1000\n",
      "2025-09-03 16:44:05 - src.mc_backtester - INFO - Run 520/1000\n",
      "2025-09-03 16:44:06 - src.mc_backtester - INFO - Run 521/1000\n",
      "2025-09-03 16:44:06 - src.mc_backtester - INFO - Run 522/1000\n",
      "2025-09-03 16:44:06 - src.mc_backtester - INFO - Run 523/1000\n",
      "2025-09-03 16:44:07 - src.mc_backtester - INFO - Run 524/1000\n",
      "2025-09-03 16:44:10 - src.mc_backtester - INFO - Run 525/1000\n",
      "2025-09-03 16:44:11 - src.mc_backtester - INFO - Run 526/1000\n",
      "2025-09-03 16:44:12 - src.mc_backtester - INFO - Run 527/1000\n",
      "2025-09-03 16:44:14 - src.mc_backtester - INFO - Run 528/1000\n",
      "2025-09-03 16:44:16 - src.mc_backtester - INFO - Run 529/1000\n",
      "2025-09-03 16:44:17 - src.mc_backtester - INFO - Run 530/1000\n",
      "2025-09-03 16:44:20 - src.mc_backtester - INFO - Run 531/1000\n",
      "2025-09-03 16:44:21 - src.mc_backtester - INFO - Run 532/1000\n",
      "2025-09-03 16:44:22 - src.mc_backtester - INFO - Run 533/1000\n",
      "2025-09-03 16:44:23 - src.mc_backtester - INFO - Run 534/1000\n",
      "2025-09-03 16:44:25 - src.mc_backtester - INFO - Run 535/1000\n",
      "2025-09-03 16:44:26 - src.mc_backtester - INFO - Run 536/1000\n",
      "2025-09-03 16:44:26 - src.mc_backtester - INFO - Run 537/1000\n",
      "2025-09-03 16:44:28 - src.mc_backtester - INFO - Run 538/1000\n",
      "2025-09-03 16:44:29 - src.mc_backtester - INFO - Run 539/1000\n",
      "2025-09-03 16:44:29 - src.mc_backtester - INFO - Run 540/1000\n",
      "2025-09-03 16:44:31 - src.mc_backtester - INFO - Run 541/1000\n",
      "2025-09-03 16:44:31 - src.mc_backtester - INFO - Run 542/1000\n",
      "2025-09-03 16:44:32 - src.mc_backtester - INFO - Run 543/1000\n",
      "2025-09-03 16:44:34 - src.mc_backtester - INFO - Run 544/1000\n",
      "2025-09-03 16:44:35 - src.mc_backtester - INFO - Run 545/1000\n",
      "2025-09-03 16:44:37 - src.mc_backtester - INFO - Run 546/1000\n",
      "2025-09-03 16:44:38 - src.mc_backtester - INFO - Run 547/1000\n",
      "2025-09-03 16:44:38 - src.mc_backtester - INFO - Run 548/1000\n",
      "2025-09-03 16:44:39 - src.mc_backtester - INFO - Run 549/1000\n",
      "2025-09-03 16:44:40 - src.mc_backtester - INFO - Run 550/1000\n",
      "2025-09-03 16:44:41 - src.mc_backtester - INFO - Run 551/1000\n",
      "2025-09-03 16:44:43 - src.mc_backtester - INFO - Run 552/1000\n",
      "2025-09-03 16:44:43 - src.mc_backtester - INFO - Run 553/1000\n",
      "2025-09-03 16:44:45 - src.mc_backtester - INFO - Run 554/1000\n",
      "2025-09-03 16:44:46 - src.mc_backtester - INFO - Run 555/1000\n",
      "2025-09-03 16:44:46 - src.mc_backtester - INFO - Run 556/1000\n",
      "2025-09-03 16:44:46 - src.mc_backtester - INFO - Run 557/1000\n",
      "2025-09-03 16:44:47 - src.mc_backtester - INFO - Run 558/1000\n",
      "2025-09-03 16:44:48 - src.mc_backtester - INFO - Run 559/1000\n",
      "2025-09-03 16:44:49 - src.mc_backtester - INFO - Run 560/1000\n",
      "2025-09-03 16:44:51 - src.mc_backtester - INFO - Run 561/1000\n",
      "2025-09-03 16:44:52 - src.mc_backtester - INFO - Run 562/1000\n",
      "2025-09-03 16:44:53 - src.mc_backtester - INFO - Run 563/1000\n",
      "2025-09-03 16:44:55 - src.mc_backtester - INFO - Run 564/1000\n",
      "2025-09-03 16:44:57 - src.mc_backtester - INFO - Run 565/1000\n",
      "2025-09-03 16:44:58 - src.mc_backtester - INFO - Run 566/1000\n",
      "2025-09-03 16:45:00 - src.mc_backtester - INFO - Run 567/1000\n",
      "2025-09-03 16:45:01 - src.mc_backtester - INFO - Run 568/1000\n",
      "2025-09-03 16:45:03 - src.mc_backtester - INFO - Run 569/1000\n",
      "2025-09-03 16:45:04 - src.mc_backtester - INFO - Run 570/1000\n",
      "2025-09-03 16:45:04 - src.mc_backtester - INFO - Run 571/1000\n",
      "2025-09-03 16:45:06 - src.mc_backtester - INFO - Run 572/1000\n",
      "2025-09-03 16:45:08 - src.mc_backtester - INFO - Run 573/1000\n",
      "2025-09-03 16:45:09 - src.mc_backtester - INFO - Run 574/1000\n",
      "2025-09-03 16:45:11 - src.mc_backtester - INFO - Run 575/1000\n",
      "2025-09-03 16:45:12 - src.mc_backtester - INFO - Run 576/1000\n",
      "2025-09-03 16:45:12 - src.mc_backtester - INFO - Run 577/1000\n",
      "2025-09-03 16:45:14 - src.mc_backtester - INFO - Run 578/1000\n",
      "2025-09-03 16:45:15 - src.mc_backtester - INFO - Run 579/1000\n",
      "2025-09-03 16:45:16 - src.mc_backtester - INFO - Run 580/1000\n",
      "2025-09-03 16:45:18 - src.mc_backtester - INFO - Run 581/1000\n",
      "2025-09-03 16:45:19 - src.mc_backtester - INFO - Run 582/1000\n",
      "2025-09-03 16:45:19 - src.mc_backtester - INFO - Run 583/1000\n",
      "2025-09-03 16:45:20 - src.mc_backtester - INFO - Run 584/1000\n",
      "2025-09-03 16:45:21 - src.mc_backtester - INFO - Run 585/1000\n",
      "2025-09-03 16:45:22 - src.mc_backtester - INFO - Run 586/1000\n",
      "2025-09-03 16:45:23 - src.mc_backtester - INFO - Run 587/1000\n",
      "2025-09-03 16:45:24 - src.mc_backtester - INFO - Run 588/1000\n",
      "2025-09-03 16:45:25 - src.mc_backtester - INFO - Run 589/1000\n",
      "2025-09-03 16:45:26 - src.mc_backtester - INFO - Run 590/1000\n",
      "2025-09-03 16:45:27 - src.mc_backtester - INFO - Run 591/1000\n",
      "2025-09-03 16:45:28 - src.mc_backtester - INFO - Run 592/1000\n",
      "2025-09-03 16:45:28 - src.mc_backtester - INFO - Run 593/1000\n",
      "2025-09-03 16:45:30 - src.mc_backtester - INFO - Run 594/1000\n",
      "2025-09-03 16:45:31 - src.mc_backtester - INFO - Run 595/1000\n",
      "2025-09-03 16:45:32 - src.mc_backtester - INFO - Run 596/1000\n",
      "2025-09-03 16:45:34 - src.mc_backtester - INFO - Run 597/1000\n",
      "2025-09-03 16:45:35 - src.mc_backtester - INFO - Run 598/1000\n",
      "2025-09-03 16:45:36 - src.mc_backtester - INFO - Run 599/1000\n",
      "2025-09-03 16:45:37 - src.mc_backtester - INFO - Run 600/1000\n",
      "2025-09-03 16:45:39 - src.mc_backtester - INFO - Run 601/1000\n",
      "2025-09-03 16:45:40 - src.mc_backtester - INFO - Run 602/1000\n",
      "2025-09-03 16:45:42 - src.mc_backtester - INFO - Run 603/1000\n",
      "2025-09-03 16:45:43 - src.mc_backtester - INFO - Run 604/1000\n",
      "2025-09-03 16:45:44 - src.mc_backtester - INFO - Run 605/1000\n",
      "2025-09-03 16:45:45 - src.mc_backtester - INFO - Run 606/1000\n",
      "2025-09-03 16:45:47 - src.mc_backtester - INFO - Run 607/1000\n",
      "2025-09-03 16:45:48 - src.mc_backtester - INFO - Run 608/1000\n",
      "2025-09-03 16:45:48 - src.mc_backtester - INFO - Run 609/1000\n",
      "2025-09-03 16:45:49 - src.mc_backtester - INFO - Run 610/1000\n",
      "2025-09-03 16:45:50 - src.mc_backtester - INFO - Run 611/1000\n",
      "2025-09-03 16:45:51 - src.mc_backtester - INFO - Run 612/1000\n",
      "2025-09-03 16:45:53 - src.mc_backtester - INFO - Run 613/1000\n",
      "2025-09-03 16:45:55 - src.mc_backtester - INFO - Run 614/1000\n",
      "2025-09-03 16:45:57 - src.mc_backtester - INFO - Run 615/1000\n",
      "2025-09-03 16:45:58 - src.mc_backtester - INFO - Run 616/1000\n",
      "2025-09-03 16:45:59 - src.mc_backtester - INFO - Run 617/1000\n",
      "2025-09-03 16:46:00 - src.mc_backtester - INFO - Run 618/1000\n",
      "2025-09-03 16:46:01 - src.mc_backtester - INFO - Run 619/1000\n",
      "2025-09-03 16:46:02 - src.mc_backtester - INFO - Run 620/1000\n",
      "2025-09-03 16:46:05 - src.mc_backtester - INFO - Run 621/1000\n",
      "2025-09-03 16:46:07 - src.mc_backtester - INFO - Run 622/1000\n",
      "2025-09-03 16:46:09 - src.mc_backtester - INFO - Run 623/1000\n",
      "2025-09-03 16:46:09 - src.mc_backtester - INFO - Run 624/1000\n",
      "2025-09-03 16:46:10 - src.mc_backtester - INFO - Run 625/1000\n",
      "2025-09-03 16:46:11 - src.mc_backtester - INFO - Run 626/1000\n",
      "2025-09-03 16:46:12 - src.mc_backtester - INFO - Run 627/1000\n",
      "2025-09-03 16:46:13 - src.mc_backtester - INFO - Run 628/1000\n",
      "2025-09-03 16:46:15 - src.mc_backtester - INFO - Run 629/1000\n",
      "2025-09-03 16:46:16 - src.mc_backtester - INFO - Run 630/1000\n",
      "2025-09-03 16:46:17 - src.mc_backtester - INFO - Run 631/1000\n",
      "2025-09-03 16:46:17 - src.mc_backtester - INFO - Run 632/1000\n",
      "2025-09-03 16:46:19 - src.mc_backtester - INFO - Run 633/1000\n",
      "2025-09-03 16:46:21 - src.mc_backtester - INFO - Run 634/1000\n",
      "2025-09-03 16:46:22 - src.mc_backtester - INFO - Run 635/1000\n",
      "2025-09-03 16:46:24 - src.mc_backtester - INFO - Run 636/1000\n",
      "2025-09-03 16:46:25 - src.mc_backtester - INFO - Run 637/1000\n",
      "2025-09-03 16:46:26 - src.mc_backtester - INFO - Run 638/1000\n",
      "2025-09-03 16:46:28 - src.mc_backtester - INFO - Run 639/1000\n",
      "2025-09-03 16:46:29 - src.mc_backtester - INFO - Run 640/1000\n",
      "2025-09-03 16:46:30 - src.mc_backtester - INFO - Run 641/1000\n",
      "2025-09-03 16:46:30 - src.mc_backtester - INFO - Run 642/1000\n",
      "2025-09-03 16:46:31 - src.mc_backtester - INFO - Run 643/1000\n",
      "2025-09-03 16:46:32 - src.mc_backtester - INFO - Run 644/1000\n",
      "2025-09-03 16:46:33 - src.mc_backtester - INFO - Run 645/1000\n",
      "2025-09-03 16:46:34 - src.mc_backtester - INFO - Run 646/1000\n",
      "2025-09-03 16:46:36 - src.mc_backtester - INFO - Run 647/1000\n",
      "2025-09-03 16:46:37 - src.mc_backtester - INFO - Run 648/1000\n",
      "2025-09-03 16:46:39 - src.mc_backtester - INFO - Run 649/1000\n",
      "2025-09-03 16:46:41 - src.mc_backtester - INFO - Run 650/1000\n",
      "2025-09-03 16:46:42 - src.mc_backtester - INFO - Run 651/1000\n",
      "2025-09-03 16:46:43 - src.mc_backtester - INFO - Run 652/1000\n",
      "2025-09-03 16:46:43 - src.mc_backtester - INFO - Run 653/1000\n",
      "2025-09-03 16:46:45 - src.mc_backtester - INFO - Run 654/1000\n",
      "2025-09-03 16:46:46 - src.mc_backtester - INFO - Run 655/1000\n",
      "2025-09-03 16:46:47 - src.mc_backtester - INFO - Run 656/1000\n",
      "2025-09-03 16:46:49 - src.mc_backtester - INFO - Run 657/1000\n",
      "2025-09-03 16:46:50 - src.mc_backtester - INFO - Run 658/1000\n",
      "2025-09-03 16:46:50 - src.mc_backtester - INFO - Run 659/1000\n",
      "2025-09-03 16:46:51 - src.mc_backtester - INFO - Run 660/1000\n",
      "2025-09-03 16:46:52 - src.mc_backtester - INFO - Run 661/1000\n",
      "2025-09-03 16:46:53 - src.mc_backtester - INFO - Run 662/1000\n",
      "2025-09-03 16:46:54 - src.mc_backtester - INFO - Run 663/1000\n",
      "2025-09-03 16:46:55 - src.mc_backtester - INFO - Run 664/1000\n",
      "2025-09-03 16:46:56 - src.mc_backtester - INFO - Run 665/1000\n",
      "2025-09-03 16:46:57 - src.mc_backtester - INFO - Run 666/1000\n",
      "2025-09-03 16:46:58 - src.mc_backtester - INFO - Run 667/1000\n",
      "2025-09-03 16:46:58 - src.mc_backtester - INFO - Run 668/1000\n",
      "2025-09-03 16:46:59 - src.mc_backtester - INFO - Run 669/1000\n",
      "2025-09-03 16:47:00 - src.mc_backtester - INFO - Run 670/1000\n",
      "2025-09-03 16:47:02 - src.mc_backtester - INFO - Run 671/1000\n",
      "2025-09-03 16:47:03 - src.mc_backtester - INFO - Run 672/1000\n",
      "2025-09-03 16:47:04 - src.mc_backtester - INFO - Run 673/1000\n",
      "2025-09-03 16:47:05 - src.mc_backtester - INFO - Run 674/1000\n",
      "2025-09-03 16:47:06 - src.mc_backtester - INFO - Run 675/1000\n",
      "2025-09-03 16:47:06 - src.mc_backtester - INFO - Run 676/1000\n",
      "2025-09-03 16:47:08 - src.mc_backtester - INFO - Run 677/1000\n",
      "2025-09-03 16:47:08 - src.mc_backtester - INFO - Run 678/1000\n",
      "2025-09-03 16:47:09 - src.mc_backtester - INFO - Run 679/1000\n",
      "2025-09-03 16:47:10 - src.mc_backtester - INFO - Run 680/1000\n",
      "2025-09-03 16:47:11 - src.mc_backtester - INFO - Run 681/1000\n",
      "2025-09-03 16:47:12 - src.mc_backtester - INFO - Run 682/1000\n",
      "2025-09-03 16:47:13 - src.mc_backtester - INFO - Run 683/1000\n",
      "2025-09-03 16:47:14 - src.mc_backtester - INFO - Run 684/1000\n",
      "2025-09-03 16:47:15 - src.mc_backtester - INFO - Run 685/1000\n",
      "2025-09-03 16:47:16 - src.mc_backtester - INFO - Run 686/1000\n",
      "2025-09-03 16:47:19 - src.mc_backtester - INFO - Run 687/1000\n",
      "2025-09-03 16:47:19 - src.mc_backtester - INFO - Run 688/1000\n",
      "2025-09-03 16:47:21 - src.mc_backtester - INFO - Run 689/1000\n",
      "2025-09-03 16:47:23 - src.mc_backtester - INFO - Run 690/1000\n",
      "2025-09-03 16:47:23 - src.mc_backtester - INFO - Run 691/1000\n",
      "2025-09-03 16:47:24 - src.mc_backtester - INFO - Run 692/1000\n",
      "2025-09-03 16:47:24 - src.mc_backtester - INFO - Run 693/1000\n",
      "2025-09-03 16:47:25 - src.mc_backtester - INFO - Run 694/1000\n",
      "2025-09-03 16:47:25 - src.mc_backtester - INFO - Run 695/1000\n",
      "2025-09-03 16:47:27 - src.mc_backtester - INFO - Run 696/1000\n",
      "2025-09-03 16:47:28 - src.mc_backtester - INFO - Run 697/1000\n",
      "2025-09-03 16:47:28 - src.mc_backtester - INFO - Run 698/1000\n",
      "2025-09-03 16:47:29 - src.mc_backtester - INFO - Run 699/1000\n",
      "2025-09-03 16:47:30 - src.mc_backtester - INFO - Run 700/1000\n",
      "2025-09-03 16:47:32 - src.mc_backtester - INFO - Run 701/1000\n",
      "2025-09-03 16:47:33 - src.mc_backtester - INFO - Run 702/1000\n",
      "2025-09-03 16:47:35 - src.mc_backtester - INFO - Run 703/1000\n",
      "2025-09-03 16:47:36 - src.mc_backtester - INFO - Run 704/1000\n",
      "2025-09-03 16:47:38 - src.mc_backtester - INFO - Run 705/1000\n",
      "2025-09-03 16:47:38 - src.mc_backtester - INFO - Run 706/1000\n",
      "2025-09-03 16:47:39 - src.mc_backtester - INFO - Run 707/1000\n",
      "2025-09-03 16:47:40 - src.mc_backtester - INFO - Run 708/1000\n",
      "2025-09-03 16:47:41 - src.mc_backtester - INFO - Run 709/1000\n",
      "2025-09-03 16:47:43 - src.mc_backtester - INFO - Run 710/1000\n",
      "2025-09-03 16:47:44 - src.mc_backtester - INFO - Run 711/1000\n",
      "2025-09-03 16:47:45 - src.mc_backtester - INFO - Run 712/1000\n",
      "2025-09-03 16:47:46 - src.mc_backtester - INFO - Run 713/1000\n",
      "2025-09-03 16:47:47 - src.mc_backtester - INFO - Run 714/1000\n",
      "2025-09-03 16:47:48 - src.mc_backtester - INFO - Run 715/1000\n",
      "2025-09-03 16:47:50 - src.mc_backtester - INFO - Run 716/1000\n",
      "2025-09-03 16:47:50 - src.mc_backtester - INFO - Run 717/1000\n",
      "2025-09-03 16:47:51 - src.mc_backtester - INFO - Run 718/1000\n",
      "2025-09-03 16:47:52 - src.mc_backtester - INFO - Run 719/1000\n",
      "2025-09-03 16:47:52 - src.mc_backtester - INFO - Run 720/1000\n",
      "2025-09-03 16:47:53 - src.mc_backtester - INFO - Run 721/1000\n",
      "2025-09-03 16:47:54 - src.mc_backtester - INFO - Run 722/1000\n",
      "2025-09-03 16:47:56 - src.mc_backtester - INFO - Run 723/1000\n",
      "2025-09-03 16:47:58 - src.mc_backtester - INFO - Run 724/1000\n",
      "2025-09-03 16:47:58 - src.mc_backtester - INFO - Run 725/1000\n",
      "2025-09-03 16:48:00 - src.mc_backtester - INFO - Run 726/1000\n",
      "2025-09-03 16:48:02 - src.mc_backtester - INFO - Run 727/1000\n",
      "2025-09-03 16:48:03 - src.mc_backtester - INFO - Run 728/1000\n",
      "2025-09-03 16:48:05 - src.mc_backtester - INFO - Run 729/1000\n",
      "2025-09-03 16:48:06 - src.mc_backtester - INFO - Run 730/1000\n",
      "2025-09-03 16:48:09 - src.mc_backtester - INFO - Run 731/1000\n",
      "2025-09-03 16:48:11 - src.mc_backtester - INFO - Run 732/1000\n",
      "2025-09-03 16:48:12 - src.mc_backtester - INFO - Run 733/1000\n",
      "2025-09-03 16:48:14 - src.mc_backtester - INFO - Run 734/1000\n",
      "2025-09-03 16:48:16 - src.mc_backtester - INFO - Run 735/1000\n",
      "2025-09-03 16:48:17 - src.mc_backtester - INFO - Run 736/1000\n",
      "2025-09-03 16:48:18 - src.mc_backtester - INFO - Run 737/1000\n",
      "2025-09-03 16:48:19 - src.mc_backtester - INFO - Run 738/1000\n",
      "2025-09-03 16:48:19 - src.mc_backtester - INFO - Run 739/1000\n",
      "2025-09-03 16:48:20 - src.mc_backtester - INFO - Run 740/1000\n",
      "2025-09-03 16:48:21 - src.mc_backtester - INFO - Run 741/1000\n",
      "2025-09-03 16:48:22 - src.mc_backtester - INFO - Run 742/1000\n",
      "2025-09-03 16:48:24 - src.mc_backtester - INFO - Run 743/1000\n",
      "2025-09-03 16:48:25 - src.mc_backtester - INFO - Run 744/1000\n",
      "2025-09-03 16:48:26 - src.mc_backtester - INFO - Run 745/1000\n",
      "2025-09-03 16:48:27 - src.mc_backtester - INFO - Run 746/1000\n",
      "2025-09-03 16:48:28 - src.mc_backtester - INFO - Run 747/1000\n",
      "2025-09-03 16:48:30 - src.mc_backtester - INFO - Run 748/1000\n",
      "2025-09-03 16:48:31 - src.mc_backtester - INFO - Run 749/1000\n",
      "2025-09-03 16:48:31 - src.mc_backtester - INFO - Run 750/1000\n",
      "2025-09-03 16:48:32 - src.mc_backtester - INFO - Run 751/1000\n",
      "2025-09-03 16:48:33 - src.mc_backtester - INFO - Run 752/1000\n",
      "2025-09-03 16:48:34 - src.mc_backtester - INFO - Run 753/1000\n",
      "2025-09-03 16:48:35 - src.mc_backtester - INFO - Run 754/1000\n",
      "2025-09-03 16:48:36 - src.mc_backtester - INFO - Run 755/1000\n",
      "2025-09-03 16:48:38 - src.mc_backtester - INFO - Run 756/1000\n",
      "2025-09-03 16:48:40 - src.mc_backtester - INFO - Run 757/1000\n",
      "2025-09-03 16:48:41 - src.mc_backtester - INFO - Run 758/1000\n",
      "2025-09-03 16:48:43 - src.mc_backtester - INFO - Run 759/1000\n",
      "2025-09-03 16:48:43 - src.mc_backtester - INFO - Run 760/1000\n",
      "2025-09-03 16:48:44 - src.mc_backtester - INFO - Run 761/1000\n",
      "2025-09-03 16:48:45 - src.mc_backtester - INFO - Run 762/1000\n",
      "2025-09-03 16:48:46 - src.mc_backtester - INFO - Run 763/1000\n",
      "2025-09-03 16:48:46 - src.mc_backtester - INFO - Run 764/1000\n",
      "2025-09-03 16:48:47 - src.mc_backtester - INFO - Run 765/1000\n",
      "2025-09-03 16:48:49 - src.mc_backtester - INFO - Run 766/1000\n",
      "2025-09-03 16:48:50 - src.mc_backtester - INFO - Run 767/1000\n",
      "2025-09-03 16:48:51 - src.mc_backtester - INFO - Run 768/1000\n",
      "2025-09-03 16:48:52 - src.mc_backtester - INFO - Run 769/1000\n",
      "2025-09-03 16:48:54 - src.mc_backtester - INFO - Run 770/1000\n",
      "2025-09-03 16:48:55 - src.mc_backtester - INFO - Run 771/1000\n",
      "2025-09-03 16:48:56 - src.mc_backtester - INFO - Run 772/1000\n",
      "2025-09-03 16:48:56 - src.mc_backtester - INFO - Run 773/1000\n",
      "2025-09-03 16:48:57 - src.mc_backtester - INFO - Run 774/1000\n",
      "2025-09-03 16:48:58 - src.mc_backtester - INFO - Run 775/1000\n",
      "2025-09-03 16:49:00 - src.mc_backtester - INFO - Run 776/1000\n",
      "2025-09-03 16:49:01 - src.mc_backtester - INFO - Run 777/1000\n",
      "2025-09-03 16:49:02 - src.mc_backtester - INFO - Run 778/1000\n",
      "2025-09-03 16:49:04 - src.mc_backtester - INFO - Run 779/1000\n",
      "2025-09-03 16:49:05 - src.mc_backtester - INFO - Run 780/1000\n",
      "2025-09-03 16:49:05 - src.mc_backtester - INFO - Run 781/1000\n",
      "2025-09-03 16:49:07 - src.mc_backtester - INFO - Run 782/1000\n",
      "2025-09-03 16:49:10 - src.mc_backtester - INFO - Run 783/1000\n",
      "2025-09-03 16:49:10 - src.mc_backtester - INFO - Run 784/1000\n",
      "2025-09-03 16:49:11 - src.mc_backtester - INFO - Run 785/1000\n",
      "2025-09-03 16:49:12 - src.mc_backtester - INFO - Run 786/1000\n",
      "2025-09-03 16:49:13 - src.mc_backtester - INFO - Run 787/1000\n",
      "2025-09-03 16:49:14 - src.mc_backtester - INFO - Run 788/1000\n",
      "2025-09-03 16:49:16 - src.mc_backtester - INFO - Run 789/1000\n",
      "2025-09-03 16:49:18 - src.mc_backtester - INFO - Run 790/1000\n",
      "2025-09-03 16:49:19 - src.mc_backtester - INFO - Run 791/1000\n",
      "2025-09-03 16:49:19 - src.mc_backtester - INFO - Run 792/1000\n",
      "2025-09-03 16:49:20 - src.mc_backtester - INFO - Run 793/1000\n",
      "2025-09-03 16:49:21 - src.mc_backtester - INFO - Run 794/1000\n",
      "2025-09-03 16:49:22 - src.mc_backtester - INFO - Run 795/1000\n",
      "2025-09-03 16:49:23 - src.mc_backtester - INFO - Run 796/1000\n",
      "2025-09-03 16:49:24 - src.mc_backtester - INFO - Run 797/1000\n",
      "2025-09-03 16:49:25 - src.mc_backtester - INFO - Run 798/1000\n",
      "2025-09-03 16:49:26 - src.mc_backtester - INFO - Run 799/1000\n",
      "2025-09-03 16:49:27 - src.mc_backtester - INFO - Run 800/1000\n",
      "2025-09-03 16:49:28 - src.mc_backtester - INFO - Run 801/1000\n",
      "2025-09-03 16:49:29 - src.mc_backtester - INFO - Run 802/1000\n",
      "2025-09-03 16:49:29 - src.mc_backtester - INFO - Run 803/1000\n",
      "2025-09-03 16:49:30 - src.mc_backtester - INFO - Run 804/1000\n",
      "2025-09-03 16:49:31 - src.mc_backtester - INFO - Run 805/1000\n",
      "2025-09-03 16:49:33 - src.mc_backtester - INFO - Run 806/1000\n",
      "2025-09-03 16:49:33 - src.mc_backtester - INFO - Run 807/1000\n",
      "2025-09-03 16:49:35 - src.mc_backtester - INFO - Run 808/1000\n",
      "2025-09-03 16:49:38 - src.mc_backtester - INFO - Run 809/1000\n",
      "2025-09-03 16:49:39 - src.mc_backtester - INFO - Run 810/1000\n",
      "2025-09-03 16:49:41 - src.mc_backtester - INFO - Run 811/1000\n",
      "2025-09-03 16:49:41 - src.mc_backtester - INFO - Run 812/1000\n",
      "2025-09-03 16:49:43 - src.mc_backtester - INFO - Run 813/1000\n",
      "2025-09-03 16:49:45 - src.mc_backtester - INFO - Run 814/1000\n",
      "2025-09-03 16:49:46 - src.mc_backtester - INFO - Run 815/1000\n",
      "2025-09-03 16:49:46 - src.mc_backtester - INFO - Run 816/1000\n",
      "2025-09-03 16:49:47 - src.mc_backtester - INFO - Run 817/1000\n",
      "2025-09-03 16:49:49 - src.mc_backtester - INFO - Run 818/1000\n",
      "2025-09-03 16:49:49 - src.mc_backtester - INFO - Run 819/1000\n",
      "2025-09-03 16:49:50 - src.mc_backtester - INFO - Run 820/1000\n",
      "2025-09-03 16:49:51 - src.mc_backtester - INFO - Run 821/1000\n",
      "2025-09-03 16:49:52 - src.mc_backtester - INFO - Run 822/1000\n",
      "2025-09-03 16:49:53 - src.mc_backtester - INFO - Run 823/1000\n",
      "2025-09-03 16:49:55 - src.mc_backtester - INFO - Run 824/1000\n",
      "2025-09-03 16:49:56 - src.mc_backtester - INFO - Run 825/1000\n",
      "2025-09-03 16:49:58 - src.mc_backtester - INFO - Run 826/1000\n",
      "2025-09-03 16:49:59 - src.mc_backtester - INFO - Run 827/1000\n",
      "2025-09-03 16:50:00 - src.mc_backtester - INFO - Run 828/1000\n",
      "2025-09-03 16:50:02 - src.mc_backtester - INFO - Run 829/1000\n",
      "2025-09-03 16:50:03 - src.mc_backtester - INFO - Run 830/1000\n",
      "2025-09-03 16:50:04 - src.mc_backtester - INFO - Run 831/1000\n",
      "2025-09-03 16:50:05 - src.mc_backtester - INFO - Run 832/1000\n",
      "2025-09-03 16:50:06 - src.mc_backtester - INFO - Run 833/1000\n",
      "2025-09-03 16:50:07 - src.mc_backtester - INFO - Run 834/1000\n",
      "2025-09-03 16:50:07 - src.mc_backtester - INFO - Run 835/1000\n",
      "2025-09-03 16:50:09 - src.mc_backtester - INFO - Run 836/1000\n",
      "2025-09-03 16:50:11 - src.mc_backtester - INFO - Run 837/1000\n",
      "2025-09-03 16:50:11 - src.mc_backtester - INFO - Run 838/1000\n",
      "2025-09-03 16:50:12 - src.mc_backtester - INFO - Run 839/1000\n",
      "2025-09-03 16:50:13 - src.mc_backtester - INFO - Run 840/1000\n",
      "2025-09-03 16:50:15 - src.mc_backtester - INFO - Run 841/1000\n",
      "2025-09-03 16:50:15 - src.mc_backtester - INFO - Run 842/1000\n",
      "2025-09-03 16:50:16 - src.mc_backtester - INFO - Run 843/1000\n",
      "2025-09-03 16:50:17 - src.mc_backtester - INFO - Run 844/1000\n",
      "2025-09-03 16:50:18 - src.mc_backtester - INFO - Run 845/1000\n",
      "2025-09-03 16:50:20 - src.mc_backtester - INFO - Run 846/1000\n",
      "2025-09-03 16:50:21 - src.mc_backtester - INFO - Run 847/1000\n",
      "2025-09-03 16:50:23 - src.mc_backtester - INFO - Run 848/1000\n",
      "2025-09-03 16:50:25 - src.mc_backtester - INFO - Run 849/1000\n",
      "2025-09-03 16:50:26 - src.mc_backtester - INFO - Run 850/1000\n",
      "2025-09-03 16:50:27 - src.mc_backtester - INFO - Run 851/1000\n",
      "2025-09-03 16:50:28 - src.mc_backtester - INFO - Run 852/1000\n",
      "2025-09-03 16:50:29 - src.mc_backtester - INFO - Run 853/1000\n",
      "2025-09-03 16:50:31 - src.mc_backtester - INFO - Run 854/1000\n",
      "2025-09-03 16:50:32 - src.mc_backtester - INFO - Run 855/1000\n",
      "2025-09-03 16:50:33 - src.mc_backtester - INFO - Run 856/1000\n",
      "2025-09-03 16:50:35 - src.mc_backtester - INFO - Run 857/1000\n",
      "2025-09-03 16:50:36 - src.mc_backtester - INFO - Run 858/1000\n",
      "2025-09-03 16:50:37 - src.mc_backtester - INFO - Run 859/1000\n",
      "2025-09-03 16:50:39 - src.mc_backtester - INFO - Run 860/1000\n",
      "2025-09-03 16:50:41 - src.mc_backtester - INFO - Run 861/1000\n",
      "2025-09-03 16:50:42 - src.mc_backtester - INFO - Run 862/1000\n",
      "2025-09-03 16:50:43 - src.mc_backtester - INFO - Run 863/1000\n",
      "2025-09-03 16:50:45 - src.mc_backtester - INFO - Run 864/1000\n",
      "2025-09-03 16:50:45 - src.mc_backtester - INFO - Run 865/1000\n",
      "2025-09-03 16:50:46 - src.mc_backtester - INFO - Run 866/1000\n",
      "2025-09-03 16:50:47 - src.mc_backtester - INFO - Run 867/1000\n",
      "2025-09-03 16:50:49 - src.mc_backtester - INFO - Run 868/1000\n",
      "2025-09-03 16:50:51 - src.mc_backtester - INFO - Run 869/1000\n",
      "2025-09-03 16:50:51 - src.mc_backtester - INFO - Run 870/1000\n",
      "2025-09-03 16:50:53 - src.mc_backtester - INFO - Run 871/1000\n",
      "2025-09-03 16:50:54 - src.mc_backtester - INFO - Run 872/1000\n",
      "2025-09-03 16:50:54 - src.mc_backtester - INFO - Run 873/1000\n",
      "2025-09-03 16:50:56 - src.mc_backtester - INFO - Run 874/1000\n",
      "2025-09-03 16:50:57 - src.mc_backtester - INFO - Run 875/1000\n",
      "2025-09-03 16:50:59 - src.mc_backtester - INFO - Run 876/1000\n",
      "2025-09-03 16:51:00 - src.mc_backtester - INFO - Run 877/1000\n",
      "2025-09-03 16:51:00 - src.mc_backtester - INFO - Run 878/1000\n",
      "2025-09-03 16:51:02 - src.mc_backtester - INFO - Run 879/1000\n",
      "2025-09-03 16:51:04 - src.mc_backtester - INFO - Run 880/1000\n",
      "2025-09-03 16:51:04 - src.mc_backtester - INFO - Run 881/1000\n",
      "2025-09-03 16:51:05 - src.mc_backtester - INFO - Run 882/1000\n",
      "2025-09-03 16:51:06 - src.mc_backtester - INFO - Run 883/1000\n",
      "2025-09-03 16:51:07 - src.mc_backtester - INFO - Run 884/1000\n",
      "2025-09-03 16:51:08 - src.mc_backtester - INFO - Run 885/1000\n",
      "2025-09-03 16:51:09 - src.mc_backtester - INFO - Run 886/1000\n",
      "2025-09-03 16:51:11 - src.mc_backtester - INFO - Run 887/1000\n",
      "2025-09-03 16:51:12 - src.mc_backtester - INFO - Run 888/1000\n",
      "2025-09-03 16:51:12 - src.mc_backtester - INFO - Run 889/1000\n",
      "2025-09-03 16:51:14 - src.mc_backtester - INFO - Run 890/1000\n",
      "2025-09-03 16:51:14 - src.mc_backtester - INFO - Run 891/1000\n",
      "2025-09-03 16:51:15 - src.mc_backtester - INFO - Run 892/1000\n",
      "2025-09-03 16:51:16 - src.mc_backtester - INFO - Run 893/1000\n",
      "2025-09-03 16:51:17 - src.mc_backtester - INFO - Run 894/1000\n",
      "2025-09-03 16:51:19 - src.mc_backtester - INFO - Run 895/1000\n",
      "2025-09-03 16:51:20 - src.mc_backtester - INFO - Run 896/1000\n",
      "2025-09-03 16:51:21 - src.mc_backtester - INFO - Run 897/1000\n",
      "2025-09-03 16:51:22 - src.mc_backtester - INFO - Run 898/1000\n",
      "2025-09-03 16:51:23 - src.mc_backtester - INFO - Run 899/1000\n",
      "2025-09-03 16:51:24 - src.mc_backtester - INFO - Run 900/1000\n",
      "2025-09-03 16:51:24 - src.mc_backtester - INFO - Run 901/1000\n",
      "2025-09-03 16:51:26 - src.mc_backtester - INFO - Run 902/1000\n",
      "2025-09-03 16:51:27 - src.mc_backtester - INFO - Run 903/1000\n",
      "2025-09-03 16:51:27 - src.mc_backtester - INFO - Run 904/1000\n",
      "2025-09-03 16:51:28 - src.mc_backtester - INFO - Run 905/1000\n",
      "2025-09-03 16:51:30 - src.mc_backtester - INFO - Run 906/1000\n",
      "2025-09-03 16:51:32 - src.mc_backtester - INFO - Run 907/1000\n",
      "2025-09-03 16:51:34 - src.mc_backtester - INFO - Run 908/1000\n",
      "2025-09-03 16:51:35 - src.mc_backtester - INFO - Run 909/1000\n",
      "2025-09-03 16:51:36 - src.mc_backtester - INFO - Run 910/1000\n",
      "2025-09-03 16:51:37 - src.mc_backtester - INFO - Run 911/1000\n",
      "2025-09-03 16:51:38 - src.mc_backtester - INFO - Run 912/1000\n",
      "2025-09-03 16:51:39 - src.mc_backtester - INFO - Run 913/1000\n",
      "2025-09-03 16:51:40 - src.mc_backtester - INFO - Run 914/1000\n",
      "2025-09-03 16:51:42 - src.mc_backtester - INFO - Run 915/1000\n",
      "2025-09-03 16:51:43 - src.mc_backtester - INFO - Run 916/1000\n",
      "2025-09-03 16:51:45 - src.mc_backtester - INFO - Run 917/1000\n",
      "2025-09-03 16:51:46 - src.mc_backtester - INFO - Run 918/1000\n",
      "2025-09-03 16:51:47 - src.mc_backtester - INFO - Run 919/1000\n",
      "2025-09-03 16:51:47 - src.mc_backtester - INFO - Run 920/1000\n",
      "2025-09-03 16:51:48 - src.mc_backtester - INFO - Run 921/1000\n",
      "2025-09-03 16:51:49 - src.mc_backtester - INFO - Run 922/1000\n",
      "2025-09-03 16:51:50 - src.mc_backtester - INFO - Run 923/1000\n",
      "2025-09-03 16:51:51 - src.mc_backtester - INFO - Run 924/1000\n",
      "2025-09-03 16:51:52 - src.mc_backtester - INFO - Run 925/1000\n",
      "2025-09-03 16:51:52 - src.mc_backtester - INFO - Run 926/1000\n",
      "2025-09-03 16:51:53 - src.mc_backtester - INFO - Run 927/1000\n",
      "2025-09-03 16:51:54 - src.mc_backtester - INFO - Run 928/1000\n",
      "2025-09-03 16:51:55 - src.mc_backtester - INFO - Run 929/1000\n",
      "2025-09-03 16:51:55 - src.mc_backtester - INFO - Run 930/1000\n",
      "2025-09-03 16:51:56 - src.mc_backtester - INFO - Run 931/1000\n",
      "2025-09-03 16:51:58 - src.mc_backtester - INFO - Run 932/1000\n",
      "2025-09-03 16:51:59 - src.mc_backtester - INFO - Run 933/1000\n",
      "2025-09-03 16:51:59 - src.mc_backtester - INFO - Run 934/1000\n",
      "2025-09-03 16:52:01 - src.mc_backtester - INFO - Run 935/1000\n",
      "2025-09-03 16:52:03 - src.mc_backtester - INFO - Run 936/1000\n",
      "2025-09-03 16:52:03 - src.mc_backtester - INFO - Run 937/1000\n",
      "2025-09-03 16:52:04 - src.mc_backtester - INFO - Run 938/1000\n",
      "2025-09-03 16:52:06 - src.mc_backtester - INFO - Run 939/1000\n",
      "2025-09-03 16:52:07 - src.mc_backtester - INFO - Run 940/1000\n",
      "2025-09-03 16:52:09 - src.mc_backtester - INFO - Run 941/1000\n",
      "2025-09-03 16:52:10 - src.mc_backtester - INFO - Run 942/1000\n",
      "2025-09-03 16:52:12 - src.mc_backtester - INFO - Run 943/1000\n",
      "2025-09-03 16:52:12 - src.mc_backtester - INFO - Run 944/1000\n",
      "2025-09-03 16:52:13 - src.mc_backtester - INFO - Run 945/1000\n",
      "2025-09-03 16:52:14 - src.mc_backtester - INFO - Run 946/1000\n",
      "2025-09-03 16:52:15 - src.mc_backtester - INFO - Run 947/1000\n",
      "2025-09-03 16:52:16 - src.mc_backtester - INFO - Run 948/1000\n",
      "2025-09-03 16:52:17 - src.mc_backtester - INFO - Run 949/1000\n",
      "2025-09-03 16:52:18 - src.mc_backtester - INFO - Run 950/1000\n",
      "2025-09-03 16:52:20 - src.mc_backtester - INFO - Run 951/1000\n",
      "2025-09-03 16:52:22 - src.mc_backtester - INFO - Run 952/1000\n",
      "2025-09-03 16:52:22 - src.mc_backtester - INFO - Run 953/1000\n",
      "2025-09-03 16:52:23 - src.mc_backtester - INFO - Run 954/1000\n",
      "2025-09-03 16:52:25 - src.mc_backtester - INFO - Run 955/1000\n",
      "2025-09-03 16:52:26 - src.mc_backtester - INFO - Run 956/1000\n",
      "2025-09-03 16:52:28 - src.mc_backtester - INFO - Run 957/1000\n",
      "2025-09-03 16:52:30 - src.mc_backtester - INFO - Run 958/1000\n",
      "2025-09-03 16:52:31 - src.mc_backtester - INFO - Run 959/1000\n",
      "2025-09-03 16:52:32 - src.mc_backtester - INFO - Run 960/1000\n",
      "2025-09-03 16:52:33 - src.mc_backtester - INFO - Run 961/1000\n",
      "2025-09-03 16:52:34 - src.mc_backtester - INFO - Run 962/1000\n",
      "2025-09-03 16:52:35 - src.mc_backtester - INFO - Run 963/1000\n",
      "2025-09-03 16:52:37 - src.mc_backtester - INFO - Run 964/1000\n",
      "2025-09-03 16:52:38 - src.mc_backtester - INFO - Run 965/1000\n",
      "2025-09-03 16:52:39 - src.mc_backtester - INFO - Run 966/1000\n",
      "2025-09-03 16:52:40 - src.mc_backtester - INFO - Run 967/1000\n",
      "2025-09-03 16:52:41 - src.mc_backtester - INFO - Run 968/1000\n",
      "2025-09-03 16:52:41 - src.mc_backtester - INFO - Run 969/1000\n",
      "2025-09-03 16:52:42 - src.mc_backtester - INFO - Run 970/1000\n",
      "2025-09-03 16:52:44 - src.mc_backtester - INFO - Run 971/1000\n",
      "2025-09-03 16:52:46 - src.mc_backtester - INFO - Run 972/1000\n",
      "2025-09-03 16:52:47 - src.mc_backtester - INFO - Run 973/1000\n",
      "2025-09-03 16:52:49 - src.mc_backtester - INFO - Run 974/1000\n",
      "2025-09-03 16:52:50 - src.mc_backtester - INFO - Run 975/1000\n",
      "2025-09-03 16:52:52 - src.mc_backtester - INFO - Run 976/1000\n",
      "2025-09-03 16:52:53 - src.mc_backtester - INFO - Run 977/1000\n",
      "2025-09-03 16:52:54 - src.mc_backtester - INFO - Run 978/1000\n",
      "2025-09-03 16:52:55 - src.mc_backtester - INFO - Run 979/1000\n",
      "2025-09-03 16:52:56 - src.mc_backtester - INFO - Run 980/1000\n",
      "2025-09-03 16:52:57 - src.mc_backtester - INFO - Run 981/1000\n",
      "2025-09-03 16:52:59 - src.mc_backtester - INFO - Run 982/1000\n",
      "2025-09-03 16:53:00 - src.mc_backtester - INFO - Run 983/1000\n",
      "2025-09-03 16:53:00 - src.mc_backtester - INFO - Run 984/1000\n",
      "2025-09-03 16:53:01 - src.mc_backtester - INFO - Run 985/1000\n",
      "2025-09-03 16:53:02 - src.mc_backtester - INFO - Run 986/1000\n",
      "2025-09-03 16:53:04 - src.mc_backtester - INFO - Run 987/1000\n",
      "2025-09-03 16:53:05 - src.mc_backtester - INFO - Run 988/1000\n",
      "2025-09-03 16:53:06 - src.mc_backtester - INFO - Run 989/1000\n",
      "2025-09-03 16:53:07 - src.mc_backtester - INFO - Run 990/1000\n",
      "2025-09-03 16:53:09 - src.mc_backtester - INFO - Run 991/1000\n",
      "2025-09-03 16:53:09 - src.mc_backtester - INFO - Run 992/1000\n",
      "2025-09-03 16:53:10 - src.mc_backtester - INFO - Run 993/1000\n",
      "2025-09-03 16:53:11 - src.mc_backtester - INFO - Run 994/1000\n",
      "2025-09-03 16:53:12 - src.mc_backtester - INFO - Run 995/1000\n",
      "2025-09-03 16:53:13 - src.mc_backtester - INFO - Run 996/1000\n",
      "2025-09-03 16:53:14 - src.mc_backtester - INFO - Run 997/1000\n",
      "2025-09-03 16:53:15 - src.mc_backtester - INFO - Run 998/1000\n",
      "2025-09-03 16:53:15 - src.mc_backtester - INFO - Run 999/1000\n",
      "2025-09-03 16:53:16 - src.mc_backtester - INFO - Run 1000/1000\n"
     ]
    }
   ],
   "source": [
    "returns, sharpe_ratios, max_drawdowns, n_trades, avg_df = mc_backtester.run(\n",
    "    verbose=True, seeded=True\n",
    ")"
   ]
  },
  {
   "cell_type": "markdown",
   "id": "cc20b80d",
   "metadata": {},
   "source": [
    "## 4.2. Results & Analysis"
   ]
  },
  {
   "cell_type": "markdown",
   "id": "9d9f7368",
   "metadata": {},
   "source": [
    "The performance of the HMM–based trading strategy was evaluated on the out-of-sample test period (January 1, 2025 – August 22, 2025) through 1,000 Monte Carlo simulation runs, with results compared against a simple buy-and-hold (HODL) benchmark of Bitcoin.\n",
    "\n",
    "The benchmark delivered an annualized Sharpe ratio of 1.02, a total return of 23.68%, and a maximum drawdown of –28.10%. These figures represent the baseline risk–reward profile of passive Bitcoin exposure over the same horizon."
   ]
  },
  {
   "cell_type": "code",
   "execution_count": null,
   "id": "00801699",
   "metadata": {},
   "outputs": [
    {
     "name": "stdout",
     "output_type": "stream",
     "text": [
      "====================================================================================================\n",
      " Monte Carlo Metrics Over 1000 Runs on Test Dataset (from 2025-01-01 to 2025-08-22)\n",
      "====================================================================================================\n",
      "\n",
      "--- Benchmark (HODLing BTC from 2025-01-01) ---\n",
      "Annualized Sharpe: 1.02 | P&L(%): 23.68% | Max DD: -28.10%\n",
      "\n",
      "--- Average HMM Strategy Path ---\n",
      "Annualized Sharpe: 2.03 (SD: 0.44) | P&L(%): 51.25% (SD: 12.75%) | Max DD: -15.02% (SD: 3.74%)\n",
      "\n",
      "--- Outperformance Probabilities ---\n",
      "- Beating HODLing:              99%\n",
      "- At least 2× HODLing returns:  59%\n",
      "- At least 3× HODLing returns:  8%\n",
      "====================================================================================================\n"
     ]
    }
   ],
   "source": [
    "output_performance_summary(\n",
    "    mc_backtester,\n",
    "    benchmark_metrics,\n",
    ")"
   ]
  },
  {
   "cell_type": "markdown",
   "id": "de2e6128",
   "metadata": {},
   "source": [
    "By contrast, the HMM strategy nearly doubled the benchmark’s Sharpe ratio, achieving an average of 2.02 (SD 0.44), alongside a mean return of 51.23% (SD 12.75%) and a materially lower maximum drawdown of -15.04% (SD 3.76%). In other words, the strategy generated superior performance not only in absolute terms but also on a risk-adjusted basis, while simultaneously cutting downside risk nearly in half."
   ]
  },
  {
   "cell_type": "code",
   "execution_count": 13,
   "id": "3ec9e504",
   "metadata": {},
   "outputs": [
    {
     "data": {
      "application/vnd.plotly.v1+json": {
       "config": {
        "plotlyServerURL": "https://plot.ly"
       },
       "data": [
        {
         "close": {
          "bdata": "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",
          "dtype": "f8"
         },
         "high": {
          "bdata": "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",
          "dtype": "f8"
         },
         "low": {
          "bdata": "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",
          "dtype": "f8"
         },
         "name": "BTC/USDT",
         "open": {
          "bdata": "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",
          "dtype": "f8"
         },
         "type": "candlestick",
         "x": [
          "2025-01-01T00:00:00.000000000",
          "2025-01-02T00:00:00.000000000",
          "2025-01-03T00:00:00.000000000",
          "2025-01-04T00:00:00.000000000",
          "2025-01-05T00:00:00.000000000",
          "2025-01-06T00:00:00.000000000",
          "2025-01-07T00:00:00.000000000",
          "2025-01-08T00:00:00.000000000",
          "2025-01-09T00:00:00.000000000",
          "2025-01-10T00:00:00.000000000",
          "2025-01-11T00:00:00.000000000",
          "2025-01-12T00:00:00.000000000",
          "2025-01-13T00:00:00.000000000",
          "2025-01-14T00:00:00.000000000",
          "2025-01-15T00:00:00.000000000",
          "2025-01-16T00:00:00.000000000",
          "2025-01-17T00:00:00.000000000",
          "2025-01-18T00:00:00.000000000",
          "2025-01-19T00:00:00.000000000",
          "2025-01-20T00:00:00.000000000",
          "2025-01-21T00:00:00.000000000",
          "2025-01-22T00:00:00.000000000",
          "2025-01-23T00:00:00.000000000",
          "2025-01-24T00:00:00.000000000",
          "2025-01-25T00:00:00.000000000",
          "2025-01-26T00:00:00.000000000",
          "2025-01-27T00:00:00.000000000",
          "2025-01-28T00:00:00.000000000",
          "2025-01-29T00:00:00.000000000",
          "2025-01-30T00:00:00.000000000",
          "2025-01-31T00:00:00.000000000",
          "2025-02-01T00:00:00.000000000",
          "2025-02-02T00:00:00.000000000",
          "2025-02-03T00:00:00.000000000",
          "2025-02-04T00:00:00.000000000",
          "2025-02-05T00:00:00.000000000",
          "2025-02-06T00:00:00.000000000",
          "2025-02-07T00:00:00.000000000",
          "2025-02-08T00:00:00.000000000",
          "2025-02-09T00:00:00.000000000",
          "2025-02-10T00:00:00.000000000",
          "2025-02-11T00:00:00.000000000",
          "2025-02-12T00:00:00.000000000",
          "2025-02-13T00:00:00.000000000",
          "2025-02-14T00:00:00.000000000",
          "2025-02-15T00:00:00.000000000",
          "2025-02-16T00:00:00.000000000",
          "2025-02-17T00:00:00.000000000",
          "2025-02-18T00:00:00.000000000",
          "2025-02-19T00:00:00.000000000",
          "2025-02-20T00:00:00.000000000",
          "2025-02-21T00:00:00.000000000",
          "2025-02-22T00:00:00.000000000",
          "2025-02-23T00:00:00.000000000",
          "2025-02-24T00:00:00.000000000",
          "2025-02-25T00:00:00.000000000",
          "2025-02-26T00:00:00.000000000",
          "2025-02-27T00:00:00.000000000",
          "2025-02-28T00:00:00.000000000",
          "2025-03-01T00:00:00.000000000",
          "2025-03-02T00:00:00.000000000",
          "2025-03-03T00:00:00.000000000",
          "2025-03-04T00:00:00.000000000",
          "2025-03-05T00:00:00.000000000",
          "2025-03-06T00:00:00.000000000",
          "2025-03-07T00:00:00.000000000",
          "2025-03-08T00:00:00.000000000",
          "2025-03-09T00:00:00.000000000",
          "2025-03-10T00:00:00.000000000",
          "2025-03-11T00:00:00.000000000",
          "2025-03-12T00:00:00.000000000",
          "2025-03-13T00:00:00.000000000",
          "2025-03-14T00:00:00.000000000",
          "2025-03-15T00:00:00.000000000",
          "2025-03-16T00:00:00.000000000",
          "2025-03-17T00:00:00.000000000",
          "2025-03-18T00:00:00.000000000",
          "2025-03-19T00:00:00.000000000",
          "2025-03-20T00:00:00.000000000",
          "2025-03-21T00:00:00.000000000",
          "2025-03-22T00:00:00.000000000",
          "2025-03-23T00:00:00.000000000",
          "2025-03-24T00:00:00.000000000",
          "2025-03-25T00:00:00.000000000",
          "2025-03-26T00:00:00.000000000",
          "2025-03-27T00:00:00.000000000",
          "2025-03-28T00:00:00.000000000",
          "2025-03-29T00:00:00.000000000",
          "2025-03-30T00:00:00.000000000",
          "2025-03-31T00:00:00.000000000",
          "2025-04-01T00:00:00.000000000",
          "2025-04-02T00:00:00.000000000",
          "2025-04-03T00:00:00.000000000",
          "2025-04-04T00:00:00.000000000",
          "2025-04-05T00:00:00.000000000",
          "2025-04-06T00:00:00.000000000",
          "2025-04-07T00:00:00.000000000",
          "2025-04-08T00:00:00.000000000",
          "2025-04-09T00:00:00.000000000",
          "2025-04-10T00:00:00.000000000",
          "2025-04-11T00:00:00.000000000",
          "2025-04-12T00:00:00.000000000",
          "2025-04-13T00:00:00.000000000",
          "2025-04-14T00:00:00.000000000",
          "2025-04-15T00:00:00.000000000",
          "2025-04-16T00:00:00.000000000",
          "2025-04-17T00:00:00.000000000",
          "2025-04-18T00:00:00.000000000",
          "2025-04-19T00:00:00.000000000",
          "2025-04-20T00:00:00.000000000",
          "2025-04-21T00:00:00.000000000",
          "2025-04-22T00:00:00.000000000",
          "2025-04-23T00:00:00.000000000",
          "2025-04-24T00:00:00.000000000",
          "2025-04-25T00:00:00.000000000",
          "2025-04-26T00:00:00.000000000",
          "2025-04-27T00:00:00.000000000",
          "2025-04-28T00:00:00.000000000",
          "2025-04-29T00:00:00.000000000",
          "2025-04-30T00:00:00.000000000",
          "2025-05-01T00:00:00.000000000",
          "2025-05-02T00:00:00.000000000",
          "2025-05-03T00:00:00.000000000",
          "2025-05-04T00:00:00.000000000",
          "2025-05-05T00:00:00.000000000",
          "2025-05-06T00:00:00.000000000",
          "2025-05-07T00:00:00.000000000",
          "2025-05-08T00:00:00.000000000",
          "2025-05-09T00:00:00.000000000",
          "2025-05-10T00:00:00.000000000",
          "2025-05-11T00:00:00.000000000",
          "2025-05-12T00:00:00.000000000",
          "2025-05-13T00:00:00.000000000",
          "2025-05-14T00:00:00.000000000",
          "2025-05-15T00:00:00.000000000",
          "2025-05-16T00:00:00.000000000",
          "2025-05-17T00:00:00.000000000",
          "2025-05-18T00:00:00.000000000",
          "2025-05-19T00:00:00.000000000",
          "2025-05-20T00:00:00.000000000",
          "2025-05-21T00:00:00.000000000",
          "2025-05-22T00:00:00.000000000",
          "2025-05-23T00:00:00.000000000",
          "2025-05-24T00:00:00.000000000",
          "2025-05-25T00:00:00.000000000",
          "2025-05-26T00:00:00.000000000",
          "2025-05-27T00:00:00.000000000",
          "2025-05-28T00:00:00.000000000",
          "2025-05-29T00:00:00.000000000",
          "2025-05-30T00:00:00.000000000",
          "2025-05-31T00:00:00.000000000",
          "2025-06-01T00:00:00.000000000",
          "2025-06-02T00:00:00.000000000",
          "2025-06-03T00:00:00.000000000",
          "2025-06-04T00:00:00.000000000",
          "2025-06-05T00:00:00.000000000",
          "2025-06-06T00:00:00.000000000",
          "2025-06-07T00:00:00.000000000",
          "2025-06-08T00:00:00.000000000",
          "2025-06-09T00:00:00.000000000",
          "2025-06-10T00:00:00.000000000",
          "2025-06-11T00:00:00.000000000",
          "2025-06-12T00:00:00.000000000",
          "2025-06-13T00:00:00.000000000",
          "2025-06-14T00:00:00.000000000",
          "2025-06-15T00:00:00.000000000",
          "2025-06-16T00:00:00.000000000",
          "2025-06-17T00:00:00.000000000",
          "2025-06-18T00:00:00.000000000",
          "2025-06-19T00:00:00.000000000",
          "2025-06-20T00:00:00.000000000",
          "2025-06-21T00:00:00.000000000",
          "2025-06-22T00:00:00.000000000",
          "2025-06-23T00:00:00.000000000",
          "2025-06-24T00:00:00.000000000",
          "2025-06-25T00:00:00.000000000",
          "2025-06-26T00:00:00.000000000",
          "2025-06-27T00:00:00.000000000",
          "2025-06-28T00:00:00.000000000",
          "2025-06-29T00:00:00.000000000",
          "2025-06-30T00:00:00.000000000",
          "2025-07-01T00:00:00.000000000",
          "2025-07-02T00:00:00.000000000",
          "2025-07-03T00:00:00.000000000",
          "2025-07-04T00:00:00.000000000",
          "2025-07-05T00:00:00.000000000",
          "2025-07-06T00:00:00.000000000",
          "2025-07-07T00:00:00.000000000",
          "2025-07-08T00:00:00.000000000",
          "2025-07-09T00:00:00.000000000",
          "2025-07-10T00:00:00.000000000",
          "2025-07-11T00:00:00.000000000",
          "2025-07-12T00:00:00.000000000",
          "2025-07-13T00:00:00.000000000",
          "2025-07-14T00:00:00.000000000",
          "2025-07-15T00:00:00.000000000",
          "2025-07-16T00:00:00.000000000",
          "2025-07-17T00:00:00.000000000",
          "2025-07-18T00:00:00.000000000",
          "2025-07-19T00:00:00.000000000",
          "2025-07-20T00:00:00.000000000",
          "2025-07-21T00:00:00.000000000",
          "2025-07-22T00:00:00.000000000",
          "2025-07-23T00:00:00.000000000",
          "2025-07-24T00:00:00.000000000",
          "2025-07-25T00:00:00.000000000",
          "2025-07-26T00:00:00.000000000",
          "2025-07-27T00:00:00.000000000",
          "2025-07-28T00:00:00.000000000",
          "2025-07-29T00:00:00.000000000",
          "2025-07-30T00:00:00.000000000",
          "2025-07-31T00:00:00.000000000",
          "2025-08-01T00:00:00.000000000",
          "2025-08-02T00:00:00.000000000",
          "2025-08-03T00:00:00.000000000",
          "2025-08-04T00:00:00.000000000",
          "2025-08-05T00:00:00.000000000",
          "2025-08-06T00:00:00.000000000",
          "2025-08-07T00:00:00.000000000",
          "2025-08-08T00:00:00.000000000",
          "2025-08-09T00:00:00.000000000",
          "2025-08-10T00:00:00.000000000",
          "2025-08-11T00:00:00.000000000",
          "2025-08-12T00:00:00.000000000",
          "2025-08-13T00:00:00.000000000",
          "2025-08-14T00:00:00.000000000",
          "2025-08-15T00:00:00.000000000",
          "2025-08-16T00:00:00.000000000",
          "2025-08-17T00:00:00.000000000",
          "2025-08-18T00:00:00.000000000",
          "2025-08-19T00:00:00.000000000",
          "2025-08-20T00:00:00.000000000",
          "2025-08-21T00:00:00.000000000",
          "2025-08-22T00:00:00.000000000"
         ],
         "xaxis": "x",
         "yaxis": "y"
        },
        {
         "line": {
          "color": "cyan"
         },
         "name": "Average HMM Strategy Path",
         "type": "scatter",
         "x": [
          "2025-01-01T00:00:00.000000000",
          "2025-01-02T00:00:00.000000000",
          "2025-01-03T00:00:00.000000000",
          "2025-01-04T00:00:00.000000000",
          "2025-01-05T00:00:00.000000000",
          "2025-01-06T00:00:00.000000000",
          "2025-01-07T00:00:00.000000000",
          "2025-01-08T00:00:00.000000000",
          "2025-01-09T00:00:00.000000000",
          "2025-01-10T00:00:00.000000000",
          "2025-01-11T00:00:00.000000000",
          "2025-01-12T00:00:00.000000000",
          "2025-01-13T00:00:00.000000000",
          "2025-01-14T00:00:00.000000000",
          "2025-01-15T00:00:00.000000000",
          "2025-01-16T00:00:00.000000000",
          "2025-01-17T00:00:00.000000000",
          "2025-01-18T00:00:00.000000000",
          "2025-01-19T00:00:00.000000000",
          "2025-01-20T00:00:00.000000000",
          "2025-01-21T00:00:00.000000000",
          "2025-01-22T00:00:00.000000000",
          "2025-01-23T00:00:00.000000000",
          "2025-01-24T00:00:00.000000000",
          "2025-01-25T00:00:00.000000000",
          "2025-01-26T00:00:00.000000000",
          "2025-01-27T00:00:00.000000000",
          "2025-01-28T00:00:00.000000000",
          "2025-01-29T00:00:00.000000000",
          "2025-01-30T00:00:00.000000000",
          "2025-01-31T00:00:00.000000000",
          "2025-02-01T00:00:00.000000000",
          "2025-02-02T00:00:00.000000000",
          "2025-02-03T00:00:00.000000000",
          "2025-02-04T00:00:00.000000000",
          "2025-02-05T00:00:00.000000000",
          "2025-02-06T00:00:00.000000000",
          "2025-02-07T00:00:00.000000000",
          "2025-02-08T00:00:00.000000000",
          "2025-02-09T00:00:00.000000000",
          "2025-02-10T00:00:00.000000000",
          "2025-02-11T00:00:00.000000000",
          "2025-02-12T00:00:00.000000000",
          "2025-02-13T00:00:00.000000000",
          "2025-02-14T00:00:00.000000000",
          "2025-02-15T00:00:00.000000000",
          "2025-02-16T00:00:00.000000000",
          "2025-02-17T00:00:00.000000000",
          "2025-02-18T00:00:00.000000000",
          "2025-02-19T00:00:00.000000000",
          "2025-02-20T00:00:00.000000000",
          "2025-02-21T00:00:00.000000000",
          "2025-02-22T00:00:00.000000000",
          "2025-02-23T00:00:00.000000000",
          "2025-02-24T00:00:00.000000000",
          "2025-02-25T00:00:00.000000000",
          "2025-02-26T00:00:00.000000000",
          "2025-02-27T00:00:00.000000000",
          "2025-02-28T00:00:00.000000000",
          "2025-03-01T00:00:00.000000000",
          "2025-03-02T00:00:00.000000000",
          "2025-03-03T00:00:00.000000000",
          "2025-03-04T00:00:00.000000000",
          "2025-03-05T00:00:00.000000000",
          "2025-03-06T00:00:00.000000000",
          "2025-03-07T00:00:00.000000000",
          "2025-03-08T00:00:00.000000000",
          "2025-03-09T00:00:00.000000000",
          "2025-03-10T00:00:00.000000000",
          "2025-03-11T00:00:00.000000000",
          "2025-03-12T00:00:00.000000000",
          "2025-03-13T00:00:00.000000000",
          "2025-03-14T00:00:00.000000000",
          "2025-03-15T00:00:00.000000000",
          "2025-03-16T00:00:00.000000000",
          "2025-03-17T00:00:00.000000000",
          "2025-03-18T00:00:00.000000000",
          "2025-03-19T00:00:00.000000000",
          "2025-03-20T00:00:00.000000000",
          "2025-03-21T00:00:00.000000000",
          "2025-03-22T00:00:00.000000000",
          "2025-03-23T00:00:00.000000000",
          "2025-03-24T00:00:00.000000000",
          "2025-03-25T00:00:00.000000000",
          "2025-03-26T00:00:00.000000000",
          "2025-03-27T00:00:00.000000000",
          "2025-03-28T00:00:00.000000000",
          "2025-03-29T00:00:00.000000000",
          "2025-03-30T00:00:00.000000000",
          "2025-03-31T00:00:00.000000000",
          "2025-04-01T00:00:00.000000000",
          "2025-04-02T00:00:00.000000000",
          "2025-04-03T00:00:00.000000000",
          "2025-04-04T00:00:00.000000000",
          "2025-04-05T00:00:00.000000000",
          "2025-04-06T00:00:00.000000000",
          "2025-04-07T00:00:00.000000000",
          "2025-04-08T00:00:00.000000000",
          "2025-04-09T00:00:00.000000000",
          "2025-04-10T00:00:00.000000000",
          "2025-04-11T00:00:00.000000000",
          "2025-04-12T00:00:00.000000000",
          "2025-04-13T00:00:00.000000000",
          "2025-04-14T00:00:00.000000000",
          "2025-04-15T00:00:00.000000000",
          "2025-04-16T00:00:00.000000000",
          "2025-04-17T00:00:00.000000000",
          "2025-04-18T00:00:00.000000000",
          "2025-04-19T00:00:00.000000000",
          "2025-04-20T00:00:00.000000000",
          "2025-04-21T00:00:00.000000000",
          "2025-04-22T00:00:00.000000000",
          "2025-04-23T00:00:00.000000000",
          "2025-04-24T00:00:00.000000000",
          "2025-04-25T00:00:00.000000000",
          "2025-04-26T00:00:00.000000000",
          "2025-04-27T00:00:00.000000000",
          "2025-04-28T00:00:00.000000000",
          "2025-04-29T00:00:00.000000000",
          "2025-04-30T00:00:00.000000000",
          "2025-05-01T00:00:00.000000000",
          "2025-05-02T00:00:00.000000000",
          "2025-05-03T00:00:00.000000000",
          "2025-05-04T00:00:00.000000000",
          "2025-05-05T00:00:00.000000000",
          "2025-05-06T00:00:00.000000000",
          "2025-05-07T00:00:00.000000000",
          "2025-05-08T00:00:00.000000000",
          "2025-05-09T00:00:00.000000000",
          "2025-05-10T00:00:00.000000000",
          "2025-05-11T00:00:00.000000000",
          "2025-05-12T00:00:00.000000000",
          "2025-05-13T00:00:00.000000000",
          "2025-05-14T00:00:00.000000000",
          "2025-05-15T00:00:00.000000000",
          "2025-05-16T00:00:00.000000000",
          "2025-05-17T00:00:00.000000000",
          "2025-05-18T00:00:00.000000000",
          "2025-05-19T00:00:00.000000000",
          "2025-05-20T00:00:00.000000000",
          "2025-05-21T00:00:00.000000000",
          "2025-05-22T00:00:00.000000000",
          "2025-05-23T00:00:00.000000000",
          "2025-05-24T00:00:00.000000000",
          "2025-05-25T00:00:00.000000000",
          "2025-05-26T00:00:00.000000000",
          "2025-05-27T00:00:00.000000000",
          "2025-05-28T00:00:00.000000000",
          "2025-05-29T00:00:00.000000000",
          "2025-05-30T00:00:00.000000000",
          "2025-05-31T00:00:00.000000000",
          "2025-06-01T00:00:00.000000000",
          "2025-06-02T00:00:00.000000000",
          "2025-06-03T00:00:00.000000000",
          "2025-06-04T00:00:00.000000000",
          "2025-06-05T00:00:00.000000000",
          "2025-06-06T00:00:00.000000000",
          "2025-06-07T00:00:00.000000000",
          "2025-06-08T00:00:00.000000000",
          "2025-06-09T00:00:00.000000000",
          "2025-06-10T00:00:00.000000000",
          "2025-06-11T00:00:00.000000000",
          "2025-06-12T00:00:00.000000000",
          "2025-06-13T00:00:00.000000000",
          "2025-06-14T00:00:00.000000000",
          "2025-06-15T00:00:00.000000000",
          "2025-06-16T00:00:00.000000000",
          "2025-06-17T00:00:00.000000000",
          "2025-06-18T00:00:00.000000000",
          "2025-06-19T00:00:00.000000000",
          "2025-06-20T00:00:00.000000000",
          "2025-06-21T00:00:00.000000000",
          "2025-06-22T00:00:00.000000000",
          "2025-06-23T00:00:00.000000000",
          "2025-06-24T00:00:00.000000000",
          "2025-06-25T00:00:00.000000000",
          "2025-06-26T00:00:00.000000000",
          "2025-06-27T00:00:00.000000000",
          "2025-06-28T00:00:00.000000000",
          "2025-06-29T00:00:00.000000000",
          "2025-06-30T00:00:00.000000000",
          "2025-07-01T00:00:00.000000000",
          "2025-07-02T00:00:00.000000000",
          "2025-07-03T00:00:00.000000000",
          "2025-07-04T00:00:00.000000000",
          "2025-07-05T00:00:00.000000000",
          "2025-07-06T00:00:00.000000000",
          "2025-07-07T00:00:00.000000000",
          "2025-07-08T00:00:00.000000000",
          "2025-07-09T00:00:00.000000000",
          "2025-07-10T00:00:00.000000000",
          "2025-07-11T00:00:00.000000000",
          "2025-07-12T00:00:00.000000000",
          "2025-07-13T00:00:00.000000000",
          "2025-07-14T00:00:00.000000000",
          "2025-07-15T00:00:00.000000000",
          "2025-07-16T00:00:00.000000000",
          "2025-07-17T00:00:00.000000000",
          "2025-07-18T00:00:00.000000000",
          "2025-07-19T00:00:00.000000000",
          "2025-07-20T00:00:00.000000000",
          "2025-07-21T00:00:00.000000000",
          "2025-07-22T00:00:00.000000000",
          "2025-07-23T00:00:00.000000000",
          "2025-07-24T00:00:00.000000000",
          "2025-07-25T00:00:00.000000000",
          "2025-07-26T00:00:00.000000000",
          "2025-07-27T00:00:00.000000000",
          "2025-07-28T00:00:00.000000000",
          "2025-07-29T00:00:00.000000000",
          "2025-07-30T00:00:00.000000000",
          "2025-07-31T00:00:00.000000000",
          "2025-08-01T00:00:00.000000000",
          "2025-08-02T00:00:00.000000000",
          "2025-08-03T00:00:00.000000000",
          "2025-08-04T00:00:00.000000000",
          "2025-08-05T00:00:00.000000000",
          "2025-08-06T00:00:00.000000000",
          "2025-08-07T00:00:00.000000000",
          "2025-08-08T00:00:00.000000000",
          "2025-08-09T00:00:00.000000000",
          "2025-08-10T00:00:00.000000000",
          "2025-08-11T00:00:00.000000000",
          "2025-08-12T00:00:00.000000000",
          "2025-08-13T00:00:00.000000000",
          "2025-08-14T00:00:00.000000000",
          "2025-08-15T00:00:00.000000000",
          "2025-08-16T00:00:00.000000000",
          "2025-08-17T00:00:00.000000000",
          "2025-08-18T00:00:00.000000000",
          "2025-08-19T00:00:00.000000000",
          "2025-08-20T00:00:00.000000000",
          "2025-08-21T00:00:00.000000000",
          "2025-08-22T00:00:00.000000000"
         ],
         "xaxis": "x2",
         "y": {
          "bdata": "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",
          "dtype": "f8"
         },
         "yaxis": "y2"
        },
        {
         "line": {
          "color": "white"
         },
         "name": "Benchmark (HODL)",
         "opacity": 0.7,
         "type": "scatter",
         "x": [
          "2025-01-01T00:00:00.000000000",
          "2025-01-02T00:00:00.000000000",
          "2025-01-03T00:00:00.000000000",
          "2025-01-04T00:00:00.000000000",
          "2025-01-05T00:00:00.000000000",
          "2025-01-06T00:00:00.000000000",
          "2025-01-07T00:00:00.000000000",
          "2025-01-08T00:00:00.000000000",
          "2025-01-09T00:00:00.000000000",
          "2025-01-10T00:00:00.000000000",
          "2025-01-11T00:00:00.000000000",
          "2025-01-12T00:00:00.000000000",
          "2025-01-13T00:00:00.000000000",
          "2025-01-14T00:00:00.000000000",
          "2025-01-15T00:00:00.000000000",
          "2025-01-16T00:00:00.000000000",
          "2025-01-17T00:00:00.000000000",
          "2025-01-18T00:00:00.000000000",
          "2025-01-19T00:00:00.000000000",
          "2025-01-20T00:00:00.000000000",
          "2025-01-21T00:00:00.000000000",
          "2025-01-22T00:00:00.000000000",
          "2025-01-23T00:00:00.000000000",
          "2025-01-24T00:00:00.000000000",
          "2025-01-25T00:00:00.000000000",
          "2025-01-26T00:00:00.000000000",
          "2025-01-27T00:00:00.000000000",
          "2025-01-28T00:00:00.000000000",
          "2025-01-29T00:00:00.000000000",
          "2025-01-30T00:00:00.000000000",
          "2025-01-31T00:00:00.000000000",
          "2025-02-01T00:00:00.000000000",
          "2025-02-02T00:00:00.000000000",
          "2025-02-03T00:00:00.000000000",
          "2025-02-04T00:00:00.000000000",
          "2025-02-05T00:00:00.000000000",
          "2025-02-06T00:00:00.000000000",
          "2025-02-07T00:00:00.000000000",
          "2025-02-08T00:00:00.000000000",
          "2025-02-09T00:00:00.000000000",
          "2025-02-10T00:00:00.000000000",
          "2025-02-11T00:00:00.000000000",
          "2025-02-12T00:00:00.000000000",
          "2025-02-13T00:00:00.000000000",
          "2025-02-14T00:00:00.000000000",
          "2025-02-15T00:00:00.000000000",
          "2025-02-16T00:00:00.000000000",
          "2025-02-17T00:00:00.000000000",
          "2025-02-18T00:00:00.000000000",
          "2025-02-19T00:00:00.000000000",
          "2025-02-20T00:00:00.000000000",
          "2025-02-21T00:00:00.000000000",
          "2025-02-22T00:00:00.000000000",
          "2025-02-23T00:00:00.000000000",
          "2025-02-24T00:00:00.000000000",
          "2025-02-25T00:00:00.000000000",
          "2025-02-26T00:00:00.000000000",
          "2025-02-27T00:00:00.000000000",
          "2025-02-28T00:00:00.000000000",
          "2025-03-01T00:00:00.000000000",
          "2025-03-02T00:00:00.000000000",
          "2025-03-03T00:00:00.000000000",
          "2025-03-04T00:00:00.000000000",
          "2025-03-05T00:00:00.000000000",
          "2025-03-06T00:00:00.000000000",
          "2025-03-07T00:00:00.000000000",
          "2025-03-08T00:00:00.000000000",
          "2025-03-09T00:00:00.000000000",
          "2025-03-10T00:00:00.000000000",
          "2025-03-11T00:00:00.000000000",
          "2025-03-12T00:00:00.000000000",
          "2025-03-13T00:00:00.000000000",
          "2025-03-14T00:00:00.000000000",
          "2025-03-15T00:00:00.000000000",
          "2025-03-16T00:00:00.000000000",
          "2025-03-17T00:00:00.000000000",
          "2025-03-18T00:00:00.000000000",
          "2025-03-19T00:00:00.000000000",
          "2025-03-20T00:00:00.000000000",
          "2025-03-21T00:00:00.000000000",
          "2025-03-22T00:00:00.000000000",
          "2025-03-23T00:00:00.000000000",
          "2025-03-24T00:00:00.000000000",
          "2025-03-25T00:00:00.000000000",
          "2025-03-26T00:00:00.000000000",
          "2025-03-27T00:00:00.000000000",
          "2025-03-28T00:00:00.000000000",
          "2025-03-29T00:00:00.000000000",
          "2025-03-30T00:00:00.000000000",
          "2025-03-31T00:00:00.000000000",
          "2025-04-01T00:00:00.000000000",
          "2025-04-02T00:00:00.000000000",
          "2025-04-03T00:00:00.000000000",
          "2025-04-04T00:00:00.000000000",
          "2025-04-05T00:00:00.000000000",
          "2025-04-06T00:00:00.000000000",
          "2025-04-07T00:00:00.000000000",
          "2025-04-08T00:00:00.000000000",
          "2025-04-09T00:00:00.000000000",
          "2025-04-10T00:00:00.000000000",
          "2025-04-11T00:00:00.000000000",
          "2025-04-12T00:00:00.000000000",
          "2025-04-13T00:00:00.000000000",
          "2025-04-14T00:00:00.000000000",
          "2025-04-15T00:00:00.000000000",
          "2025-04-16T00:00:00.000000000",
          "2025-04-17T00:00:00.000000000",
          "2025-04-18T00:00:00.000000000",
          "2025-04-19T00:00:00.000000000",
          "2025-04-20T00:00:00.000000000",
          "2025-04-21T00:00:00.000000000",
          "2025-04-22T00:00:00.000000000",
          "2025-04-23T00:00:00.000000000",
          "2025-04-24T00:00:00.000000000",
          "2025-04-25T00:00:00.000000000",
          "2025-04-26T00:00:00.000000000",
          "2025-04-27T00:00:00.000000000",
          "2025-04-28T00:00:00.000000000",
          "2025-04-29T00:00:00.000000000",
          "2025-04-30T00:00:00.000000000",
          "2025-05-01T00:00:00.000000000",
          "2025-05-02T00:00:00.000000000",
          "2025-05-03T00:00:00.000000000",
          "2025-05-04T00:00:00.000000000",
          "2025-05-05T00:00:00.000000000",
          "2025-05-06T00:00:00.000000000",
          "2025-05-07T00:00:00.000000000",
          "2025-05-08T00:00:00.000000000",
          "2025-05-09T00:00:00.000000000",
          "2025-05-10T00:00:00.000000000",
          "2025-05-11T00:00:00.000000000",
          "2025-05-12T00:00:00.000000000",
          "2025-05-13T00:00:00.000000000",
          "2025-05-14T00:00:00.000000000",
          "2025-05-15T00:00:00.000000000",
          "2025-05-16T00:00:00.000000000",
          "2025-05-17T00:00:00.000000000",
          "2025-05-18T00:00:00.000000000",
          "2025-05-19T00:00:00.000000000",
          "2025-05-20T00:00:00.000000000",
          "2025-05-21T00:00:00.000000000",
          "2025-05-22T00:00:00.000000000",
          "2025-05-23T00:00:00.000000000",
          "2025-05-24T00:00:00.000000000",
          "2025-05-25T00:00:00.000000000",
          "2025-05-26T00:00:00.000000000",
          "2025-05-27T00:00:00.000000000",
          "2025-05-28T00:00:00.000000000",
          "2025-05-29T00:00:00.000000000",
          "2025-05-30T00:00:00.000000000",
          "2025-05-31T00:00:00.000000000",
          "2025-06-01T00:00:00.000000000",
          "2025-06-02T00:00:00.000000000",
          "2025-06-03T00:00:00.000000000",
          "2025-06-04T00:00:00.000000000",
          "2025-06-05T00:00:00.000000000",
          "2025-06-06T00:00:00.000000000",
          "2025-06-07T00:00:00.000000000",
          "2025-06-08T00:00:00.000000000",
          "2025-06-09T00:00:00.000000000",
          "2025-06-10T00:00:00.000000000",
          "2025-06-11T00:00:00.000000000",
          "2025-06-12T00:00:00.000000000",
          "2025-06-13T00:00:00.000000000",
          "2025-06-14T00:00:00.000000000",
          "2025-06-15T00:00:00.000000000",
          "2025-06-16T00:00:00.000000000",
          "2025-06-17T00:00:00.000000000",
          "2025-06-18T00:00:00.000000000",
          "2025-06-19T00:00:00.000000000",
          "2025-06-20T00:00:00.000000000",
          "2025-06-21T00:00:00.000000000",
          "2025-06-22T00:00:00.000000000",
          "2025-06-23T00:00:00.000000000",
          "2025-06-24T00:00:00.000000000",
          "2025-06-25T00:00:00.000000000",
          "2025-06-26T00:00:00.000000000",
          "2025-06-27T00:00:00.000000000",
          "2025-06-28T00:00:00.000000000",
          "2025-06-29T00:00:00.000000000",
          "2025-06-30T00:00:00.000000000",
          "2025-07-01T00:00:00.000000000",
          "2025-07-02T00:00:00.000000000",
          "2025-07-03T00:00:00.000000000",
          "2025-07-04T00:00:00.000000000",
          "2025-07-05T00:00:00.000000000",
          "2025-07-06T00:00:00.000000000",
          "2025-07-07T00:00:00.000000000",
          "2025-07-08T00:00:00.000000000",
          "2025-07-09T00:00:00.000000000",
          "2025-07-10T00:00:00.000000000",
          "2025-07-11T00:00:00.000000000",
          "2025-07-12T00:00:00.000000000",
          "2025-07-13T00:00:00.000000000",
          "2025-07-14T00:00:00.000000000",
          "2025-07-15T00:00:00.000000000",
          "2025-07-16T00:00:00.000000000",
          "2025-07-17T00:00:00.000000000",
          "2025-07-18T00:00:00.000000000",
          "2025-07-19T00:00:00.000000000",
          "2025-07-20T00:00:00.000000000",
          "2025-07-21T00:00:00.000000000",
          "2025-07-22T00:00:00.000000000",
          "2025-07-23T00:00:00.000000000",
          "2025-07-24T00:00:00.000000000",
          "2025-07-25T00:00:00.000000000",
          "2025-07-26T00:00:00.000000000",
          "2025-07-27T00:00:00.000000000",
          "2025-07-28T00:00:00.000000000",
          "2025-07-29T00:00:00.000000000",
          "2025-07-30T00:00:00.000000000",
          "2025-07-31T00:00:00.000000000",
          "2025-08-01T00:00:00.000000000",
          "2025-08-02T00:00:00.000000000",
          "2025-08-03T00:00:00.000000000",
          "2025-08-04T00:00:00.000000000",
          "2025-08-05T00:00:00.000000000",
          "2025-08-06T00:00:00.000000000",
          "2025-08-07T00:00:00.000000000",
          "2025-08-08T00:00:00.000000000",
          "2025-08-09T00:00:00.000000000",
          "2025-08-10T00:00:00.000000000",
          "2025-08-11T00:00:00.000000000",
          "2025-08-12T00:00:00.000000000",
          "2025-08-13T00:00:00.000000000",
          "2025-08-14T00:00:00.000000000",
          "2025-08-15T00:00:00.000000000",
          "2025-08-16T00:00:00.000000000",
          "2025-08-17T00:00:00.000000000",
          "2025-08-18T00:00:00.000000000",
          "2025-08-19T00:00:00.000000000",
          "2025-08-20T00:00:00.000000000",
          "2025-08-21T00:00:00.000000000",
          "2025-08-22T00:00:00.000000000"
         ],
         "xaxis": "x2",
         "y": {
          "bdata": "AAAAAICCw0Aij34M2gDEQGxIvfemP8RA5MaWEhlCxEAKM4p7p0nEQBJ4H/UYFsVAynB/G0L/w0AtOZgDQZvDQCeLAeXSFsNAwMKUmJeJw0BSO8XW7oLDQMdxaVoIgMNADuHIPY9/w0DEWHfPd+rDQDJU1yBRusRAEEGEz2KfxEBlijeMWXfFQBpt98igkMVAepvjO13mxECkVPjnYhfFQLshvyZ05MVAK4C7McVjxUBk7FhThm7FQMVcWME4ocVA86qRYrGaxUCo3f7eZCrFQObvTvkHDsVA3D85oJLmxEDNP4N5LGXFQFIN5DFumcVAKf5AtFYgxUBiIJGFnsHEQF9LVXqlJsRAzc7bATTmxEAe4tzT8inEQAzsFuEw7cNAoa+q0B/qw0DeAZoVnefDQAW8CDlW5MNApAy4qUnlw0DJPP0CZxjEQMMtcKMkwcNAnPuQP5cvxEANeT3k9uzDQNPYH5oUHMRA+CNMtLsfxEBPoHtRF9PDQCDdC/g8wcNACK3en4W7w0Cv3Uec4O7DQKlSI0GPRsRAhZWognbWw0BoZyOr8unDQG/hihF62sNAKQKuOAviwkD2n2MRYErCQLEg+c9zYMFAlBdHMql4wUAWUrV6uWXBQMt3ZX9BwMFAWHLhYYJxw0Ap4+04f8jBQHi/uLOJAMJAmXGSbgywwkAve51jdIzCQAEOrHUu58FAmG7zF5jIwUC8cfUE0qbAQK2M2OXnNcBAAfT6pOgawUC1RTSPW0LBQLzUa4T1usBAfPdmRlxSwUChqtIIHmXBQNqMRVz7B8FAkVZE78ZTwUAhob19Zg/BQICFAMaD6cFA3Mzz6ApfwUCYBXqH71fBQEXKnp/USsFAWeyqZTTBwUAIUY/L8wvCQHo1lphkBsJAiDAqc9rswUAyj6NC5v3BQA8pQq6nacFABGbgv+MLwUBe+oXxPP7AQBWTyeyvBsFALi/Vk2iQwUAj4DEi6ATBQOREnb2yKcFAROYRvW5NwUBmaWJl2jrBQBFxNfolLcBA1/1WJN1TwEB+EbHeu3u/QNJLa10hCsFAyhT4eU9rwEBPY9Fv0zTBQII8fSWrlsFA1wb+SpNGwUAxkb+2e3LBQEiHMjFzQMFAknEkAdpUwUBe8e80TIXBQP0n27dPbMFAXQSOPh2MwUA03OQUg5HBQMZr3QvoDMJAi1/eu9dFw0CqfRYn8VLDQOK2QtI4YsNAl/49z/mEw0CpdtVyaYTDQFk89RsEVsNA9SMY36SYw0DEr6A60HDDQG1DxbhVbMNAYcN+yLjmw0DopYAesvvDQNDBEO9FxcNAl7anYelxw0Dws1br/YnDQMACWxnk+MNAh7GJ6EMDxEBt68NXRUzFQMx3UbP6PMVABsSLoACexUAcYhtBfXnFQIjRE5hwM8VAdHt7O7x4xUAPGSd8RVnFQL3ZAVbIZsVAEC8d0vNWxUCB3is7JUXFQFEBCFrY9MVAnClXaVrGxUAMJ4hpvQnGQL3egcFDncZAt/8QgJ8Jx0BDqlqIdyLGQF7V1MjjOcZAY4BYnXt7xkA10NMCOJLGQCQf1zn/d8ZAdJ++XfA6xkB+flnRMsfFQLlOIv19csVAudoCqoKSxUDE6x2mAcrFQDtrYJpc1cVAJEfVmfW7xUCyjEesDZjFQCu/Uzi378RASGwXFX2CxUBOaKWUNsXFQMXqFaPQzsVAUJtzJvO9xkCKN37WjL7GQBm91BWGaMZAh+HY74bLxUChlNo8YODFQJpWlt3zvcVAcoxjZmzHxUCDuTHDzwbGQLktqGNckMVAOT+lzxSixUBBUCZhCJbFQFvAdTkxTsVAXn+riP4PxUAmn6gN89LEQPT+t+mwucVAR4L/DD7hxUDdf66wpCPGQEIZh4DdDsZA7OdKXCwUxkAeoXzIVCHGQCJOEKNOWcZAkWVPUmUZxkAcXqAhBszFQNNatwdSc8ZAORnnaiOaxkBqU78BoUXGQK32zgLsUMZAGpDMRQaGxkCujegtWFTGQM/pTucxd8ZA456zsjfxxkB+SerCZO3HQJbUROOGPchAm4lLp9c3yEDOaMiI14/IQFY7HJyut8hAvefrmLFJyEAucgz4wHfIQIlus36klMhABmRCjH9SyECnCTLFBE7IQH/oKiaqL8hAn5uA1781yEC+8sREqb3IQJXwEShifshA4uXbn3hoyEBcVYshGkLIQP3nnv09UshA0vuBZDWhyECuEILbwVnIQG10N+jdU8hAO/xL0whOyEBzDqGsaODHQMWha9wxXsdAw2yxy4I2x0Akf10KSo7HQNYjEnz4usdAklSohh2Kx0CvUkQpqLfHQLuRd6uWOshAbyjnA34QyEDGJLbMRQXIQPViC4vKmshA9PwFG7B6yEAopBG5JcfIQCN73zOmbslAO+5ZMgxmyEAmg/UBujPIQKOYnYKMOMhAa7evy9U5yECdn1s5nPvHQKSas4puSsdAyZBRxkuUx0Cpr7BEuzbHQMneFjsPIchA",
          "dtype": "f8"
         },
         "yaxis": "y2"
        }
       ],
       "layout": {
        "annotations": [
         {
          "font": {
           "size": 16
          },
          "showarrow": false,
          "text": "BTC/USDT",
          "x": 0.5,
          "xanchor": "center",
          "xref": "paper",
          "y": 1,
          "yanchor": "bottom",
          "yref": "paper"
         },
         {
          "font": {
           "size": 16
          },
          "showarrow": false,
          "text": "Portfolio Value Curves",
          "x": 0.5,
          "xanchor": "center",
          "xref": "paper",
          "y": 0.475,
          "yanchor": "bottom",
          "yref": "paper"
         }
        ],
        "barmode": "overlay",
        "height": 900,
        "legend": {
         "orientation": "h",
         "x": 1,
         "xanchor": "right",
         "y": 1.02,
         "yanchor": "bottom"
        },
        "margin": {
         "b": 50,
         "l": 50,
         "r": 50,
         "t": 50
        },
        "shapes": [
         {
          "fillcolor": "green",
          "layer": "below",
          "line": {
           "width": 0
          },
          "opacity": 0.2,
          "type": "rect",
          "x0": "2025-01-01T00:00:00",
          "x1": "2025-01-01T00:00:00",
          "xref": "x2",
          "y0": 0,
          "y1": 1,
          "yref": "y2 domain"
         },
         {
          "fillcolor": "green",
          "layer": "below",
          "line": {
           "width": 0
          },
          "opacity": 0.2,
          "type": "rect",
          "x0": "2025-01-01T00:00:00",
          "x1": "2025-01-02T00:00:00",
          "xref": "x2",
          "y0": 0,
          "y1": 1,
          "yref": "y2 domain"
         },
         {
          "fillcolor": "red",
          "layer": "below",
          "line": {
           "width": 0
          },
          "opacity": 0.2,
          "type": "rect",
          "x0": "2025-01-02T00:00:00",
          "x1": "2025-01-07T00:00:00",
          "xref": "x2",
          "y0": 0,
          "y1": 1,
          "yref": "y2 domain"
         },
         {
          "fillcolor": "green",
          "layer": "below",
          "line": {
           "width": 0
          },
          "opacity": 0.2,
          "type": "rect",
          "x0": "2025-01-07T00:00:00",
          "x1": "2025-01-15T00:00:00",
          "xref": "x2",
          "y0": 0,
          "y1": 1,
          "yref": "y2 domain"
         },
         {
          "fillcolor": "red",
          "layer": "below",
          "line": {
           "width": 0
          },
          "opacity": 0.2,
          "type": "rect",
          "x0": "2025-01-15T00:00:00",
          "x1": "2025-01-16T00:00:00",
          "xref": "x2",
          "y0": 0,
          "y1": 1,
          "yref": "y2 domain"
         },
         {
          "fillcolor": "green",
          "layer": "below",
          "line": {
           "width": 0
          },
          "opacity": 0.2,
          "type": "rect",
          "x0": "2025-01-16T00:00:00",
          "x1": "2025-01-17T00:00:00",
          "xref": "x2",
          "y0": 0,
          "y1": 1,
          "yref": "y2 domain"
         },
         {
          "fillcolor": "red",
          "layer": "below",
          "line": {
           "width": 0
          },
          "opacity": 0.2,
          "type": "rect",
          "x0": "2025-01-17T00:00:00",
          "x1": "2025-01-27T00:00:00",
          "xref": "x2",
          "y0": 0,
          "y1": 1,
          "yref": "y2 domain"
         },
         {
          "fillcolor": "green",
          "layer": "below",
          "line": {
           "width": 0
          },
          "opacity": 0.2,
          "type": "rect",
          "x0": "2025-01-27T00:00:00",
          "x1": "2025-01-29T00:00:00",
          "xref": "x2",
          "y0": 0,
          "y1": 1,
          "yref": "y2 domain"
         },
         {
          "fillcolor": "red",
          "layer": "below",
          "line": {
           "width": 0
          },
          "opacity": 0.2,
          "type": "rect",
          "x0": "2025-01-29T00:00:00",
          "x1": "2025-02-01T00:00:00",
          "xref": "x2",
          "y0": 0,
          "y1": 1,
          "yref": "y2 domain"
         },
         {
          "fillcolor": "green",
          "layer": "below",
          "line": {
           "width": 0
          },
          "opacity": 0.2,
          "type": "rect",
          "x0": "2025-02-01T00:00:00",
          "x1": "2025-08-22T00:00:00",
          "xref": "x2",
          "y0": 0,
          "y1": 1,
          "yref": "y2 domain"
         }
        ],
        "template": {
         "data": {
          "bar": [
           {
            "error_x": {
             "color": "#f2f5fa"
            },
            "error_y": {
             "color": "#f2f5fa"
            },
            "marker": {
             "line": {
              "color": "rgb(17,17,17)",
              "width": 0.5
             },
             "pattern": {
              "fillmode": "overlay",
              "size": 10,
              "solidity": 0.2
             }
            },
            "type": "bar"
           }
          ],
          "barpolar": [
           {
            "marker": {
             "line": {
              "color": "rgb(17,17,17)",
              "width": 0.5
             },
             "pattern": {
              "fillmode": "overlay",
              "size": 10,
              "solidity": 0.2
             }
            },
            "type": "barpolar"
           }
          ],
          "carpet": [
           {
            "aaxis": {
             "endlinecolor": "#A2B1C6",
             "gridcolor": "#506784",
             "linecolor": "#506784",
             "minorgridcolor": "#506784",
             "startlinecolor": "#A2B1C6"
            },
            "baxis": {
             "endlinecolor": "#A2B1C6",
             "gridcolor": "#506784",
             "linecolor": "#506784",
             "minorgridcolor": "#506784",
             "startlinecolor": "#A2B1C6"
            },
            "type": "carpet"
           }
          ],
          "choropleth": [
           {
            "colorbar": {
             "outlinewidth": 0,
             "ticks": ""
            },
            "type": "choropleth"
           }
          ],
          "contour": [
           {
            "colorbar": {
             "outlinewidth": 0,
             "ticks": ""
            },
            "colorscale": [
             [
              0,
              "#0d0887"
             ],
             [
              0.1111111111111111,
              "#46039f"
             ],
             [
              0.2222222222222222,
              "#7201a8"
             ],
             [
              0.3333333333333333,
              "#9c179e"
             ],
             [
              0.4444444444444444,
              "#bd3786"
             ],
             [
              0.5555555555555556,
              "#d8576b"
             ],
             [
              0.6666666666666666,
              "#ed7953"
             ],
             [
              0.7777777777777778,
              "#fb9f3a"
             ],
             [
              0.8888888888888888,
              "#fdca26"
             ],
             [
              1,
              "#f0f921"
             ]
            ],
            "type": "contour"
           }
          ],
          "contourcarpet": [
           {
            "colorbar": {
             "outlinewidth": 0,
             "ticks": ""
            },
            "type": "contourcarpet"
           }
          ],
          "heatmap": [
           {
            "colorbar": {
             "outlinewidth": 0,
             "ticks": ""
            },
            "colorscale": [
             [
              0,
              "#0d0887"
             ],
             [
              0.1111111111111111,
              "#46039f"
             ],
             [
              0.2222222222222222,
              "#7201a8"
             ],
             [
              0.3333333333333333,
              "#9c179e"
             ],
             [
              0.4444444444444444,
              "#bd3786"
             ],
             [
              0.5555555555555556,
              "#d8576b"
             ],
             [
              0.6666666666666666,
              "#ed7953"
             ],
             [
              0.7777777777777778,
              "#fb9f3a"
             ],
             [
              0.8888888888888888,
              "#fdca26"
             ],
             [
              1,
              "#f0f921"
             ]
            ],
            "type": "heatmap"
           }
          ],
          "histogram": [
           {
            "marker": {
             "pattern": {
              "fillmode": "overlay",
              "size": 10,
              "solidity": 0.2
             }
            },
            "type": "histogram"
           }
          ],
          "histogram2d": [
           {
            "colorbar": {
             "outlinewidth": 0,
             "ticks": ""
            },
            "colorscale": [
             [
              0,
              "#0d0887"
             ],
             [
              0.1111111111111111,
              "#46039f"
             ],
             [
              0.2222222222222222,
              "#7201a8"
             ],
             [
              0.3333333333333333,
              "#9c179e"
             ],
             [
              0.4444444444444444,
              "#bd3786"
             ],
             [
              0.5555555555555556,
              "#d8576b"
             ],
             [
              0.6666666666666666,
              "#ed7953"
             ],
             [
              0.7777777777777778,
              "#fb9f3a"
             ],
             [
              0.8888888888888888,
              "#fdca26"
             ],
             [
              1,
              "#f0f921"
             ]
            ],
            "type": "histogram2d"
           }
          ],
          "histogram2dcontour": [
           {
            "colorbar": {
             "outlinewidth": 0,
             "ticks": ""
            },
            "colorscale": [
             [
              0,
              "#0d0887"
             ],
             [
              0.1111111111111111,
              "#46039f"
             ],
             [
              0.2222222222222222,
              "#7201a8"
             ],
             [
              0.3333333333333333,
              "#9c179e"
             ],
             [
              0.4444444444444444,
              "#bd3786"
             ],
             [
              0.5555555555555556,
              "#d8576b"
             ],
             [
              0.6666666666666666,
              "#ed7953"
             ],
             [
              0.7777777777777778,
              "#fb9f3a"
             ],
             [
              0.8888888888888888,
              "#fdca26"
             ],
             [
              1,
              "#f0f921"
             ]
            ],
            "type": "histogram2dcontour"
           }
          ],
          "mesh3d": [
           {
            "colorbar": {
             "outlinewidth": 0,
             "ticks": ""
            },
            "type": "mesh3d"
           }
          ],
          "parcoords": [
           {
            "line": {
             "colorbar": {
              "outlinewidth": 0,
              "ticks": ""
             }
            },
            "type": "parcoords"
           }
          ],
          "pie": [
           {
            "automargin": true,
            "type": "pie"
           }
          ],
          "scatter": [
           {
            "marker": {
             "line": {
              "color": "#283442"
             }
            },
            "type": "scatter"
           }
          ],
          "scatter3d": [
           {
            "line": {
             "colorbar": {
              "outlinewidth": 0,
              "ticks": ""
             }
            },
            "marker": {
             "colorbar": {
              "outlinewidth": 0,
              "ticks": ""
             }
            },
            "type": "scatter3d"
           }
          ],
          "scattercarpet": [
           {
            "marker": {
             "colorbar": {
              "outlinewidth": 0,
              "ticks": ""
             }
            },
            "type": "scattercarpet"
           }
          ],
          "scattergeo": [
           {
            "marker": {
             "colorbar": {
              "outlinewidth": 0,
              "ticks": ""
             }
            },
            "type": "scattergeo"
           }
          ],
          "scattergl": [
           {
            "marker": {
             "line": {
              "color": "#283442"
             }
            },
            "type": "scattergl"
           }
          ],
          "scattermap": [
           {
            "marker": {
             "colorbar": {
              "outlinewidth": 0,
              "ticks": ""
             }
            },
            "type": "scattermap"
           }
          ],
          "scattermapbox": [
           {
            "marker": {
             "colorbar": {
              "outlinewidth": 0,
              "ticks": ""
             }
            },
            "type": "scattermapbox"
           }
          ],
          "scatterpolar": [
           {
            "marker": {
             "colorbar": {
              "outlinewidth": 0,
              "ticks": ""
             }
            },
            "type": "scatterpolar"
           }
          ],
          "scatterpolargl": [
           {
            "marker": {
             "colorbar": {
              "outlinewidth": 0,
              "ticks": ""
             }
            },
            "type": "scatterpolargl"
           }
          ],
          "scatterternary": [
           {
            "marker": {
             "colorbar": {
              "outlinewidth": 0,
              "ticks": ""
             }
            },
            "type": "scatterternary"
           }
          ],
          "surface": [
           {
            "colorbar": {
             "outlinewidth": 0,
             "ticks": ""
            },
            "colorscale": [
             [
              0,
              "#0d0887"
             ],
             [
              0.1111111111111111,
              "#46039f"
             ],
             [
              0.2222222222222222,
              "#7201a8"
             ],
             [
              0.3333333333333333,
              "#9c179e"
             ],
             [
              0.4444444444444444,
              "#bd3786"
             ],
             [
              0.5555555555555556,
              "#d8576b"
             ],
             [
              0.6666666666666666,
              "#ed7953"
             ],
             [
              0.7777777777777778,
              "#fb9f3a"
             ],
             [
              0.8888888888888888,
              "#fdca26"
             ],
             [
              1,
              "#f0f921"
             ]
            ],
            "type": "surface"
           }
          ],
          "table": [
           {
            "cells": {
             "fill": {
              "color": "#506784"
             },
             "line": {
              "color": "rgb(17,17,17)"
             }
            },
            "header": {
             "fill": {
              "color": "#2a3f5f"
             },
             "line": {
              "color": "rgb(17,17,17)"
             }
            },
            "type": "table"
           }
          ]
         },
         "layout": {
          "annotationdefaults": {
           "arrowcolor": "#f2f5fa",
           "arrowhead": 0,
           "arrowwidth": 1
          },
          "autotypenumbers": "strict",
          "coloraxis": {
           "colorbar": {
            "outlinewidth": 0,
            "ticks": ""
           }
          },
          "colorscale": {
           "diverging": [
            [
             0,
             "#8e0152"
            ],
            [
             0.1,
             "#c51b7d"
            ],
            [
             0.2,
             "#de77ae"
            ],
            [
             0.3,
             "#f1b6da"
            ],
            [
             0.4,
             "#fde0ef"
            ],
            [
             0.5,
             "#f7f7f7"
            ],
            [
             0.6,
             "#e6f5d0"
            ],
            [
             0.7,
             "#b8e186"
            ],
            [
             0.8,
             "#7fbc41"
            ],
            [
             0.9,
             "#4d9221"
            ],
            [
             1,
             "#276419"
            ]
           ],
           "sequential": [
            [
             0,
             "#0d0887"
            ],
            [
             0.1111111111111111,
             "#46039f"
            ],
            [
             0.2222222222222222,
             "#7201a8"
            ],
            [
             0.3333333333333333,
             "#9c179e"
            ],
            [
             0.4444444444444444,
             "#bd3786"
            ],
            [
             0.5555555555555556,
             "#d8576b"
            ],
            [
             0.6666666666666666,
             "#ed7953"
            ],
            [
             0.7777777777777778,
             "#fb9f3a"
            ],
            [
             0.8888888888888888,
             "#fdca26"
            ],
            [
             1,
             "#f0f921"
            ]
           ],
           "sequentialminus": [
            [
             0,
             "#0d0887"
            ],
            [
             0.1111111111111111,
             "#46039f"
            ],
            [
             0.2222222222222222,
             "#7201a8"
            ],
            [
             0.3333333333333333,
             "#9c179e"
            ],
            [
             0.4444444444444444,
             "#bd3786"
            ],
            [
             0.5555555555555556,
             "#d8576b"
            ],
            [
             0.6666666666666666,
             "#ed7953"
            ],
            [
             0.7777777777777778,
             "#fb9f3a"
            ],
            [
             0.8888888888888888,
             "#fdca26"
            ],
            [
             1,
             "#f0f921"
            ]
           ]
          },
          "colorway": [
           "#636efa",
           "#EF553B",
           "#00cc96",
           "#ab63fa",
           "#FFA15A",
           "#19d3f3",
           "#FF6692",
           "#B6E880",
           "#FF97FF",
           "#FECB52"
          ],
          "font": {
           "color": "#f2f5fa"
          },
          "geo": {
           "bgcolor": "rgb(17,17,17)",
           "lakecolor": "rgb(17,17,17)",
           "landcolor": "rgb(17,17,17)",
           "showlakes": true,
           "showland": true,
           "subunitcolor": "#506784"
          },
          "hoverlabel": {
           "align": "left"
          },
          "hovermode": "closest",
          "mapbox": {
           "style": "dark"
          },
          "paper_bgcolor": "rgb(17,17,17)",
          "plot_bgcolor": "rgb(17,17,17)",
          "polar": {
           "angularaxis": {
            "gridcolor": "#506784",
            "linecolor": "#506784",
            "ticks": ""
           },
           "bgcolor": "rgb(17,17,17)",
           "radialaxis": {
            "gridcolor": "#506784",
            "linecolor": "#506784",
            "ticks": ""
           }
          },
          "scene": {
           "xaxis": {
            "backgroundcolor": "rgb(17,17,17)",
            "gridcolor": "#506784",
            "gridwidth": 2,
            "linecolor": "#506784",
            "showbackground": true,
            "ticks": "",
            "zerolinecolor": "#C8D4E3"
           },
           "yaxis": {
            "backgroundcolor": "rgb(17,17,17)",
            "gridcolor": "#506784",
            "gridwidth": 2,
            "linecolor": "#506784",
            "showbackground": true,
            "ticks": "",
            "zerolinecolor": "#C8D4E3"
           },
           "zaxis": {
            "backgroundcolor": "rgb(17,17,17)",
            "gridcolor": "#506784",
            "gridwidth": 2,
            "linecolor": "#506784",
            "showbackground": true,
            "ticks": "",
            "zerolinecolor": "#C8D4E3"
           }
          },
          "shapedefaults": {
           "line": {
            "color": "#f2f5fa"
           }
          },
          "sliderdefaults": {
           "bgcolor": "#C8D4E3",
           "bordercolor": "rgb(17,17,17)",
           "borderwidth": 1,
           "tickwidth": 0
          },
          "ternary": {
           "aaxis": {
            "gridcolor": "#506784",
            "linecolor": "#506784",
            "ticks": ""
           },
           "baxis": {
            "gridcolor": "#506784",
            "linecolor": "#506784",
            "ticks": ""
           },
           "bgcolor": "rgb(17,17,17)",
           "caxis": {
            "gridcolor": "#506784",
            "linecolor": "#506784",
            "ticks": ""
           }
          },
          "title": {
           "x": 0.05
          },
          "updatemenudefaults": {
           "bgcolor": "#506784",
           "borderwidth": 0
          },
          "xaxis": {
           "automargin": true,
           "gridcolor": "#283442",
           "linecolor": "#506784",
           "ticks": "",
           "title": {
            "standoff": 15
           },
           "zerolinecolor": "#283442",
           "zerolinewidth": 2
          },
          "yaxis": {
           "automargin": true,
           "gridcolor": "#283442",
           "linecolor": "#506784",
           "ticks": "",
           "title": {
            "standoff": 15
           },
           "zerolinecolor": "#283442",
           "zerolinewidth": 2
          }
         }
        },
        "title": {
         "text": "Performance Dashboard of 1000 Runs of HMM Strategy"
        },
        "xaxis": {
         "anchor": "y",
         "domain": [
          0,
          1
         ],
         "matches": "x2",
         "rangeslider": {
          "visible": false
         },
         "showticklabels": false
        },
        "xaxis2": {
         "anchor": "y2",
         "domain": [
          0,
          1
         ]
        },
        "yaxis": {
         "anchor": "x",
         "domain": [
          0.525,
          1
         ],
         "tickformat": "~s",
         "title": {
          "text": "BTC/USDT"
         }
        },
        "yaxis2": {
         "anchor": "x2",
         "domain": [
          0,
          0.475
         ],
         "tickformat": "~s",
         "title": {
          "text": "Portfolio Value"
         }
        }
       }
      }
     },
     "metadata": {},
     "output_type": "display_data"
    }
   ],
   "source": [
    "plotter.plot_mc_results(avg_df, runs)"
   ]
  },
  {
   "cell_type": "markdown",
   "id": "4629db1a",
   "metadata": {},
   "source": [
    "![MC Dashboard Result](img/img3.png)"
   ]
  },
  {
   "cell_type": "markdown",
   "id": "97e18ad5",
   "metadata": {},
   "source": [
    "\n",
    "The portfolio value curves highlight this improvement: the HMM strategy consistently diverges upward from the benchmark, particularly during periods of drawdown, demonstrating its ability to sidestep adverse market regimes. Complementing this, the return distribution shows that the bulk of outcomes lie well above the benchmark’s 23.68%, indicating that strong outperformance is not an outlier but the central tendency."
   ]
  },
  {
   "cell_type": "code",
   "execution_count": 14,
   "id": "d6537e7a",
   "metadata": {},
   "outputs": [
    {
     "data": {
      "application/vnd.plotly.v1+json": {
       "config": {
        "plotlyServerURL": "https://plot.ly"
       },
       "data": [
        {
         "histnorm": "probability density",
         "marker": {
          "color": "cyan"
         },
         "name": "HMM Returns",
         "opacity": 0.6,
         "type": "histogram",
         "x": {
          "bdata": "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",
          "dtype": "f8"
         }
        },
        {
         "line": {
          "color": "red",
          "dash": "dash"
         },
         "mode": "lines",
         "name": "HODL Return = 23.68%",
         "type": "scatter",
         "x": [
          0.2367723486598714,
          0.2367723486598714
         ],
         "y": [
          0,
          3
         ]
        },
        {
         "line": {
          "color": "green",
          "dash": "dash"
         },
         "mode": "lines",
         "name": "Average HMM Return = 51.25%",
         "type": "scatter",
         "x": [
          0.5125095432529492,
          0.5125095432529492
         ],
         "y": [
          0,
          3
         ]
        },
        {
         "line": {
          "color": "white",
          "dash": "dot",
          "width": 2
         },
         "mode": "lines",
         "name": "KDE Fit",
         "type": "scatter",
         "x": {
          "bdata": "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",
          "dtype": "f8"
         },
         "y": {
          "bdata": "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",
          "dtype": "f8"
         }
        }
       ],
       "layout": {
        "bargap": 0.05,
        "height": 600,
        "legend": {
         "x": 0.7,
         "y": 0.95
        },
        "template": {
         "data": {
          "bar": [
           {
            "error_x": {
             "color": "#f2f5fa"
            },
            "error_y": {
             "color": "#f2f5fa"
            },
            "marker": {
             "line": {
              "color": "rgb(17,17,17)",
              "width": 0.5
             },
             "pattern": {
              "fillmode": "overlay",
              "size": 10,
              "solidity": 0.2
             }
            },
            "type": "bar"
           }
          ],
          "barpolar": [
           {
            "marker": {
             "line": {
              "color": "rgb(17,17,17)",
              "width": 0.5
             },
             "pattern": {
              "fillmode": "overlay",
              "size": 10,
              "solidity": 0.2
             }
            },
            "type": "barpolar"
           }
          ],
          "carpet": [
           {
            "aaxis": {
             "endlinecolor": "#A2B1C6",
             "gridcolor": "#506784",
             "linecolor": "#506784",
             "minorgridcolor": "#506784",
             "startlinecolor": "#A2B1C6"
            },
            "baxis": {
             "endlinecolor": "#A2B1C6",
             "gridcolor": "#506784",
             "linecolor": "#506784",
             "minorgridcolor": "#506784",
             "startlinecolor": "#A2B1C6"
            },
            "type": "carpet"
           }
          ],
          "choropleth": [
           {
            "colorbar": {
             "outlinewidth": 0,
             "ticks": ""
            },
            "type": "choropleth"
           }
          ],
          "contour": [
           {
            "colorbar": {
             "outlinewidth": 0,
             "ticks": ""
            },
            "colorscale": [
             [
              0,
              "#0d0887"
             ],
             [
              0.1111111111111111,
              "#46039f"
             ],
             [
              0.2222222222222222,
              "#7201a8"
             ],
             [
              0.3333333333333333,
              "#9c179e"
             ],
             [
              0.4444444444444444,
              "#bd3786"
             ],
             [
              0.5555555555555556,
              "#d8576b"
             ],
             [
              0.6666666666666666,
              "#ed7953"
             ],
             [
              0.7777777777777778,
              "#fb9f3a"
             ],
             [
              0.8888888888888888,
              "#fdca26"
             ],
             [
              1,
              "#f0f921"
             ]
            ],
            "type": "contour"
           }
          ],
          "contourcarpet": [
           {
            "colorbar": {
             "outlinewidth": 0,
             "ticks": ""
            },
            "type": "contourcarpet"
           }
          ],
          "heatmap": [
           {
            "colorbar": {
             "outlinewidth": 0,
             "ticks": ""
            },
            "colorscale": [
             [
              0,
              "#0d0887"
             ],
             [
              0.1111111111111111,
              "#46039f"
             ],
             [
              0.2222222222222222,
              "#7201a8"
             ],
             [
              0.3333333333333333,
              "#9c179e"
             ],
             [
              0.4444444444444444,
              "#bd3786"
             ],
             [
              0.5555555555555556,
              "#d8576b"
             ],
             [
              0.6666666666666666,
              "#ed7953"
             ],
             [
              0.7777777777777778,
              "#fb9f3a"
             ],
             [
              0.8888888888888888,
              "#fdca26"
             ],
             [
              1,
              "#f0f921"
             ]
            ],
            "type": "heatmap"
           }
          ],
          "histogram": [
           {
            "marker": {
             "pattern": {
              "fillmode": "overlay",
              "size": 10,
              "solidity": 0.2
             }
            },
            "type": "histogram"
           }
          ],
          "histogram2d": [
           {
            "colorbar": {
             "outlinewidth": 0,
             "ticks": ""
            },
            "colorscale": [
             [
              0,
              "#0d0887"
             ],
             [
              0.1111111111111111,
              "#46039f"
             ],
             [
              0.2222222222222222,
              "#7201a8"
             ],
             [
              0.3333333333333333,
              "#9c179e"
             ],
             [
              0.4444444444444444,
              "#bd3786"
             ],
             [
              0.5555555555555556,
              "#d8576b"
             ],
             [
              0.6666666666666666,
              "#ed7953"
             ],
             [
              0.7777777777777778,
              "#fb9f3a"
             ],
             [
              0.8888888888888888,
              "#fdca26"
             ],
             [
              1,
              "#f0f921"
             ]
            ],
            "type": "histogram2d"
           }
          ],
          "histogram2dcontour": [
           {
            "colorbar": {
             "outlinewidth": 0,
             "ticks": ""
            },
            "colorscale": [
             [
              0,
              "#0d0887"
             ],
             [
              0.1111111111111111,
              "#46039f"
             ],
             [
              0.2222222222222222,
              "#7201a8"
             ],
             [
              0.3333333333333333,
              "#9c179e"
             ],
             [
              0.4444444444444444,
              "#bd3786"
             ],
             [
              0.5555555555555556,
              "#d8576b"
             ],
             [
              0.6666666666666666,
              "#ed7953"
             ],
             [
              0.7777777777777778,
              "#fb9f3a"
             ],
             [
              0.8888888888888888,
              "#fdca26"
             ],
             [
              1,
              "#f0f921"
             ]
            ],
            "type": "histogram2dcontour"
           }
          ],
          "mesh3d": [
           {
            "colorbar": {
             "outlinewidth": 0,
             "ticks": ""
            },
            "type": "mesh3d"
           }
          ],
          "parcoords": [
           {
            "line": {
             "colorbar": {
              "outlinewidth": 0,
              "ticks": ""
             }
            },
            "type": "parcoords"
           }
          ],
          "pie": [
           {
            "automargin": true,
            "type": "pie"
           }
          ],
          "scatter": [
           {
            "marker": {
             "line": {
              "color": "#283442"
             }
            },
            "type": "scatter"
           }
          ],
          "scatter3d": [
           {
            "line": {
             "colorbar": {
              "outlinewidth": 0,
              "ticks": ""
             }
            },
            "marker": {
             "colorbar": {
              "outlinewidth": 0,
              "ticks": ""
             }
            },
            "type": "scatter3d"
           }
          ],
          "scattercarpet": [
           {
            "marker": {
             "colorbar": {
              "outlinewidth": 0,
              "ticks": ""
             }
            },
            "type": "scattercarpet"
           }
          ],
          "scattergeo": [
           {
            "marker": {
             "colorbar": {
              "outlinewidth": 0,
              "ticks": ""
             }
            },
            "type": "scattergeo"
           }
          ],
          "scattergl": [
           {
            "marker": {
             "line": {
              "color": "#283442"
             }
            },
            "type": "scattergl"
           }
          ],
          "scattermap": [
           {
            "marker": {
             "colorbar": {
              "outlinewidth": 0,
              "ticks": ""
             }
            },
            "type": "scattermap"
           }
          ],
          "scattermapbox": [
           {
            "marker": {
             "colorbar": {
              "outlinewidth": 0,
              "ticks": ""
             }
            },
            "type": "scattermapbox"
           }
          ],
          "scatterpolar": [
           {
            "marker": {
             "colorbar": {
              "outlinewidth": 0,
              "ticks": ""
             }
            },
            "type": "scatterpolar"
           }
          ],
          "scatterpolargl": [
           {
            "marker": {
             "colorbar": {
              "outlinewidth": 0,
              "ticks": ""
             }
            },
            "type": "scatterpolargl"
           }
          ],
          "scatterternary": [
           {
            "marker": {
             "colorbar": {
              "outlinewidth": 0,
              "ticks": ""
             }
            },
            "type": "scatterternary"
           }
          ],
          "surface": [
           {
            "colorbar": {
             "outlinewidth": 0,
             "ticks": ""
            },
            "colorscale": [
             [
              0,
              "#0d0887"
             ],
             [
              0.1111111111111111,
              "#46039f"
             ],
             [
              0.2222222222222222,
              "#7201a8"
             ],
             [
              0.3333333333333333,
              "#9c179e"
             ],
             [
              0.4444444444444444,
              "#bd3786"
             ],
             [
              0.5555555555555556,
              "#d8576b"
             ],
             [
              0.6666666666666666,
              "#ed7953"
             ],
             [
              0.7777777777777778,
              "#fb9f3a"
             ],
             [
              0.8888888888888888,
              "#fdca26"
             ],
             [
              1,
              "#f0f921"
             ]
            ],
            "type": "surface"
           }
          ],
          "table": [
           {
            "cells": {
             "fill": {
              "color": "#506784"
             },
             "line": {
              "color": "rgb(17,17,17)"
             }
            },
            "header": {
             "fill": {
              "color": "#2a3f5f"
             },
             "line": {
              "color": "rgb(17,17,17)"
             }
            },
            "type": "table"
           }
          ]
         },
         "layout": {
          "annotationdefaults": {
           "arrowcolor": "#f2f5fa",
           "arrowhead": 0,
           "arrowwidth": 1
          },
          "autotypenumbers": "strict",
          "coloraxis": {
           "colorbar": {
            "outlinewidth": 0,
            "ticks": ""
           }
          },
          "colorscale": {
           "diverging": [
            [
             0,
             "#8e0152"
            ],
            [
             0.1,
             "#c51b7d"
            ],
            [
             0.2,
             "#de77ae"
            ],
            [
             0.3,
             "#f1b6da"
            ],
            [
             0.4,
             "#fde0ef"
            ],
            [
             0.5,
             "#f7f7f7"
            ],
            [
             0.6,
             "#e6f5d0"
            ],
            [
             0.7,
             "#b8e186"
            ],
            [
             0.8,
             "#7fbc41"
            ],
            [
             0.9,
             "#4d9221"
            ],
            [
             1,
             "#276419"
            ]
           ],
           "sequential": [
            [
             0,
             "#0d0887"
            ],
            [
             0.1111111111111111,
             "#46039f"
            ],
            [
             0.2222222222222222,
             "#7201a8"
            ],
            [
             0.3333333333333333,
             "#9c179e"
            ],
            [
             0.4444444444444444,
             "#bd3786"
            ],
            [
             0.5555555555555556,
             "#d8576b"
            ],
            [
             0.6666666666666666,
             "#ed7953"
            ],
            [
             0.7777777777777778,
             "#fb9f3a"
            ],
            [
             0.8888888888888888,
             "#fdca26"
            ],
            [
             1,
             "#f0f921"
            ]
           ],
           "sequentialminus": [
            [
             0,
             "#0d0887"
            ],
            [
             0.1111111111111111,
             "#46039f"
            ],
            [
             0.2222222222222222,
             "#7201a8"
            ],
            [
             0.3333333333333333,
             "#9c179e"
            ],
            [
             0.4444444444444444,
             "#bd3786"
            ],
            [
             0.5555555555555556,
             "#d8576b"
            ],
            [
             0.6666666666666666,
             "#ed7953"
            ],
            [
             0.7777777777777778,
             "#fb9f3a"
            ],
            [
             0.8888888888888888,
             "#fdca26"
            ],
            [
             1,
             "#f0f921"
            ]
           ]
          },
          "colorway": [
           "#636efa",
           "#EF553B",
           "#00cc96",
           "#ab63fa",
           "#FFA15A",
           "#19d3f3",
           "#FF6692",
           "#B6E880",
           "#FF97FF",
           "#FECB52"
          ],
          "font": {
           "color": "#f2f5fa"
          },
          "geo": {
           "bgcolor": "rgb(17,17,17)",
           "lakecolor": "rgb(17,17,17)",
           "landcolor": "rgb(17,17,17)",
           "showlakes": true,
           "showland": true,
           "subunitcolor": "#506784"
          },
          "hoverlabel": {
           "align": "left"
          },
          "hovermode": "closest",
          "mapbox": {
           "style": "dark"
          },
          "paper_bgcolor": "rgb(17,17,17)",
          "plot_bgcolor": "rgb(17,17,17)",
          "polar": {
           "angularaxis": {
            "gridcolor": "#506784",
            "linecolor": "#506784",
            "ticks": ""
           },
           "bgcolor": "rgb(17,17,17)",
           "radialaxis": {
            "gridcolor": "#506784",
            "linecolor": "#506784",
            "ticks": ""
           }
          },
          "scene": {
           "xaxis": {
            "backgroundcolor": "rgb(17,17,17)",
            "gridcolor": "#506784",
            "gridwidth": 2,
            "linecolor": "#506784",
            "showbackground": true,
            "ticks": "",
            "zerolinecolor": "#C8D4E3"
           },
           "yaxis": {
            "backgroundcolor": "rgb(17,17,17)",
            "gridcolor": "#506784",
            "gridwidth": 2,
            "linecolor": "#506784",
            "showbackground": true,
            "ticks": "",
            "zerolinecolor": "#C8D4E3"
           },
           "zaxis": {
            "backgroundcolor": "rgb(17,17,17)",
            "gridcolor": "#506784",
            "gridwidth": 2,
            "linecolor": "#506784",
            "showbackground": true,
            "ticks": "",
            "zerolinecolor": "#C8D4E3"
           }
          },
          "shapedefaults": {
           "line": {
            "color": "#f2f5fa"
           }
          },
          "sliderdefaults": {
           "bgcolor": "#C8D4E3",
           "bordercolor": "rgb(17,17,17)",
           "borderwidth": 1,
           "tickwidth": 0
          },
          "ternary": {
           "aaxis": {
            "gridcolor": "#506784",
            "linecolor": "#506784",
            "ticks": ""
           },
           "baxis": {
            "gridcolor": "#506784",
            "linecolor": "#506784",
            "ticks": ""
           },
           "bgcolor": "rgb(17,17,17)",
           "caxis": {
            "gridcolor": "#506784",
            "linecolor": "#506784",
            "ticks": ""
           }
          },
          "title": {
           "x": 0.05
          },
          "updatemenudefaults": {
           "bgcolor": "#506784",
           "borderwidth": 0
          },
          "xaxis": {
           "automargin": true,
           "gridcolor": "#283442",
           "linecolor": "#506784",
           "ticks": "",
           "title": {
            "standoff": 15
           },
           "zerolinecolor": "#283442",
           "zerolinewidth": 2
          },
          "yaxis": {
           "automargin": true,
           "gridcolor": "#283442",
           "linecolor": "#506784",
           "ticks": "",
           "title": {
            "standoff": 15
           },
           "zerolinecolor": "#283442",
           "zerolinewidth": 2
          }
         }
        },
        "title": {
         "text": "Density of Total Returns After 1000 Runs"
        },
        "width": 800,
        "xaxis": {
         "tickformat": "0%",
         "title": {
          "text": "Total Return (%)"
         }
        },
        "yaxis": {
         "title": {
          "text": "Density"
         }
        }
       }
      }
     },
     "metadata": {},
     "output_type": "display_data"
    }
   ],
   "source": [
    "plotter.plot_return_distribution(mc_backtester)"
   ]
  },
  {
   "cell_type": "markdown",
   "id": "e2d5f368",
   "metadata": {},
   "source": [
    "![Distribution](img/img4.png)"
   ]
  },
  {
   "cell_type": "markdown",
   "id": "9fc4dd77",
   "metadata": {},
   "source": [
    "The probability metrics make this robustness explicit. Out of 1,000 runs, the strategy outperformed HODL in 99% of cases, doubled its returns in 59%, and tripled them in 8%. Put differently, under realistic trading costs and slippage, the probability of meaningful underperformance was negligible."
   ]
  },
  {
   "cell_type": "markdown",
   "id": "5444984b",
   "metadata": {},
   "source": [
    "# Conclusion"
   ]
  },
  {
   "cell_type": "markdown",
   "id": "daa5881b",
   "metadata": {},
   "source": [
    "The results demonstrate that regime-based strategies, such as those powered by Hidden Markov Models, can offer meaningful improvements over passive HODLing in volatile markets like Bitcoin. Across 1,000 Monte Carlo runs, the HMM strategy showed nearly double the returns of HODLing, a Sharpe ratio close to 2, and significantly lower drawdowns, highlighting its robustness and risk-awareness.\n",
    "\n",
    "Of course, no model guarantees future success. Market dynamics evolve. But, since the model trades on the spot market with a maximum of one trade per day to avoid churn and transaction costs are included in backtesting, many practical trading frictions (such as fees, slippage, and liquidity) are already accounted for. What remains are the broader challenges of live deployment: unexpected regime shifts, structural changes in the Bitcoin market, and the discipline required to follow the model even during prolonged drawdowns. \n",
    "\n",
    "These findings suggest that **probabilistic modeling of hidden market states can be a powerful tool for crypto trading**, especially when paired with rigorous validation methods like Monte Carlo simulation. Moving forward, future work will focus on live backtesting, extending the framework to other assets, and exploring hybrid models that combine statistical regime detection with machine learning techniques. By doing so, we can better understand the practical viability of HMM-driven strategies and their potential role in modern quantitative trading."
   ]
  }
 ],
 "metadata": {
  "kernelspec": {
   "display_name": "venv",
   "language": "python",
   "name": "python3"
  },
  "language_info": {
   "codemirror_mode": {
    "name": "ipython",
    "version": 3
   },
   "file_extension": ".py",
   "mimetype": "text/x-python",
   "name": "python",
   "nbconvert_exporter": "python",
   "pygments_lexer": "ipython3",
   "version": "3.10.4"
  }
 },
 "nbformat": 4,
 "nbformat_minor": 5
}
